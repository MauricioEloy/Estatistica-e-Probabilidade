{
 "cells": [
  {
   "cell_type": "markdown",
   "metadata": {},
   "source": [
    "# Bibliotecas\n"
   ]
  },
  {
   "cell_type": "code",
   "execution_count": 3,
   "metadata": {
    "ExecuteTime": {
     "end_time": "2021-02-08T21:03:37.869464Z",
     "start_time": "2021-02-08T21:03:37.862111Z"
    }
   },
   "outputs": [],
   "source": [
    "import numpy as np"
   ]
  },
  {
   "cell_type": "markdown",
   "metadata": {},
   "source": [
    "# Medidas de tendência Central\n",
    "\n",
    "* Medidas de Centro.\n",
    "* Média Aritmética.\n",
    "* Média com tabelas de frequências\n",
    "* Média Ponderada.\n",
    "* Média Geométrica.\n",
    "* Mediana.\n",
    "* Moda.\n",
    "* A melhor medida de centro.\n",
    "* Assimetria."
   ]
  },
  {
   "cell_type": "markdown",
   "metadata": {},
   "source": [
    "## Medida de Centro\n",
    "\n",
    "Definição: Uma medida de centro é um valor no centro ou meio do conjunto de dados.\n",
    "\n",
    "* Existem várias maneiras de se determinar o centro de um conjunto de dados, temos:\n",
    "\n",
    "  * Média aritmética.\n",
    "  * Ponto médio.\n",
    "  * Média ponderada.\n",
    "  * Média geométrica.\n",
    "  * Mediana.\n",
    "  * Moda.\n",
    "  "
   ]
  },
  {
   "cell_type": "markdown",
   "metadata": {},
   "source": [
    "### Média aritmética\n",
    "É a soma de todos os valores do conjunto de dados dividido pelo número que representa a quantidade de valores (ou tamanho do conjunto de dados).\n",
    "\n",
    "#### Exemplo:  Se $x_1,x_2,\\cdots, x_n$ representa o conjunto de dados, então:\n",
    "\n",
    "$$\\overline{x}=\\dfrac{\\sum_{i=1}^nx_i}{n}$$\n",
    "\n",
    "* Se a média considera todos os elementos da população, então é chamada **Média populacional** ($\\mu$). \n",
    "\n",
    "* Se considera apenas um subgrupo da população, então  é chamada **Média amostral** ($\\overline{x}$)\n",
    "  * a média amostral é função da amostra (varia com a amostra).\n",
    "  * pode ser usada para estimar a média populacional (deve vir acompanhada de estimativa de erros, detalhes da amostragem, etc. )."
   ]
  },
  {
   "cell_type": "markdown",
   "metadata": {},
   "source": [
    "#### Exemplo (Médida populacional) \n",
    "Considere as possíveis notas de um conjunto de alunos $J=\\{0,1,2,\\cdots,10\\}$. (Ver Notas de aula). \n",
    "\n",
    "* Cálculo manual\n",
    "\\begin{equation}\n",
    "\\mu=\\dfrac{0+1+2+\\cdots+10}{11}=5\n",
    "\\end{equation}"
   ]
  },
  {
   "cell_type": "markdown",
   "metadata": {
    "ExecuteTime": {
     "end_time": "2021-02-06T00:49:50.409620Z",
     "start_time": "2021-02-06T00:49:50.387967Z"
    }
   },
   "source": [
    "#### Exemplo (Médida amostral) \n",
    "Considere que as notas $9,6, 5, 7, 2,$ foram obtidas de uma amostra aleatória sem reposição do conjunto de alunos do exercício anterior.\n",
    "\n",
    "* Cálculo manual\n",
    "\\begin{equation}\n",
    "\\overline{x}=\\dfrac{9+6+5+7+2}{5}=5.8\n",
    "\\end{equation}\n",
    "\n",
    "* Cálculo com Python (Apenas código apresentado. Você pode melhorar a apresentação dos resutlados com base nos códigos já apresentados.)\n"
   ]
  },
  {
   "cell_type": "code",
   "execution_count": 4,
   "metadata": {
    "ExecuteTime": {
     "end_time": "2021-02-08T21:03:39.361027Z",
     "start_time": "2021-02-08T21:03:39.349600Z"
    }
   },
   "outputs": [
    {
     "name": "stdout",
     "output_type": "stream",
     "text": [
      "5.0\n"
     ]
    }
   ],
   "source": [
    "np.random.seed(100)\n",
    "x = np.random.choice(11,5,replace=False)\n",
    "print(np.mean(x))"
   ]
  },
  {
   "cell_type": "code",
   "execution_count": null,
   "metadata": {},
   "outputs": [],
   "source": []
  },
  {
   "cell_type": "code",
   "execution_count": null,
   "metadata": {},
   "outputs": [],
   "source": []
  },
  {
   "cell_type": "code",
   "execution_count": null,
   "metadata": {},
   "outputs": [],
   "source": []
  }
 ],
 "metadata": {
  "kernelspec": {
   "display_name": "Python 3",
   "language": "python",
   "name": "python3"
  },
  "language_info": {
   "codemirror_mode": {
    "name": "ipython",
    "version": 3
   },
   "file_extension": ".py",
   "mimetype": "text/x-python",
   "name": "python",
   "nbconvert_exporter": "python",
   "pygments_lexer": "ipython3",
   "version": "3.8.5"
  },
  "nbTranslate": {
   "displayLangs": [
    "*"
   ],
   "hotkey": "alt-t",
   "langInMainMenu": true,
   "sourceLang": "en",
   "targetLang": "fr",
   "useGoogleTranslate": true
  },
  "toc": {
   "base_numbering": 1,
   "nav_menu": {},
   "number_sections": true,
   "sideBar": true,
   "skip_h1_title": false,
   "title_cell": "Table of Contents",
   "title_sidebar": "Contents",
   "toc_cell": false,
   "toc_position": {
    "height": "calc(100% - 180px)",
    "left": "10px",
    "top": "150px",
    "width": "220.333px"
   },
   "toc_section_display": true,
   "toc_window_display": true
  }
 },
 "nbformat": 4,
 "nbformat_minor": 4
}
