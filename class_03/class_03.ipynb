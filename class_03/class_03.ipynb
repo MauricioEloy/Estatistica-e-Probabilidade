{
 "cells": [
  {
   "cell_type": "markdown",
   "metadata": {},
   "source": [
    "# Bibliotecas\n"
   ]
  },
  {
   "cell_type": "code",
   "execution_count": 139,
   "metadata": {
    "ExecuteTime": {
     "end_time": "2021-02-09T17:50:16.204219Z",
     "start_time": "2021-02-09T17:50:16.196309Z"
    }
   },
   "outputs": [],
   "source": [
    "import numpy as np\n",
    "import pandas as pd\n",
    "import matplotlib.pyplot as plt\n",
    "%matplotlib inline\n",
    "import seaborn as sns\n",
    "from sklearn import datasets\n",
    "from scipy import stats\n",
    "\n",
    "import warnings\n",
    "warnings.filterwarnings(\"ignore\")"
   ]
  },
  {
   "cell_type": "markdown",
   "metadata": {},
   "source": [
    "**Medidas de tendência Central**\n",
    "\n",
    "* Medidas de Centro.\n",
    "* Média Aritmética.\n",
    "* Média com tabelas de frequências\n",
    "* Média Ponderada.\n",
    "* Média Geométrica.\n",
    "* Mediana.\n",
    "* Moda.\n",
    "* A melhor medida de centro.\n",
    "* Assimetria."
   ]
  },
  {
   "cell_type": "markdown",
   "metadata": {},
   "source": [
    "# Medida de Centro\n",
    "\n",
    "Definição: Uma medida de centro é um valor no centro ou meio do conjunto de dados.\n",
    "\n",
    "* Existem várias maneiras de se determinar o centro de um conjunto de dados, temos:\n",
    "\n",
    "  * Média aritmética.\n",
    "  * Ponto médio.\n",
    "  * Média ponderada.\n",
    "  * Média geométrica.\n",
    "  * Mediana.\n",
    "  * Moda.\n",
    "  "
   ]
  },
  {
   "cell_type": "markdown",
   "metadata": {},
   "source": [
    "# Média aritmética\n",
    "É a soma de todos os valores do conjunto de dados dividido pelo número que representa a quantidade de valores (ou tamanho do conjunto de dados).\n",
    "\n",
    "## Exemplo: \n",
    "Se $x_1,x_2,\\cdots, x_n$ representa o conjunto de dados, então:\n",
    "\n",
    "$$\\overline{x}=\\dfrac{\\sum_{i=1}^nx_i}{n}$$\n",
    "\n",
    "* Se a média considera todos os elementos da população, então é chamada **Média populacional** ($\\mu$). \n",
    "\n",
    "* Se considera apenas um subgrupo da população, então  é chamada **Média amostral** ($\\overline{x}$)\n",
    "  * a média amostral é função da amostra (varia com a amostra).\n",
    "  * pode ser usada para estimar a média populacional (deve vir acompanhada de estimativa de erros, detalhes da amostragem, etc. )."
   ]
  },
  {
   "cell_type": "markdown",
   "metadata": {},
   "source": [
    "## Exemplo (Médida populacional) \n",
    "Considere as possíveis notas de um conjunto de alunos $J=\\{0,1,2,\\cdots,10\\}$. (Ver Notas de aula). \n",
    "\n",
    "* Cálculo manual\n",
    "\\begin{equation}\n",
    "\\mu=\\dfrac{0+1+2+\\cdots+10}{11}=5\n",
    "\\end{equation}"
   ]
  },
  {
   "cell_type": "code",
   "execution_count": 97,
   "metadata": {
    "ExecuteTime": {
     "end_time": "2021-02-09T17:13:24.291901Z",
     "start_time": "2021-02-09T17:13:24.288051Z"
    }
   },
   "outputs": [
    {
     "name": "stdout",
     "output_type": "stream",
     "text": [
      "[0, 1, 2, 3, 4, 5, 6, 7, 8, 9, 10] --- 5.0\n"
     ]
    }
   ],
   "source": [
    "x = list(range(0,11,1))\n",
    "print(x,'---',np.mean(x))"
   ]
  },
  {
   "cell_type": "markdown",
   "metadata": {
    "ExecuteTime": {
     "end_time": "2021-02-06T00:49:50.409620Z",
     "start_time": "2021-02-06T00:49:50.387967Z"
    }
   },
   "source": [
    "## Exemplo (Médida amostral) \n",
    "Considere que as notas $9,6, 1, 5, 4,$ foram obtidas de uma amostra aleatória sem reposição do conjunto de alunos do exercício anterior.\n",
    "\n",
    "* Cálculo manual\n",
    "\\begin{equation}\n",
    "\\overline{x}=\\dfrac{9+6+1+5+4}{5}=5.0\n",
    "\\end{equation}\n",
    "\n",
    "* Cálculo com Python (Apenas código apresentado. Você pode melhorar a apresentação dos resutlados com base nos códigos já apresentados.)\n"
   ]
  },
  {
   "cell_type": "code",
   "execution_count": 98,
   "metadata": {
    "ExecuteTime": {
     "end_time": "2021-02-09T17:13:31.339347Z",
     "start_time": "2021-02-09T17:13:31.335296Z"
    }
   },
   "outputs": [
    {
     "name": "stdout",
     "output_type": "stream",
     "text": [
      "[9 6 1 5 4] --- 5.0\n"
     ]
    }
   ],
   "source": [
    "np.random.seed(100)\n",
    "x = np.random.choice(11,5,replace=False)\n",
    "print(x,'---',np.mean(x))"
   ]
  },
  {
   "cell_type": "markdown",
   "metadata": {},
   "source": [
    "## Exemplo\n",
    "\n",
    "Considere os dados:\n",
    "```python\n",
    "x= [4, 4, 7, 7, 8, 9, 10, 10, 10, 11, 11, 12, 12, 12, 12, 13, 13, 13, 13,\n",
    "    14, 14, 14, 14, 15, 15, 15, 16, 16, 17, 17, 17, 18, 18, 18, 18, 19, 19, 19,\n",
    "    20, 20, 20, 20, 20, 22, 23, 24, 24, 24, 24, 25]\n",
    "```\n",
    "Qual o respectivo valor da média desses dados (Faça cálculos manuais e com o Python)"
   ]
  },
  {
   "cell_type": "markdown",
   "metadata": {},
   "source": [
    "### Cálculo Manual\n",
    "\n",
    "A média é $$\\overline{x}_{}=\\dfrac{\\sum_{i=1}^nx_i}{n}=\\dfrac{4+4+7+\\cdots+24+24+25}{32}=15.4$$\n",
    "\n",
    "Nota: Existem valores repetidos. Logo, podemos construir a seguinte tabela de frequências:\n"
   ]
  },
  {
   "cell_type": "code",
   "execution_count": 4,
   "metadata": {
    "ExecuteTime": {
     "end_time": "2021-02-09T16:08:07.606479Z",
     "start_time": "2021-02-09T16:08:07.571599Z"
    }
   },
   "outputs": [
    {
     "data": {
      "text/html": [
       "<div>\n",
       "<style scoped>\n",
       "    .dataframe tbody tr th:only-of-type {\n",
       "        vertical-align: middle;\n",
       "    }\n",
       "\n",
       "    .dataframe tbody tr th {\n",
       "        vertical-align: top;\n",
       "    }\n",
       "\n",
       "    .dataframe thead th {\n",
       "        text-align: right;\n",
       "    }\n",
       "</style>\n",
       "<table border=\"1\" class=\"dataframe\">\n",
       "  <thead>\n",
       "    <tr style=\"text-align: right;\">\n",
       "      <th></th>\n",
       "      <th>num</th>\n",
       "      <th>freq</th>\n",
       "    </tr>\n",
       "  </thead>\n",
       "  <tbody>\n",
       "    <tr>\n",
       "      <th>0</th>\n",
       "      <td>4</td>\n",
       "      <td>2</td>\n",
       "    </tr>\n",
       "    <tr>\n",
       "      <th>1</th>\n",
       "      <td>7</td>\n",
       "      <td>2</td>\n",
       "    </tr>\n",
       "    <tr>\n",
       "      <th>2</th>\n",
       "      <td>8</td>\n",
       "      <td>1</td>\n",
       "    </tr>\n",
       "    <tr>\n",
       "      <th>3</th>\n",
       "      <td>9</td>\n",
       "      <td>1</td>\n",
       "    </tr>\n",
       "    <tr>\n",
       "      <th>4</th>\n",
       "      <td>10</td>\n",
       "      <td>3</td>\n",
       "    </tr>\n",
       "    <tr>\n",
       "      <th>5</th>\n",
       "      <td>11</td>\n",
       "      <td>2</td>\n",
       "    </tr>\n",
       "    <tr>\n",
       "      <th>6</th>\n",
       "      <td>12</td>\n",
       "      <td>4</td>\n",
       "    </tr>\n",
       "    <tr>\n",
       "      <th>7</th>\n",
       "      <td>13</td>\n",
       "      <td>4</td>\n",
       "    </tr>\n",
       "    <tr>\n",
       "      <th>8</th>\n",
       "      <td>14</td>\n",
       "      <td>4</td>\n",
       "    </tr>\n",
       "    <tr>\n",
       "      <th>9</th>\n",
       "      <td>15</td>\n",
       "      <td>3</td>\n",
       "    </tr>\n",
       "    <tr>\n",
       "      <th>10</th>\n",
       "      <td>16</td>\n",
       "      <td>2</td>\n",
       "    </tr>\n",
       "    <tr>\n",
       "      <th>11</th>\n",
       "      <td>17</td>\n",
       "      <td>3</td>\n",
       "    </tr>\n",
       "    <tr>\n",
       "      <th>12</th>\n",
       "      <td>18</td>\n",
       "      <td>4</td>\n",
       "    </tr>\n",
       "    <tr>\n",
       "      <th>13</th>\n",
       "      <td>19</td>\n",
       "      <td>3</td>\n",
       "    </tr>\n",
       "    <tr>\n",
       "      <th>14</th>\n",
       "      <td>20</td>\n",
       "      <td>5</td>\n",
       "    </tr>\n",
       "    <tr>\n",
       "      <th>15</th>\n",
       "      <td>22</td>\n",
       "      <td>1</td>\n",
       "    </tr>\n",
       "    <tr>\n",
       "      <th>16</th>\n",
       "      <td>23</td>\n",
       "      <td>1</td>\n",
       "    </tr>\n",
       "    <tr>\n",
       "      <th>17</th>\n",
       "      <td>24</td>\n",
       "      <td>4</td>\n",
       "    </tr>\n",
       "    <tr>\n",
       "      <th>18</th>\n",
       "      <td>25</td>\n",
       "      <td>1</td>\n",
       "    </tr>\n",
       "  </tbody>\n",
       "</table>\n",
       "</div>"
      ],
      "text/plain": [
       "    num  freq\n",
       "0     4     2\n",
       "1     7     2\n",
       "2     8     1\n",
       "3     9     1\n",
       "4    10     3\n",
       "5    11     2\n",
       "6    12     4\n",
       "7    13     4\n",
       "8    14     4\n",
       "9    15     3\n",
       "10   16     2\n",
       "11   17     3\n",
       "12   18     4\n",
       "13   19     3\n",
       "14   20     5\n",
       "15   22     1\n",
       "16   23     1\n",
       "17   24     4\n",
       "18   25     1"
      ]
     },
     "execution_count": 4,
     "metadata": {},
     "output_type": "execute_result"
    }
   ],
   "source": [
    "x= [4, 4, 7, 7, 8, 9, 10, 10, 10, 11, 11, 12, 12, 12, 12, 13, 13, 13, 13,\n",
    "    14, 14, 14, 14, 15, 15, 15, 16, 16, 17, 17, 17, 18, 18, 18, 18, 19, 19, 19,\n",
    "    20, 20, 20, 20, 20, 22, 23, 24, 24, 24, 24, 25]\n",
    "\n",
    "dc = {n:x.count(n) for n in x}\n",
    "df = pd.DataFrame(list(dc.items()),\n",
    "                 columns = ['num','freq'])\n",
    "df"
   ]
  },
  {
   "cell_type": "markdown",
   "metadata": {
    "ExecuteTime": {
     "end_time": "2021-02-08T21:57:19.670563Z",
     "start_time": "2021-02-08T21:57:19.666040Z"
    }
   },
   "source": [
    "Observe que: \n",
    "$$\\overline{x}_{}=\\dfrac{\\sum_{i=1}^nx_i}{n}=\\dfrac{\\sum_{k=1}^K x_k\\cdot f_k}{\\sum_{k=1}^K f_k}$$\n",
    "\n",
    "Logo, a média pode ser calculada (cálculos manuais sem usar o Python) por:\n",
    "\n",
    "$$\\overline{x}_{}=\\dfrac{4\\cdot 2+7\\cdot 2+8\\cdot 1+23\\cdot 1+24\\cdot 4+25\\cdot 1}{32}=\\dfrac{4\\cdot 2+7\\cdot 2+\\cdots+24\\cdot 4+25\\cdot 1}{2+2+\\cdots+4+1}=15.4$$"
   ]
  },
  {
   "cell_type": "markdown",
   "metadata": {},
   "source": [
    "### Usando o Python"
   ]
  },
  {
   "cell_type": "code",
   "execution_count": 5,
   "metadata": {
    "ExecuteTime": {
     "end_time": "2021-02-09T16:08:07.613798Z",
     "start_time": "2021-02-09T16:08:07.608830Z"
    }
   },
   "outputs": [
    {
     "data": {
      "text/plain": [
       "15.4"
      ]
     },
     "execution_count": 5,
     "metadata": {},
     "output_type": "execute_result"
    }
   ],
   "source": [
    "np.mean(x)"
   ]
  },
  {
   "cell_type": "markdown",
   "metadata": {},
   "source": [
    "## Exemplo (Leitura Recomendada)\n",
    "\n",
    "**Calculos manuais executados com o Python.**\n",
    "\n",
    "Este exemplo mostra uma possibilidade de uso do Python para executar os cálculos. O Python aqui é utilizado como uma planilha de cálculos. A seguinte notação é utilizada no código a seguir: \n",
    "\n",
    "* `xprod`: produto entre $x_i\\cdot f_i$."
   ]
  },
  {
   "cell_type": "code",
   "execution_count": 99,
   "metadata": {
    "ExecuteTime": {
     "end_time": "2021-02-09T17:14:31.583518Z",
     "start_time": "2021-02-09T17:14:31.568223Z"
    }
   },
   "outputs": [
    {
     "data": {
      "text/html": [
       "<div>\n",
       "<style scoped>\n",
       "    .dataframe tbody tr th:only-of-type {\n",
       "        vertical-align: middle;\n",
       "    }\n",
       "\n",
       "    .dataframe tbody tr th {\n",
       "        vertical-align: top;\n",
       "    }\n",
       "\n",
       "    .dataframe thead th {\n",
       "        text-align: right;\n",
       "    }\n",
       "</style>\n",
       "<table border=\"1\" class=\"dataframe\">\n",
       "  <thead>\n",
       "    <tr style=\"text-align: right;\">\n",
       "      <th></th>\n",
       "      <th>num</th>\n",
       "      <th>freq</th>\n",
       "      <th>xprod</th>\n",
       "    </tr>\n",
       "  </thead>\n",
       "  <tbody>\n",
       "    <tr>\n",
       "      <th>0</th>\n",
       "      <td>0</td>\n",
       "      <td>8</td>\n",
       "      <td>0</td>\n",
       "    </tr>\n",
       "    <tr>\n",
       "      <th>1</th>\n",
       "      <td>1</td>\n",
       "      <td>7</td>\n",
       "      <td>7</td>\n",
       "    </tr>\n",
       "    <tr>\n",
       "      <th>2</th>\n",
       "      <td>2</td>\n",
       "      <td>7</td>\n",
       "      <td>14</td>\n",
       "    </tr>\n",
       "    <tr>\n",
       "      <th>3</th>\n",
       "      <td>3</td>\n",
       "      <td>12</td>\n",
       "      <td>36</td>\n",
       "    </tr>\n",
       "    <tr>\n",
       "      <th>4</th>\n",
       "      <td>4</td>\n",
       "      <td>8</td>\n",
       "      <td>32</td>\n",
       "    </tr>\n",
       "    <tr>\n",
       "      <th>5</th>\n",
       "      <td>5</td>\n",
       "      <td>8</td>\n",
       "      <td>40</td>\n",
       "    </tr>\n",
       "  </tbody>\n",
       "</table>\n",
       "</div>"
      ],
      "text/plain": [
       "   num  freq  xprod\n",
       "0    0     8      0\n",
       "1    1     7      7\n",
       "2    2     7     14\n",
       "3    3    12     36\n",
       "4    4     8     32\n",
       "5    5     8     40"
      ]
     },
     "execution_count": 99,
     "metadata": {},
     "output_type": "execute_result"
    }
   ],
   "source": [
    "np.random.seed(421)\n",
    "x = np.random.choice(6,50,replace=True)\n",
    "x_list = list(np.sort(x))\n",
    "dc = {n:x_list.count(n) for n in x_list}\n",
    "df = pd.DataFrame(list(dc.items()),\n",
    "                 columns = ['num','freq'])\n",
    "df['xprod'] = df['num']*df['freq']\n",
    "df"
   ]
  },
  {
   "cell_type": "code",
   "execution_count": 100,
   "metadata": {
    "ExecuteTime": {
     "end_time": "2021-02-09T17:14:33.329153Z",
     "start_time": "2021-02-09T17:14:33.323623Z"
    }
   },
   "outputs": [
    {
     "name": "stdout",
     "output_type": "stream",
     "text": [
      "média: 2.58\n"
     ]
    }
   ],
   "source": [
    "print('média:',df['xprod'].sum()/df['freq'].sum())"
   ]
  },
  {
   "cell_type": "markdown",
   "metadata": {
    "ExecuteTime": {
     "end_time": "2021-02-08T22:13:55.203903Z",
     "start_time": "2021-02-08T22:13:55.191895Z"
    }
   },
   "source": [
    "Calculando usando as funções python"
   ]
  },
  {
   "cell_type": "code",
   "execution_count": 101,
   "metadata": {
    "ExecuteTime": {
     "end_time": "2021-02-09T17:14:34.378736Z",
     "start_time": "2021-02-09T17:14:34.375431Z"
    }
   },
   "outputs": [
    {
     "name": "stdout",
     "output_type": "stream",
     "text": [
      "média: 2.58\n"
     ]
    }
   ],
   "source": [
    "print('média:', np.mean(x))"
   ]
  },
  {
   "cell_type": "markdown",
   "metadata": {},
   "source": [
    "# Ponto médio\n",
    "\n",
    "Definição (Ponto médio): É a medida de centro que é exatamente o valor a meio caminho entre o maior e o menor valor do conjunto original dos dados. É obtido somando-se o maior valor e o menor valor e dividindo-se a soma por 2.\n",
    "\n",
    "* Se $x_1$ e $x_n$ , representam, respectivamente, o menor valor e o maior valor do conjunto de dados. Então, o *Ponto Médio* é calculado como:\n",
    "$$P_m=\\dfrac{x_1+x_n}{2}=\\dfrac{mínimo+máximo}{2}$$\n",
    "\n"
   ]
  },
  {
   "cell_type": "markdown",
   "metadata": {},
   "source": [
    "## Exemplo\n",
    "Calcular o ponto médio do seguinte conjunto de valores:"
   ]
  },
  {
   "cell_type": "code",
   "execution_count": 9,
   "metadata": {
    "ExecuteTime": {
     "end_time": "2021-02-09T16:08:07.675869Z",
     "start_time": "2021-02-09T16:08:07.668943Z"
    }
   },
   "outputs": [
    {
     "data": {
      "text/plain": [
       "array([54.34049418, 27.83693851, 42.45175907, 84.47761323,  0.47188562,\n",
       "       12.15691208, 67.07490847])"
      ]
     },
     "execution_count": 9,
     "metadata": {},
     "output_type": "execute_result"
    }
   ],
   "source": [
    "np.random.seed(100)\n",
    "x = np.random.random(7)*100\n",
    "x"
   ]
  },
  {
   "cell_type": "markdown",
   "metadata": {},
   "source": [
    " Cálculo manual"
   ]
  },
  {
   "cell_type": "code",
   "execution_count": 10,
   "metadata": {
    "ExecuteTime": {
     "end_time": "2021-02-09T16:08:07.683251Z",
     "start_time": "2021-02-09T16:08:07.678135Z"
    }
   },
   "outputs": [
    {
     "name": "stdout",
     "output_type": "stream",
     "text": [
      "O ponto médio é: 42.474749425543806\n"
     ]
    }
   ],
   "source": [
    "x.sort()\n",
    "print('O ponto médio é:', (np.min(x)+np.max(x))/2)"
   ]
  },
  {
   "cell_type": "markdown",
   "metadata": {},
   "source": [
    "# Média para distribuição de frequências com classes\n",
    "\n",
    "Definição (Média de distribuição de frequências): É a medida de centro que é obtida\n",
    "somando-se os produtos dos pontos médios de cada classe da tabela da distribuição de frequência por suas respectivas frequências e divide-se esta soma pela\n",
    "soma das frequências. Representamos esta média por:\n",
    "$$\\overline{x}=\\dfrac{\\sum_{i=1}^{k}f_i\\cdot Pm_i}{\\sum_{i=1}^kf_i}$$\n",
    "\n",
    "* $k=N_c$ representa o número de classes na Tabela de frequência.\n",
    "* $Pm_i$ é o ponto médio da i− ésima classe.\n",
    "* $f_i$ representa a frequência da  ésima classe. i−\n",
    "\n",
    "Nota: \n",
    "\n",
    "* Se todos os dados estão disponíveis em meio eletrônico, então podemos considerar a aplicação da fórmula sem classes. O Python pode fazer os cálculos rapidamente (ao menos para os casos aqui discutidos) sem necessidade de converter em distribuição de frequências. \n",
    "* Eventualmente, pode ser necessário a utiliação de intervalos de classe. \n",
    "  * Observação: a média dos dados (sem agrupamento) e a média dos dados agrupados podem não ser iguais. \n",
    "  * Informações são perdidas no agrupamento. "
   ]
  },
  {
   "cell_type": "markdown",
   "metadata": {},
   "source": [
    "##  Exemplo (Leitura Recomendada)\n",
    "Calculos manuais executados com o Python.\n",
    "\n",
    "Este exemplo mostra uma possibilidade de uso do R para executar os cálculos . O R aqui é utilizado como uma planilha de cálculos (Ver procedimento para construção de tabela de frequências). A seguinte notação é utilizada:\n",
    "\n",
    "* $pm_i$: ponto médio da classe.\n",
    "* $xprod=f_i\\cdot pm_i$: é o produto entre $f_i$ e $pm_i$ da fórmula anterior. "
   ]
  },
  {
   "cell_type": "code",
   "execution_count": 11,
   "metadata": {
    "ExecuteTime": {
     "end_time": "2021-02-09T16:08:07.710653Z",
     "start_time": "2021-02-09T16:08:07.685655Z"
    }
   },
   "outputs": [
    {
     "data": {
      "text/html": [
       "<div>\n",
       "<style scoped>\n",
       "    .dataframe tbody tr th:only-of-type {\n",
       "        vertical-align: middle;\n",
       "    }\n",
       "\n",
       "    .dataframe tbody tr th {\n",
       "        vertical-align: top;\n",
       "    }\n",
       "\n",
       "    .dataframe thead th {\n",
       "        text-align: right;\n",
       "    }\n",
       "</style>\n",
       "<table border=\"1\" class=\"dataframe\">\n",
       "  <thead>\n",
       "    <tr style=\"text-align: right;\">\n",
       "      <th></th>\n",
       "      <th>f_i</th>\n",
       "      <th>pm_i</th>\n",
       "      <th>xprod</th>\n",
       "    </tr>\n",
       "  </thead>\n",
       "  <tbody>\n",
       "    <tr>\n",
       "      <th>0.3 - 1.9</th>\n",
       "      <td>8</td>\n",
       "      <td>1.1</td>\n",
       "      <td>8.8</td>\n",
       "    </tr>\n",
       "    <tr>\n",
       "      <th>1.9 - 3.5</th>\n",
       "      <td>7</td>\n",
       "      <td>2.7</td>\n",
       "      <td>18.9</td>\n",
       "    </tr>\n",
       "    <tr>\n",
       "      <th>3.5 - 5.1</th>\n",
       "      <td>7</td>\n",
       "      <td>4.3</td>\n",
       "      <td>30.1</td>\n",
       "    </tr>\n",
       "    <tr>\n",
       "      <th>5.1 - 6.7</th>\n",
       "      <td>7</td>\n",
       "      <td>5.9</td>\n",
       "      <td>41.3</td>\n",
       "    </tr>\n",
       "    <tr>\n",
       "      <th>6.7 - 8.3</th>\n",
       "      <td>6</td>\n",
       "      <td>7.5</td>\n",
       "      <td>45.0</td>\n",
       "    </tr>\n",
       "    <tr>\n",
       "      <th>8.3 - 9.9</th>\n",
       "      <td>8</td>\n",
       "      <td>9.1</td>\n",
       "      <td>72.8</td>\n",
       "    </tr>\n",
       "    <tr>\n",
       "      <th>9.9 - 11.5</th>\n",
       "      <td>7</td>\n",
       "      <td>10.7</td>\n",
       "      <td>74.9</td>\n",
       "    </tr>\n",
       "  </tbody>\n",
       "</table>\n",
       "</div>"
      ],
      "text/plain": [
       "            f_i  pm_i  xprod\n",
       "0.3 - 1.9     8   1.1    8.8\n",
       "1.9 - 3.5     7   2.7   18.9\n",
       "3.5 - 5.1     7   4.3   30.1\n",
       "5.1 - 6.7     7   5.9   41.3\n",
       "6.7 - 8.3     6   7.5   45.0\n",
       "8.3 - 9.9     8   9.1   72.8\n",
       "9.9 - 11.5    7  10.7   74.9"
      ]
     },
     "execution_count": 11,
     "metadata": {},
     "output_type": "execute_result"
    }
   ],
   "source": [
    "np.random.seed(421)\n",
    "x = np.random.random(50)*10\n",
    "x = np.sort(x)\n",
    "N = len(x)\n",
    "Nc = np.floor(1 + 3.33*np.log10(N))\n",
    "A = np.round(np.max(x) - np.min(x),1)\n",
    "Ac = np.round(A/Nc,1)\n",
    "freq = []\n",
    "pm_i =[]\n",
    "valor = np.min(x)\n",
    "while valor < np.max(x):\n",
    "    freq.append('{} - {}'.format(round(valor,1),round(valor+Ac,1)))\n",
    "    pm_i.append(round((valor+(valor+Ac))/2,1))\n",
    "    valor += Ac\n",
    "freq_abs = pd.qcut(x,len(freq),labels=freq) \n",
    "f_i = pd.value_counts(freq_abs,sort=False)\n",
    "d = {'f_i':f_i, 'pm_i':pm_i}\n",
    "table = pd.DataFrame(data=d,columns=['f_i','pm_i'])\n",
    "table['xprod'] = table['f_i']*table['pm_i']\n",
    "table"
   ]
  },
  {
   "cell_type": "markdown",
   "metadata": {},
   "source": [
    "Cálculo manual executado em Python"
   ]
  },
  {
   "cell_type": "code",
   "execution_count": 12,
   "metadata": {
    "ExecuteTime": {
     "end_time": "2021-02-09T16:08:07.716261Z",
     "start_time": "2021-02-09T16:08:07.712369Z"
    }
   },
   "outputs": [
    {
     "name": "stdout",
     "output_type": "stream",
     "text": [
      "média: 5.835999999999999\n"
     ]
    }
   ],
   "source": [
    "print('média:',table['xprod'].sum()/table['f_i'].sum())"
   ]
  },
  {
   "cell_type": "markdown",
   "metadata": {
    "ExecuteTime": {
     "end_time": "2021-02-09T10:57:11.237713Z",
     "start_time": "2021-02-09T10:57:11.228034Z"
    }
   },
   "source": [
    "Cálculo utilizando as funções Python"
   ]
  },
  {
   "cell_type": "code",
   "execution_count": 13,
   "metadata": {
    "ExecuteTime": {
     "end_time": "2021-02-09T16:08:07.723628Z",
     "start_time": "2021-02-09T16:08:07.718415Z"
    }
   },
   "outputs": [
    {
     "name": "stdout",
     "output_type": "stream",
     "text": [
      "média: 5.054673731917774\n"
     ]
    }
   ],
   "source": [
    "print('média:', np.mean(x))"
   ]
  },
  {
   "cell_type": "markdown",
   "metadata": {},
   "source": [
    "# Considerações média\n",
    "\n",
    "* A medida mais popular e conhecida. Pode ser usada para ambos tipos de dados (discreto e contínuo) e escalas razão e intervalar. \n",
    "* A médida é uma boa medida quando o conjunto de dados contém valores que são relativamente igualmente espaçados e sem a presença de valores extremamente altos ou extremamente baixos.\n",
    "* Leva em conta todos os elementos na amostra (ou população).\n",
    "* Todos os elementos são ponderados igualmente.\n",
    "* Pode ser vista como o ponto de apoio que divide separa os valores em iguais pesos \n",
    "$(1 + 3 + 9 + 27 + 81 + 243 + 729) ÷ 7 = 156.1$. \n",
    "\n",
    "<center><img src=\"https://miro.medium.com/max/1511/1*gLkTe6Qxgw_VEfSHkWEpZA.png\" width=\"1000\" height=\"50\"></center>\n",
    "\n",
    "* Inapropriada para escalas ordinal ou nominal.\n",
    "* Inadequada quando existem valores extremamente altos ou extremamente baixos.  "
   ]
  },
  {
   "cell_type": "markdown",
   "metadata": {},
   "source": [
    "## Nota adicional (Ajuste de uma curva normal)\n",
    "\n",
    "Considere os dados de *iris*.\n",
    "\n",
    "Vamos investigar a variável *sepal length (cm)*."
   ]
  },
  {
   "cell_type": "code",
   "execution_count": 36,
   "metadata": {
    "ExecuteTime": {
     "end_time": "2021-02-09T16:25:53.096516Z",
     "start_time": "2021-02-09T16:25:53.074698Z"
    }
   },
   "outputs": [
    {
     "data": {
      "text/html": [
       "<div>\n",
       "<style scoped>\n",
       "    .dataframe tbody tr th:only-of-type {\n",
       "        vertical-align: middle;\n",
       "    }\n",
       "\n",
       "    .dataframe tbody tr th {\n",
       "        vertical-align: top;\n",
       "    }\n",
       "\n",
       "    .dataframe thead th {\n",
       "        text-align: right;\n",
       "    }\n",
       "</style>\n",
       "<table border=\"1\" class=\"dataframe\">\n",
       "  <thead>\n",
       "    <tr style=\"text-align: right;\">\n",
       "      <th></th>\n",
       "      <th>sepal length (cm)</th>\n",
       "      <th>sepal width (cm)</th>\n",
       "      <th>petal length (cm)</th>\n",
       "      <th>petal width (cm)</th>\n",
       "      <th>target</th>\n",
       "    </tr>\n",
       "  </thead>\n",
       "  <tbody>\n",
       "    <tr>\n",
       "      <th>0</th>\n",
       "      <td>5.1</td>\n",
       "      <td>3.5</td>\n",
       "      <td>1.4</td>\n",
       "      <td>0.2</td>\n",
       "      <td>0</td>\n",
       "    </tr>\n",
       "    <tr>\n",
       "      <th>1</th>\n",
       "      <td>4.9</td>\n",
       "      <td>3.0</td>\n",
       "      <td>1.4</td>\n",
       "      <td>0.2</td>\n",
       "      <td>0</td>\n",
       "    </tr>\n",
       "    <tr>\n",
       "      <th>2</th>\n",
       "      <td>4.7</td>\n",
       "      <td>3.2</td>\n",
       "      <td>1.3</td>\n",
       "      <td>0.2</td>\n",
       "      <td>0</td>\n",
       "    </tr>\n",
       "    <tr>\n",
       "      <th>3</th>\n",
       "      <td>4.6</td>\n",
       "      <td>3.1</td>\n",
       "      <td>1.5</td>\n",
       "      <td>0.2</td>\n",
       "      <td>0</td>\n",
       "    </tr>\n",
       "    <tr>\n",
       "      <th>4</th>\n",
       "      <td>5.0</td>\n",
       "      <td>3.6</td>\n",
       "      <td>1.4</td>\n",
       "      <td>0.2</td>\n",
       "      <td>0</td>\n",
       "    </tr>\n",
       "    <tr>\n",
       "      <th>...</th>\n",
       "      <td>...</td>\n",
       "      <td>...</td>\n",
       "      <td>...</td>\n",
       "      <td>...</td>\n",
       "      <td>...</td>\n",
       "    </tr>\n",
       "    <tr>\n",
       "      <th>145</th>\n",
       "      <td>6.7</td>\n",
       "      <td>3.0</td>\n",
       "      <td>5.2</td>\n",
       "      <td>2.3</td>\n",
       "      <td>2</td>\n",
       "    </tr>\n",
       "    <tr>\n",
       "      <th>146</th>\n",
       "      <td>6.3</td>\n",
       "      <td>2.5</td>\n",
       "      <td>5.0</td>\n",
       "      <td>1.9</td>\n",
       "      <td>2</td>\n",
       "    </tr>\n",
       "    <tr>\n",
       "      <th>147</th>\n",
       "      <td>6.5</td>\n",
       "      <td>3.0</td>\n",
       "      <td>5.2</td>\n",
       "      <td>2.0</td>\n",
       "      <td>2</td>\n",
       "    </tr>\n",
       "    <tr>\n",
       "      <th>148</th>\n",
       "      <td>6.2</td>\n",
       "      <td>3.4</td>\n",
       "      <td>5.4</td>\n",
       "      <td>2.3</td>\n",
       "      <td>2</td>\n",
       "    </tr>\n",
       "    <tr>\n",
       "      <th>149</th>\n",
       "      <td>5.9</td>\n",
       "      <td>3.0</td>\n",
       "      <td>5.1</td>\n",
       "      <td>1.8</td>\n",
       "      <td>2</td>\n",
       "    </tr>\n",
       "  </tbody>\n",
       "</table>\n",
       "<p>150 rows × 5 columns</p>\n",
       "</div>"
      ],
      "text/plain": [
       "     sepal length (cm)  sepal width (cm)  petal length (cm)  petal width (cm)  \\\n",
       "0                  5.1               3.5                1.4               0.2   \n",
       "1                  4.9               3.0                1.4               0.2   \n",
       "2                  4.7               3.2                1.3               0.2   \n",
       "3                  4.6               3.1                1.5               0.2   \n",
       "4                  5.0               3.6                1.4               0.2   \n",
       "..                 ...               ...                ...               ...   \n",
       "145                6.7               3.0                5.2               2.3   \n",
       "146                6.3               2.5                5.0               1.9   \n",
       "147                6.5               3.0                5.2               2.0   \n",
       "148                6.2               3.4                5.4               2.3   \n",
       "149                5.9               3.0                5.1               1.8   \n",
       "\n",
       "     target  \n",
       "0         0  \n",
       "1         0  \n",
       "2         0  \n",
       "3         0  \n",
       "4         0  \n",
       "..      ...  \n",
       "145       2  \n",
       "146       2  \n",
       "147       2  \n",
       "148       2  \n",
       "149       2  \n",
       "\n",
       "[150 rows x 5 columns]"
      ]
     },
     "execution_count": 36,
     "metadata": {},
     "output_type": "execute_result"
    }
   ],
   "source": [
    "iris = datasets.load_iris()\n",
    "df_iris = pd.DataFrame(data=iris['data'], columns=iris['feature_names'])\n",
    "df_iris['target'] = iris['target']\n",
    "\n",
    "df_iris"
   ]
  },
  {
   "cell_type": "markdown",
   "metadata": {},
   "source": [
    "* Curva com dados sepal length (cm)"
   ]
  },
  {
   "cell_type": "code",
   "execution_count": 37,
   "metadata": {
    "ExecuteTime": {
     "end_time": "2021-02-09T16:25:54.089042Z",
     "start_time": "2021-02-09T16:25:54.081762Z"
    }
   },
   "outputs": [
    {
     "data": {
      "text/plain": [
       "count    150.000000\n",
       "mean       5.843333\n",
       "std        0.828066\n",
       "min        4.300000\n",
       "25%        5.100000\n",
       "50%        5.800000\n",
       "75%        6.400000\n",
       "max        7.900000\n",
       "Name: sepal length (cm), dtype: float64"
      ]
     },
     "execution_count": 37,
     "metadata": {},
     "output_type": "execute_result"
    }
   ],
   "source": [
    "df_iris['sepal length (cm)'].describe()"
   ]
  },
  {
   "cell_type": "code",
   "execution_count": 41,
   "metadata": {
    "ExecuteTime": {
     "end_time": "2021-02-09T16:27:28.660149Z",
     "start_time": "2021-02-09T16:27:28.512023Z"
    }
   },
   "outputs": [
    {
     "data": {
      "image/png": "[encoded data removed]",
      "text/plain": [
       "<Figure size 432x288 with 1 Axes>"
      ]
     },
     "metadata": {},
     "output_type": "display_data"
    }
   ],
   "source": [
    "plt.hist(df_iris['sepal length (cm)'],density=True)\n",
    "plt.show()"
   ]
  },
  {
   "cell_type": "code",
   "execution_count": 38,
   "metadata": {
    "ExecuteTime": {
     "end_time": "2021-02-09T16:26:15.203448Z",
     "start_time": "2021-02-09T16:26:14.977907Z"
    }
   },
   "outputs": [
    {
     "data": {
      "image/png": "[encoded data removed]",
      "text/plain": [
       "<Figure size 576x504 with 2 Axes>"
      ]
     },
     "metadata": {},
     "output_type": "display_data"
    }
   ],
   "source": [
    "np.random.seed(19680801)\n",
    "\n",
    "mu = df_iris['sepal length (cm)'].mean()  \n",
    "sigma = df_iris['sepal length (cm)'].std()\n",
    "x = mu + sigma * np.random.randn(437)\n",
    "\n",
    "num_bins = 50\n",
    "\n",
    "sns.set(style=\"ticks\")\n",
    "\n",
    "q1 = np.percentile(x, 25)\n",
    "q2 = np.percentile(x, 50)\n",
    "q3 = np.percentile(x, 75)\n",
    "\n",
    "f, (ax_hist, ax_box) = plt.subplots(2, sharex=True,\n",
    "                                    gridspec_kw={\"height_ratios\": (.85, .15)}, figsize=(8,7))\n",
    "\n",
    "sns.distplot(x, ax=ax_hist, bins=20)\n",
    "plt.xlim(x.min()-3*sigma,x.max()+3*sigma)\n",
    "ax_hist.axvline(q1,color='b', label='te',linestyle='--')\n",
    "ax_hist.axvline(q2, color='black', linestyle='-')\n",
    "ax_hist.axvline(q3, color='b', linestyle='--')\n",
    "y = ((1 / (np.sqrt(2 * np.pi) * sigma)) *\n",
    "     np.exp(-0.5 * (1 / sigma * (bins - mu))**2))\n",
    "ax_hist.plot(bins, y, '--')\n",
    "\n",
    "sns.boxplot(x, ax=ax_box)\n",
    "ax_box.axvline(q1, color='b', linestyle='--')\n",
    "ax_box.axvline(q2, color='black', linestyle='-')\n",
    "ax_box.axvline(q3, color='b', linestyle='--')\n",
    "\n",
    "ax_box.set(yticks=[])\n",
    "sns.despine(ax=ax_hist)\n",
    "sns.despine(ax=ax_box, left=True)\n",
    "\n",
    "ax_hist.set(xlabel='')\n",
    "ax_box.set(xlabel='')\n",
    "\n",
    "plt.show()"
   ]
  },
  {
   "cell_type": "markdown",
   "metadata": {},
   "source": [
    "# Leitura Recomendada\n",
    "\n",
    "## Média Ponderada\n",
    "Definição (Média ponderada): É a medida de centro que é obtida somando-se os produtos dos valores dos dados por seus respectivas pesos e divide-se esta soma pela soma dos pesos. Representamos esta média por:\n",
    "$$\\overline{x}_w=\\dfrac{\\sum_{i=1}^{k}x_i\\cdot w_i}{\\sum_{i=1}^kw_i}$$\n",
    "\n",
    "* $k$ representa o número de valores nos seus dados.\n",
    "* $x_i$ representa cada i− ésimo valor nos dados.\n",
    "* $w_i$ representa o peso do i− ésimo valor.\n",
    "\n",
    "Utilizada quando os valores variam em grau de importância.\n"
   ]
  },
  {
   "cell_type": "markdown",
   "metadata": {},
   "source": [
    "### Exemplo\n",
    "\n",
    "Considere que os 5 alunos realizaram três provas. As notas das provas são números inteiros em $\\{0,1,\\cdots, 10\\}$. Cada uma das provas possui um grau de importância e são dados pela trinca ordenada $w=(1,2,3)$. Abaixo estão as respectivas notas e médias ponderadas para cada um dos alunos. \n"
   ]
  },
  {
   "cell_type": "code",
   "execution_count": 74,
   "metadata": {
    "ExecuteTime": {
     "end_time": "2021-02-09T16:49:41.092213Z",
     "start_time": "2021-02-09T16:49:41.078428Z"
    }
   },
   "outputs": [
    {
     "name": "stdout",
     "output_type": "stream",
     "text": [
      "As notas do aluno 1 são [8 8 3] e a média ponderada é 5.5\n",
      "As notas do aluno 2 são [7 7 0] e a média ponderada é 3.5\n",
      "As notas do aluno 3 são [10  4  2] e a média ponderada é 4.0\n",
      "As notas do aluno 4 são [5 2 2] e a média ponderada é 2.5\n",
      "As notas do aluno 5 são [2 1 0] e a média ponderada é 0.67\n"
     ]
    }
   ],
   "source": [
    "np.random.seed(100)\n",
    "for i in range(0,5,1):\n",
    "    x = np.random.choice(11,3)\n",
    "    w = [1,2,3]\n",
    "    xw = np.sum(x*w)/np.sum(w)\n",
    "    print('As notas do aluno',i+1,'são',x,'e a média ponderada é',round(xw,2))"
   ]
  },
  {
   "cell_type": "markdown",
   "metadata": {
    "ExecuteTime": {
     "end_time": "2021-02-09T16:38:30.078493Z",
     "start_time": "2021-02-09T16:38:30.070015Z"
    }
   },
   "source": [
    "* Nota: Faça os cálculos (manuais) das médias ponderadas e verique os resultados acima. "
   ]
  },
  {
   "cell_type": "markdown",
   "metadata": {},
   "source": [
    "## Média Geométrica\n",
    "\n",
    "Definição (Média Geométrica): A média geométrica de um conjunto de números positivos é a medida de centro que é obtida com o produto de todos os membros do conjunto elevado ao inverso do número de valores. A média geométrica é definida por:\n",
    "\n",
    "$$\\overline{x}_g=\\sqrt[n]{\\prod_{i=1}^{n}x_i}$$\n",
    "\n",
    "* n representa o número de valores nos seus dados.\n",
    "* $x_i$ representa cada i− ésimo valor nos dados.\n"
   ]
  },
  {
   "cell_type": "markdown",
   "metadata": {},
   "source": [
    "### Exemplo\n",
    "Três notas de provas $\\{0,1,\\cdots, 10\\}$.\n"
   ]
  },
  {
   "cell_type": "code",
   "execution_count": 73,
   "metadata": {
    "ExecuteTime": {
     "end_time": "2021-02-09T16:49:33.124987Z",
     "start_time": "2021-02-09T16:49:33.103069Z"
    }
   },
   "outputs": [
    {
     "name": "stdout",
     "output_type": "stream",
     "text": [
      "As notas do aluno 1 são [8 8 3] e a média geométrica é 5.77\n",
      "As notas do aluno 2 são [7 7 0] e a média geométrica é 0.0\n",
      "As notas do aluno 3 são [10  4  2] e a média geométrica é 4.31\n",
      "As notas do aluno 4 são [5 2 2] e a média geométrica é 2.71\n",
      "As notas do aluno 5 são [2 1 0] e a média geométrica é 0.0\n"
     ]
    }
   ],
   "source": [
    "np.random.seed(100)\n",
    "for i in range(0,5,1):\n",
    "    x = np.random.choice(11,3)\n",
    "    xg = (np.prod(x))**(1/(len(x)))\n",
    "    print('As notas do aluno',i+1,'são',x,'e a média geométrica é',round(xg,2))"
   ]
  },
  {
   "cell_type": "markdown",
   "metadata": {
    "ExecuteTime": {
     "end_time": "2021-02-09T16:49:28.331486Z",
     "start_time": "2021-02-09T16:49:28.322141Z"
    }
   },
   "source": [
    "* Relação entre a média geométrica e a média aritmética\n",
    "dos logaritmos é dada por: $$\\overline{x}_g=\\sqrt[n]{\\prod_{i=1}^{n}x_i}=\\exp\\left(\\dfrac{1}{n}\\sum_{i=1}^nx_i\\right)$$\n",
    "* Supondo X, Y dois conjuntos com n dados cada. Então: \n",
    "$$\\overline{\\left(\\dfrac{x}{y}\\right)_g}=\\dfrac{\\overline{x}_g}{\\overline{y}_g}$$"
   ]
  },
  {
   "cell_type": "markdown",
   "metadata": {},
   "source": [
    "# Mediana\n",
    "\n",
    "Definição: A mediana de um conjunto de dados é a medida de centro que corresponde ao valor de do meio quando a amostra é ordenada. A mediana em geral é representada por $\\tilde{x}$ ou $x_{med}$ . Se o número de valores for par, a mediana é encontrada pelo cálculo da média dos dois números do meio.\n",
    "\n",
    "## Exemplo\n",
    "Dados não agrupados ou em tabelas de frequência sem intervalos de classes:\n",
    "\n",
    "  * Número ímpar de elementos $x=[ 79, 87, 8, 24, 67]$\n",
    "    * ordenar: $x=[ 8, 24, 67, 87, 79]$\n",
    "    * mediana: $\\tilde{x}=67$\n",
    "    * Usando Python"
   ]
  },
  {
   "cell_type": "code",
   "execution_count": 93,
   "metadata": {
    "ExecuteTime": {
     "end_time": "2021-02-09T17:05:11.955652Z",
     "start_time": "2021-02-09T17:05:11.945525Z"
    }
   },
   "outputs": [
    {
     "name": "stdout",
     "output_type": "stream",
     "text": [
      "[ 8 24 67 79 87] --- 5 elementos, com mediana: 67.0\n"
     ]
    }
   ],
   "source": [
    "np.random.seed(100)\n",
    "x = np.random.choice(101,5)\n",
    "x = np.sort(x)\n",
    "median = np.median(x)\n",
    "print(x, '---', len(x),'elementos, com mediana:', median)"
   ]
  },
  {
   "cell_type": "markdown",
   "metadata": {
    "ExecuteTime": {
     "end_time": "2021-02-09T17:06:26.363242Z",
     "start_time": "2021-02-09T17:06:26.353110Z"
    }
   },
   "source": [
    "  * Número par de elementos $x=[87, 8,67, 24]$\n",
    "    * ordenar: $x=[ 8, 24, 67, 87]$\n",
    "    * mediana: $\\tilde{x}=\\dfrac{24+67}{2}=45.5$\n",
    "    * Usando Python"
   ]
  },
  {
   "cell_type": "code",
   "execution_count": 94,
   "metadata": {
    "ExecuteTime": {
     "end_time": "2021-02-09T17:05:47.984777Z",
     "start_time": "2021-02-09T17:05:47.972478Z"
    }
   },
   "outputs": [
    {
     "name": "stdout",
     "output_type": "stream",
     "text": [
      "[ 8 24 67 87] --- 4 elementos, com mediana: 45.5\n"
     ]
    }
   ],
   "source": [
    "np.random.seed(100)\n",
    "x = np.random.choice(101,4)\n",
    "x = np.sort(x)\n",
    "median = np.median(x)\n",
    "print(x, '---', len(x),'elementos, com mediana:', median)"
   ]
  },
  {
   "cell_type": "markdown",
   "metadata": {
    "ExecuteTime": {
     "end_time": "2021-02-09T17:07:14.169401Z",
     "start_time": "2021-02-09T17:07:14.158528Z"
    }
   },
   "source": [
    "## Exemplo \n",
    "Dados agrupados ou em tabelas de frequência sem intervalos de classes.\n",
    "  \n",
    "  * Identico ao anterior: contar os elementos e aplicar a regra anterior. "
   ]
  },
  {
   "cell_type": "markdown",
   "metadata": {},
   "source": [
    "## Dados agrupados em tabelas de frequências \n",
    "\n",
    "A mediana é o valor aproximado para a mediana calculada com dados não agrupados em classes. É interessante usar a frequência acumulada.   \n",
    "\n",
    " $$\\tilde{x}=l_{k}+\\dfrac{\\dfrac{N}{2}-Fa_{k-1}}{f_{k}}\\cdot c_{k}=L_{k-1}+\\dfrac{\\dfrac{N}{2}-Fa_{k-1}}{f_{k}}\\cdot c_{k}$$\n",
    "em que:\n",
    "* $k$ é o número da classe mediana, \n",
    "* $l_k$ é o limite inferior da classe mediana, \n",
    "* $L_{k-1}$ é o limite superior da classe anterior a classe mediana, \n",
    "* $c_k=L_K-l_{k}$\n",
    "\n",
    "Nota: a mediana também é o percentil de número 50, o segundo quartil ou o quinto decil (Ver próximas anotações para obter as fórmulas). \n",
    "\n",
    "* Outra forma (equivalente à fórmula anterior): \n",
    "\n",
    "$$ \\tilde{x}=l_{k}+x=L_{k-1}+x\\hspace{0.5cm}$$\n",
    "em que o valor $x$ é determinado com base em uma \"Regra de três\":\n",
    "\n",
    "$\\begin{array}{lll}x &--& (N/2--Fa_{k})\\\\ c_{k} &-& f_{k}\\end{array}$\n",
    "\n",
    "Nota: Ver anotações de sala de aula."
   ]
  },
  {
   "cell_type": "markdown",
   "metadata": {},
   "source": [
    "### Exemplo\n",
    "Dados iris Sepal.Length\n",
    "\n",
    "Aqui a tabela de distribuição de frequências foi construída com o auxílio do Python."
   ]
  },
  {
   "cell_type": "code",
   "execution_count": 105,
   "metadata": {
    "ExecuteTime": {
     "end_time": "2021-02-09T17:22:06.485090Z",
     "start_time": "2021-02-09T17:22:06.454524Z"
    }
   },
   "outputs": [
    {
     "data": {
      "text/html": [
       "<div>\n",
       "<style scoped>\n",
       "    .dataframe tbody tr th:only-of-type {\n",
       "        vertical-align: middle;\n",
       "    }\n",
       "\n",
       "    .dataframe tbody tr th {\n",
       "        vertical-align: top;\n",
       "    }\n",
       "\n",
       "    .dataframe thead th {\n",
       "        text-align: right;\n",
       "    }\n",
       "</style>\n",
       "<table border=\"1\" class=\"dataframe\">\n",
       "  <thead>\n",
       "    <tr style=\"text-align: right;\">\n",
       "      <th></th>\n",
       "      <th>f_i</th>\n",
       "      <th>pm_i</th>\n",
       "      <th>Fa_i</th>\n",
       "    </tr>\n",
       "  </thead>\n",
       "  <tbody>\n",
       "    <tr>\n",
       "      <th>4.3 - 4.7</th>\n",
       "      <td>22</td>\n",
       "      <td>4.5</td>\n",
       "      <td>22</td>\n",
       "    </tr>\n",
       "    <tr>\n",
       "      <th>4.7 - 5.1</th>\n",
       "      <td>19</td>\n",
       "      <td>4.9</td>\n",
       "      <td>41</td>\n",
       "    </tr>\n",
       "    <tr>\n",
       "      <th>5.1 - 5.5</th>\n",
       "      <td>11</td>\n",
       "      <td>5.3</td>\n",
       "      <td>52</td>\n",
       "    </tr>\n",
       "    <tr>\n",
       "      <th>5.5 - 5.9</th>\n",
       "      <td>21</td>\n",
       "      <td>5.7</td>\n",
       "      <td>73</td>\n",
       "    </tr>\n",
       "    <tr>\n",
       "      <th>5.9 - 6.3</th>\n",
       "      <td>10</td>\n",
       "      <td>6.1</td>\n",
       "      <td>83</td>\n",
       "    </tr>\n",
       "    <tr>\n",
       "      <th>6.3 - 6.7</th>\n",
       "      <td>25</td>\n",
       "      <td>6.5</td>\n",
       "      <td>108</td>\n",
       "    </tr>\n",
       "    <tr>\n",
       "      <th>6.7 - 7.1</th>\n",
       "      <td>12</td>\n",
       "      <td>6.9</td>\n",
       "      <td>120</td>\n",
       "    </tr>\n",
       "    <tr>\n",
       "      <th>7.1 - 7.5</th>\n",
       "      <td>13</td>\n",
       "      <td>7.3</td>\n",
       "      <td>133</td>\n",
       "    </tr>\n",
       "    <tr>\n",
       "      <th>7.5 - 7.9</th>\n",
       "      <td>17</td>\n",
       "      <td>7.7</td>\n",
       "      <td>150</td>\n",
       "    </tr>\n",
       "  </tbody>\n",
       "</table>\n",
       "</div>"
      ],
      "text/plain": [
       "           f_i  pm_i  Fa_i\n",
       "4.3 - 4.7   22   4.5    22\n",
       "4.7 - 5.1   19   4.9    41\n",
       "5.1 - 5.5   11   5.3    52\n",
       "5.5 - 5.9   21   5.7    73\n",
       "5.9 - 6.3   10   6.1    83\n",
       "6.3 - 6.7   25   6.5   108\n",
       "6.7 - 7.1   12   6.9   120\n",
       "7.1 - 7.5   13   7.3   133\n",
       "7.5 - 7.9   17   7.7   150"
      ]
     },
     "execution_count": 105,
     "metadata": {},
     "output_type": "execute_result"
    }
   ],
   "source": [
    "iris = datasets.load_iris()\n",
    "df_iris = pd.DataFrame(data=iris['data'],columns=iris['feature_names'])\n",
    "df_iris['target'] = iris['target']\n",
    "x = df_iris['sepal length (cm)']\n",
    "x = np.sort(x)\n",
    "N = len(x)\n",
    "Nc = np.floor(1 + 3.33*np.log10(N))\n",
    "A = np.round(np.max(x) - np.min(x),1)\n",
    "Ac = np.round(A/Nc,1)\n",
    "freq = []\n",
    "pm_i =[]\n",
    "valor = np.min(x)\n",
    "while valor < np.max(x):\n",
    "    freq.append('{} - {}'.format(round(valor,1),round(valor+Ac,1)))\n",
    "    pm_i.append(round((valor+(valor+Ac))/2,1))\n",
    "    valor += Ac\n",
    "freq_abs = pd.qcut(x,len(freq),labels=freq) \n",
    "f_i = pd.value_counts(freq_abs,sort=False)\n",
    "Fa_i=np.cumsum(f_i)\n",
    "d = {'f_i':f_i, 'pm_i':pm_i, 'Fa_i':Fa_i}\n",
    "table = pd.DataFrame(data=d,columns=['f_i','pm_i','Fa_i'])\n",
    "table"
   ]
  },
  {
   "cell_type": "code",
   "execution_count": 110,
   "metadata": {
    "ExecuteTime": {
     "end_time": "2021-02-09T17:26:58.698599Z",
     "start_time": "2021-02-09T17:26:58.689432Z"
    }
   },
   "outputs": [
    {
     "name": "stdout",
     "output_type": "stream",
     "text": [
      "50% das observações ocorre quando Fa_i >= 75.0 isto é, na classe 5\n"
     ]
    }
   ],
   "source": [
    "print('50% das observações ocorre quando Fa_i >=',table['f_i'].sum()/2, 'isto é, na classe 5')"
   ]
  },
  {
   "cell_type": "markdown",
   "metadata": {},
   "source": [
    "* Note que o código não calcula a classe que contém a mediana. Os cálculos foram manuais (o Python foi usado para auxiliar o cálculo apenas).\n",
    "\n",
    "* Ao aplicar a fórmula com $k=5$ (a quinta classe contém a mediana) temos: \n",
    " $$\\tilde{x}=l_{5}+\\dfrac{\\dfrac{N}{2}-Fa_{5-1}}{f_{5}}\\cdot c_{5}=5.9+\\dfrac{\\dfrac{150}{2}-73}{10}\\cdot 0.4=5.98$$\n",
    " \n",
    "* Usando o Python"
   ]
  },
  {
   "cell_type": "code",
   "execution_count": 115,
   "metadata": {
    "ExecuteTime": {
     "end_time": "2021-02-09T17:34:01.361084Z",
     "start_time": "2021-02-09T17:34:01.351327Z"
    }
   },
   "outputs": [
    {
     "data": {
      "text/plain": [
       "5.8"
      ]
     },
     "execution_count": 115,
     "metadata": {},
     "output_type": "execute_result"
    }
   ],
   "source": [
    "np.median(x)"
   ]
  },
  {
   "cell_type": "markdown",
   "metadata": {},
   "source": [
    "# Moda\n",
    "\n",
    "Definição: A Moda de um conjunto de dados é o valor que aparece com mais frequência. \n",
    "\n",
    "* Quando dois valores ocorrem com a mesma maior frequência, cada um é uma moda e o conjunto de dados é bimodal.\n",
    "* Quando mais de dois valores ocorrem com a mesma maior frequência, cada um é uma moda e o conjunto de dados é multimodal.\n",
    "* Quando nenhum valor se repete, dizemos que não há moda.\n",
    "* OBS: Dentre as medidas centrais a Moda é a única que podem ser usada com dados nominais (nomes, rótulos, categorias).\n",
    "* Se os dados não possuem intervalo de classe, então a moda é calculada por observação direta do maior valor. \n",
    "* Quando os dados possuem intervalos de classe, a fórmula a seguir deve ser aplicada:\n",
    "\n",
    "  $$\\hat{x}=l_k+\\dfrac{\\Delta_1}{\\Delta_1+\\Delta_2}\\cdot c_k\\hspace{1.0cm}\\textrm{com}\\hspace{1.0cm}\\begin{array}{l}\\Delta_1=f_k-f_{k-1}\\\\ \\Delta_2=f_{k}-f_{k+1}\\end{array}$$\n",
    "k: é o número da classe modal."
   ]
  },
  {
   "cell_type": "markdown",
   "metadata": {},
   "source": [
    "## Exemplo\n",
    "Os dados $x=[1,3,5,10]$ não possuem moda, pois todos os valores possuem frequências idênticas \n",
    "\n",
    "## Exemplo: \n",
    "Os dados $x=[1,1,1,3,3,5]$ possuem moda $\\hat{x}=1$ pois $x=1$ é a maior frequência. \n",
    "\n",
    "## Exemplo: \n",
    "Amostra aleatória com reposição"
   ]
  },
  {
   "cell_type": "code",
   "execution_count": 137,
   "metadata": {
    "ExecuteTime": {
     "end_time": "2021-02-09T17:47:14.486994Z",
     "start_time": "2021-02-09T17:47:14.475729Z"
    }
   },
   "outputs": [
    {
     "data": {
      "text/plain": [
       "{0: 9, 1: 10, 2: 9, 3: 14, 4: 14, 5: 5, 6: 6, 7: 11, 8: 6, 9: 8, 10: 8}"
      ]
     },
     "execution_count": 137,
     "metadata": {},
     "output_type": "execute_result"
    }
   ],
   "source": [
    "np.random.seed(4200)\n",
    "x = np.random.choice(11,100)\n",
    "x_list = list(x)\n",
    "x_list.sort()\n",
    "d = {x:x_list.count(x) for x in x_list}  \n",
    "d"
   ]
  },
  {
   "cell_type": "markdown",
   "metadata": {},
   "source": [
    "$\\hat{x}=3$ e $\\hat{x}=4$ são moda.\n",
    "\n",
    "* A função para calcular a moda depende da biblioteca `scipy`, deste modo, vamos utilizar o a importação \n",
    "```python\n",
    "from scipy import stats\n",
    "moda = stats.mode(listaItens)\n",
    "print(moda)\n",
    "```"
   ]
  },
  {
   "cell_type": "code",
   "execution_count": 142,
   "metadata": {
    "ExecuteTime": {
     "end_time": "2021-02-09T17:53:29.367118Z",
     "start_time": "2021-02-09T17:53:29.361075Z"
    }
   },
   "outputs": [
    {
     "name": "stdout",
     "output_type": "stream",
     "text": [
      "ModeResult(mode=array([3]), count=array([14]))\n"
     ]
    }
   ],
   "source": [
    "moda = stats.mode(x)\n",
    "print(moda)"
   ]
  },
  {
   "cell_type": "markdown",
   "metadata": {
    "ExecuteTime": {
     "end_time": "2021-02-09T17:54:05.871261Z",
     "start_time": "2021-02-09T17:54:05.862918Z"
    }
   },
   "source": [
    "## Exemplo\n",
    "Dados **iris Sepal.Length** \n",
    "\n",
    "O código para gerar os resultados abaixo já foram apresentados nas seções anteriores. "
   ]
  },
  {
   "cell_type": "code",
   "execution_count": 145,
   "metadata": {
    "ExecuteTime": {
     "end_time": "2021-02-09T17:55:49.923075Z",
     "start_time": "2021-02-09T17:55:49.870503Z"
    }
   },
   "outputs": [
    {
     "data": {
      "text/html": [
       "<div>\n",
       "<style scoped>\n",
       "    .dataframe tbody tr th:only-of-type {\n",
       "        vertical-align: middle;\n",
       "    }\n",
       "\n",
       "    .dataframe tbody tr th {\n",
       "        vertical-align: top;\n",
       "    }\n",
       "\n",
       "    .dataframe thead th {\n",
       "        text-align: right;\n",
       "    }\n",
       "</style>\n",
       "<table border=\"1\" class=\"dataframe\">\n",
       "  <thead>\n",
       "    <tr style=\"text-align: right;\">\n",
       "      <th></th>\n",
       "      <th>f_i</th>\n",
       "      <th>pm_i</th>\n",
       "      <th>Fa_i</th>\n",
       "    </tr>\n",
       "  </thead>\n",
       "  <tbody>\n",
       "    <tr>\n",
       "      <th>4.3 - 4.7</th>\n",
       "      <td>22</td>\n",
       "      <td>4.5</td>\n",
       "      <td>22</td>\n",
       "    </tr>\n",
       "    <tr>\n",
       "      <th>4.7 - 5.1</th>\n",
       "      <td>19</td>\n",
       "      <td>4.9</td>\n",
       "      <td>41</td>\n",
       "    </tr>\n",
       "    <tr>\n",
       "      <th>5.1 - 5.5</th>\n",
       "      <td>11</td>\n",
       "      <td>5.3</td>\n",
       "      <td>52</td>\n",
       "    </tr>\n",
       "    <tr>\n",
       "      <th>5.5 - 5.9</th>\n",
       "      <td>21</td>\n",
       "      <td>5.7</td>\n",
       "      <td>73</td>\n",
       "    </tr>\n",
       "    <tr>\n",
       "      <th>5.9 - 6.3</th>\n",
       "      <td>10</td>\n",
       "      <td>6.1</td>\n",
       "      <td>83</td>\n",
       "    </tr>\n",
       "    <tr>\n",
       "      <th>6.3 - 6.7</th>\n",
       "      <td>25</td>\n",
       "      <td>6.5</td>\n",
       "      <td>108</td>\n",
       "    </tr>\n",
       "    <tr>\n",
       "      <th>6.7 - 7.1</th>\n",
       "      <td>12</td>\n",
       "      <td>6.9</td>\n",
       "      <td>120</td>\n",
       "    </tr>\n",
       "    <tr>\n",
       "      <th>7.1 - 7.5</th>\n",
       "      <td>13</td>\n",
       "      <td>7.3</td>\n",
       "      <td>133</td>\n",
       "    </tr>\n",
       "    <tr>\n",
       "      <th>7.5 - 7.9</th>\n",
       "      <td>17</td>\n",
       "      <td>7.7</td>\n",
       "      <td>150</td>\n",
       "    </tr>\n",
       "  </tbody>\n",
       "</table>\n",
       "</div>"
      ],
      "text/plain": [
       "           f_i  pm_i  Fa_i\n",
       "4.3 - 4.7   22   4.5    22\n",
       "4.7 - 5.1   19   4.9    41\n",
       "5.1 - 5.5   11   5.3    52\n",
       "5.5 - 5.9   21   5.7    73\n",
       "5.9 - 6.3   10   6.1    83\n",
       "6.3 - 6.7   25   6.5   108\n",
       "6.7 - 7.1   12   6.9   120\n",
       "7.1 - 7.5   13   7.3   133\n",
       "7.5 - 7.9   17   7.7   150"
      ]
     },
     "execution_count": 145,
     "metadata": {},
     "output_type": "execute_result"
    }
   ],
   "source": [
    "iris = datasets.load_iris()\n",
    "df_iris = pd.DataFrame(data=iris['data'],columns=iris['feature_names'])\n",
    "df_iris['target'] = iris['target']\n",
    "x = df_iris['sepal length (cm)']\n",
    "x = np.sort(x)\n",
    "N = len(x)\n",
    "Nc = np.floor(1 + 3.33*np.log10(N))\n",
    "A = np.round(np.max(x) - np.min(x),1)\n",
    "Ac = np.round(A/Nc,1)\n",
    "freq = []\n",
    "pm_i =[]\n",
    "valor = np.min(x)\n",
    "while valor < np.max(x):\n",
    "    freq.append('{} - {}'.format(round(valor,1),round(valor+Ac,1)))\n",
    "    pm_i.append(round((valor+(valor+Ac))/2,1))\n",
    "    valor += Ac\n",
    "freq_abs = pd.qcut(x,len(freq),labels=freq) \n",
    "f_i = pd.value_counts(freq_abs,sort=False)\n",
    "Fa_i=np.cumsum(f_i)\n",
    "d = {'f_i':f_i, 'pm_i':pm_i, 'Fa_i':Fa_i}\n",
    "df = pd.DataFrame(data=d,columns=['f_i','pm_i','Fa_i'])\n",
    "df"
   ]
  },
  {
   "cell_type": "markdown",
   "metadata": {},
   "source": [
    "A Classe modal é a 6,onde a maior frequenca é 25\n",
    "\n",
    "Baseado na distribuição de frequências acima, verifica-se que a $k=6$ (a classe que contém a moda é a sexta classe). Logo, temos: \n",
    "\n",
    "$$\\hat{x}=l_6+\\dfrac{\\Delta_1}{\\Delta_1+\\Delta_2}\\cdot c_6=l_6+\\dfrac{f_6-f_5}{(f_6-f_5)+(f_6-f_7)}\\cdot c_6=$$\n",
    "$$=6.3 + \\dfrac{25-10}{25-10+25-12}\\cdot 0.4=6.51$$"
   ]
  },
  {
   "cell_type": "code",
   "execution_count": null,
   "metadata": {
    "ExecuteTime": {
     "end_time": "2021-02-09T18:02:14.281831Z",
     "start_time": "2021-02-09T18:02:14.277964Z"
    }
   },
   "outputs": [],
   "source": []
  },
  {
   "cell_type": "code",
   "execution_count": null,
   "metadata": {},
   "outputs": [],
   "source": []
  },
  {
   "cell_type": "code",
   "execution_count": null,
   "metadata": {},
   "outputs": [],
   "source": []
  },
  {
   "cell_type": "markdown",
   "metadata": {
    "ExecuteTime": {
     "end_time": "2021-02-09T16:28:49.273037Z",
     "start_time": "2021-02-09T16:28:49.254073Z"
    }
   },
   "source": [
    "# Atividades\n",
    "\n",
    "## Exercício (Autoavaliação) \n",
    "Considerar os códigos apresentados em aula e *set.seed(1000000)*\n",
    "\n",
    "* Gerar 5 amostras 10 elementos cada (sem reposição) com valores entre 0 e 100. Montar uma contendo: as amostras,  os valores mínimo e máximo,  ponto médio, amplitude total e média. Quantas notas estão acima do valor médio em cada caso?\n",
    "\n",
    "* (Usar 01 casa decimal) Gerar 5 amostras 10 elementos cada com distribuição normal com média 170 e variância 10. Montar uma contendo: as amostras,  os valores mínimo e máximo,  ponto médio, amplitude total e média. Quantas notas estão acima do valor médio em cada caso?\n",
    "\n",
    "* Gerar 500 amostras 30 elementos com distribuição normal com média 170 e variância 10. Fazer histogramas:  das médias, dos pontos médios e das amplitudes totais. Sobrepor um polígono de frequências em cada um dos casos. \n"
   ]
  },
  {
   "cell_type": "markdown",
   "metadata": {
    "ExecuteTime": {
     "end_time": "2021-02-09T11:15:25.144375Z",
     "start_time": "2021-02-09T11:15:24.558505Z"
    }
   },
   "source": [
    "## Exercício (Manual)\n",
    "(Dados de *iris - Sepal.Length*)\n",
    "\n",
    "Calcular a média, a amplitude total, os pontos médios para o seguinte conjunto de dados, apresentado em forma de distribuição de frequências. Apresentar o histograma e o polígono de frequências.\n"
   ]
  },
  {
   "cell_type": "markdown",
   "metadata": {},
   "source": [
    "* A média acima é uma estatística ou um parâmetro? É possível obter a média populacional ?\n",
    "* É possível calcular  a média (amostral) verdadeira dos dados, apenas com base na tabela acima? \n",
    "* Calcule a diferença entre a média amostral (usando Python) e o valor da média proveniente da tabela de distribuição de frequências acima. \n",
    "* Qual a percentagem de flores com *Sepal.Length* acima de 6.7 ?\n",
    "* Qual a percentagem de flores com *Sepal.Length* abaixo de 5.1 ?"
   ]
  },
  {
   "cell_type": "markdown",
   "metadata": {},
   "source": [
    "## Exercício\n",
    "O  código \n",
    "```python\n",
    "np.random.seed(100)\n",
    "for i in range(0,5,1):\n",
    "    x = np.random.choice(11,3)\n",
    "    w = [1,2,3]\n",
    "    xw = np.sum(x*w)/np.sum(w)\n",
    "    print('As notas do aluno',i+1,'são',x,'e a média ponderada é',round(xw,1))\n",
    "```\n",
    "Gera amostras de notas em $\\{0,1,..10\\}$ e calcula a respectiva média ponderada  $w=(1,2,3)$. Você deve:\n",
    "\n",
    "* Gerar as 50 notas. \n",
    "* Construir a distribuição de frequências das médias ponderadas das notas. \n",
    "* Fazer um histrograma e um polígono de frequências."
   ]
  },
  {
   "cell_type": "markdown",
   "metadata": {},
   "source": [
    "## Exercício (Considerar a atividade anterior) \n",
    "Comparar as médias aritmética, geométrica e harmônica."
   ]
  },
  {
   "cell_type": "markdown",
   "metadata": {},
   "source": [
    "## Leituras adicionais\n",
    "\n",
    "* média aritmética (https://en.wikipedia.org/wiki/Arithmetic_mean).\n",
    "* média geométrica (https://en.wikipedia.org/wiki/Geometric_mean)\n",
    "* média harmônica (https://en.wikipedia.org/wiki/Harmonic_mean)."
   ]
  },
  {
   "cell_type": "markdown",
   "metadata": {},
   "source": [
    "## Exercício\n",
    "\n",
    "* Cite duas  aplicações da média aritmética;\n",
    "* Cite duas  aplicações da média geométrica;\n",
    "* Cite duas  aplicações da média harmônica;"
   ]
  },
  {
   "cell_type": "markdown",
   "metadata": {},
   "source": [
    "## Exercício: \n",
    "Considere os dados *iris* e *Sepal.Width*: Construir a tabela de distribuição de frequências (completa), fazer histograma, polígono de frequências e ogiva. Calcular amplitude total, média, ponto médio e mediana. \n",
    "  * Use Python e obtenha o valor da mediana baseado no conjunto de dados. Compare com os resultados obtidos usando a tabela de frequências."
   ]
  },
  {
   "cell_type": "code",
   "execution_count": null,
   "metadata": {},
   "outputs": [],
   "source": []
  }
 ],
 "metadata": {
  "kernelspec": {
   "display_name": "Python 3",
   "language": "python",
   "name": "python3"
  },
  "language_info": {
   "codemirror_mode": {
    "name": "ipython",
    "version": 3
   },
   "file_extension": ".py",
   "mimetype": "text/x-python",
   "name": "python",
   "nbconvert_exporter": "python",
   "pygments_lexer": "ipython3",
   "version": "3.8.5"
  },
  "nbTranslate": {
   "displayLangs": [
    "*"
   ],
   "hotkey": "alt-t",
   "langInMainMenu": true,
   "sourceLang": "en",
   "targetLang": "fr",
   "useGoogleTranslate": true
  },
  "toc": {
   "base_numbering": 1,
   "nav_menu": {},
   "number_sections": true,
   "sideBar": true,
   "skip_h1_title": false,
   "title_cell": "Table of Contents",
   "title_sidebar": "Contents",
   "toc_cell": false,
   "toc_position": {
    "height": "calc(100% - 180px)",
    "left": "10px",
    "top": "150px",
    "width": "220.333px"
   },
   "toc_section_display": true,
   "toc_window_display": false
  }
 },
 "nbformat": 4,
 "nbformat_minor": 4
}
