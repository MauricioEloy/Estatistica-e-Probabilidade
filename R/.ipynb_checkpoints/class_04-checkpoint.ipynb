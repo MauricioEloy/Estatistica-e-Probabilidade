{
 "cells": [
  {
   "cell_type": "markdown",
   "metadata": {},
   "source": [
    "**Medida de Variação**\n",
    "* amplitude\n",
    "* variância e desvio padrão\n",
    "* desvio médio\n",
    "* coeficiente de variação\n",
    "* medidas quantílicas\n",
    "* box-plot"
   ]
  },
  {
   "cell_type": "markdown",
   "metadata": {},
   "source": [
    "# Considerações iniciais\n",
    "* O conceito de variação é um conceito que necessita de um referencial..\n",
    "* Uma variação é grande ou pequena quando avaliada em relação a alguma medida.\n",
    "* Uma medida muito usada para se avaliar a variação de um conjunto de dados é a média dos dados\n",
    "* Se diz que há uma grande variação acima ou abaixo da média, adota-se a média como referencial.\n",
    "\n",
    "## Exemplo\n",
    "\n",
    "Considere os conjuntos de dados "
   ]
  },
  {
   "cell_type": "code",
   "execution_count": 2,
   "metadata": {},
   "outputs": [],
   "source": [
    "x1=c(1,9,1,9,2,8)\n",
    "x2=c(2,8,2,8,3,7)\n",
    "x3=c(3,7,5,5,4,6)"
   ]
  },
  {
   "cell_type": "markdown",
   "metadata": {},
   "source": [
    "Os  três conjuntos de dados possuem mesma média, mas diferentes aplitudes totais. "
   ]
  },
  {
   "cell_type": "code",
   "execution_count": 4,
   "metadata": {},
   "outputs": [
    {
     "name": "stdout",
     "output_type": "stream",
     "text": [
      "As médias das colunas são:\n",
      " "
     ]
    },
    {
     "data": {
      "text/html": [
       "<dl class=dl-horizontal>\n",
       "\t<dt>x1</dt>\n",
       "\t\t<dd>5</dd>\n",
       "\t<dt>x2</dt>\n",
       "\t\t<dd>5</dd>\n",
       "\t<dt>x3</dt>\n",
       "\t\t<dd>5</dd>\n",
       "</dl>\n"
      ],
      "text/latex": [
       "\\begin{description*}\n",
       "\\item[x1] 5\n",
       "\\item[x2] 5\n",
       "\\item[x3] 5\n",
       "\\end{description*}\n"
      ],
      "text/markdown": [
       "x1\n",
       ":   5x2\n",
       ":   5x3\n",
       ":   5\n",
       "\n"
      ],
      "text/plain": [
       "x1 x2 x3 \n",
       " 5  5  5 "
      ]
     },
     "metadata": {},
     "output_type": "display_data"
    },
    {
     "name": "stdout",
     "output_type": "stream",
     "text": [
      "As amplitudes são:\n",
      " "
     ]
    },
    {
     "data": {
      "text/html": [
       "<table>\n",
       "<thead><tr><th scope=col>x1</th><th scope=col>x2</th><th scope=col>x3</th></tr></thead>\n",
       "<tbody>\n",
       "\t<tr><td>1</td><td>2</td><td>3</td></tr>\n",
       "\t<tr><td>9</td><td>8</td><td>7</td></tr>\n",
       "</tbody>\n",
       "</table>\n"
      ],
      "text/latex": [
       "\\begin{tabular}{lll}\n",
       " x1 & x2 & x3\\\\\n",
       "\\hline\n",
       "\t 1 & 2 & 3\\\\\n",
       "\t 9 & 8 & 7\\\\\n",
       "\\end{tabular}\n"
      ],
      "text/markdown": [
       "\n",
       "| x1 | x2 | x3 |\n",
       "|---|---|---|\n",
       "| 1 | 2 | 3 |\n",
       "| 9 | 8 | 7 |\n",
       "\n"
      ],
      "text/plain": [
       "     x1 x2 x3\n",
       "[1,] 1  2  3 \n",
       "[2,] 9  8  7 "
      ]
     },
     "metadata": {},
     "output_type": "display_data"
    }
   ],
   "source": [
    "x=data.frame(cbind(x1,x2,x3))\n",
    "cat(\"As médias das colunas são:\\n \")\n",
    "sapply(x,FUN=mean)\n",
    "\n",
    "cat(\"As amplitudes são:\\n \")\n",
    "sapply(x,FUN=range)"
   ]
  },
  {
   "cell_type": "markdown",
   "metadata": {},
   "source": [
    "Comparando três conjuntos de dados:\n",
    "\n",
    "* Comparação usando a média: x = 6 para os três conjuntos de dados.\n",
    "* Analisando somente a média concluiremos que os três conjuntos são iguais.\n",
    "* Analisando a variabilidade dos dados baseados na amplitude total, concluiremos que:\n",
    "  * O primeiro tem maior variabilidade\n",
    "  * O segundo tem uma variabilidade intermediária\n",
    "  * O terceiro tem a menor variabilidade"
   ]
  },
  {
   "cell_type": "markdown",
   "metadata": {},
   "source": [
    "# Variância e Desvio Padrão\n",
    "\n",
    "A variância é uma média dos desvios (ao quadrado) dos valores de uma amostra em relação a média da amostra.  \n",
    "\n",
    "Se $(x_1,\\cdots, x_n)$ é uma amostra, a variância da amostra é calculado por:\n",
    "\n",
    "\\begin{equation}\n",
    "s^2=\\dfrac{\\sum_{i=1}^{n}(x_i-\\overline{x})^2}{n-1}\n",
    "\\end{equation}\n",
    "\n",
    "em que $\\overline{x}$ é a média amostral, dada por: \n",
    "\\begin{equation}\n",
    "\\overline{x}=\\dfrac{\\sum_{i=1}^{n}x_i}{n}\n",
    "\\end{equation}\n",
    "\n",
    "O desvio padrão é dado pela raíz quadrada da variância: \n",
    "\n",
    "\\begin{equation}\n",
    "s=\\sqrt{\\dfrac{\\sum_{i=1}^{n}(x_i-\\overline{x})^2}{n-1}}\n",
    "\\end{equation}\n",
    "\n",
    "## Exemplo \n",
    "Os dados $x=[0,2,3,5,5]$ possuem variância dada por: \n",
    "\n",
    "\\begin{equation}\n",
    "s^2=\\dfrac{(0-5)^2+(2-5)^2+(3-5)^2+(5-5)^2+(5-5)^2}{5-1}=4.5\n",
    "\\end{equation}\n",
    "\n",
    "O desvio padrão é a raíz quadrada da variância $s=2.121$. \n",
    "\n",
    "## Exemplo \n",
    "Amostra aleatória com reposição em $\\{0,...,10\\}$\n",
    "\n",
    "* Aplicação das fórmulas por meio do R (Cálculos usando R e usando funções do R)"
   ]
  },
  {
   "cell_type": "code",
   "execution_count": 5,
   "metadata": {},
   "outputs": [
    {
     "data": {
      "text/html": [
       "<table>\n",
       "<thead><tr><th scope=col>x</th><th scope=col>diff</th><th scope=col>diff2</th></tr></thead>\n",
       "<tbody>\n",
       "\t<tr><td> 3   </td><td>-2.4 </td><td> 5.76</td></tr>\n",
       "\t<tr><td>10   </td><td> 4.6 </td><td>21.16</td></tr>\n",
       "\t<tr><td> 5   </td><td>-0.4 </td><td> 0.16</td></tr>\n",
       "\t<tr><td> 2   </td><td>-3.4 </td><td>11.56</td></tr>\n",
       "\t<tr><td> 7   </td><td> 1.6 </td><td> 2.56</td></tr>\n",
       "</tbody>\n",
       "</table>\n"
      ],
      "text/latex": [
       "\\begin{tabular}{lll}\n",
       " x & diff & diff2\\\\\n",
       "\\hline\n",
       "\t  3    & -2.4  &  5.76\\\\\n",
       "\t 10    &  4.6  & 21.16\\\\\n",
       "\t  5    & -0.4  &  0.16\\\\\n",
       "\t  2    & -3.4  & 11.56\\\\\n",
       "\t  7    &  1.6  &  2.56\\\\\n",
       "\\end{tabular}\n"
      ],
      "text/markdown": [
       "\n",
       "| x | diff | diff2 |\n",
       "|---|---|---|\n",
       "|  3    | -2.4  |  5.76 |\n",
       "| 10    |  4.6  | 21.16 |\n",
       "|  5    | -0.4  |  0.16 |\n",
       "|  2    | -3.4  | 11.56 |\n",
       "|  7    |  1.6  |  2.56 |\n",
       "\n"
      ],
      "text/plain": [
       "     x  diff diff2\n",
       "[1,]  3 -2.4  5.76\n",
       "[2,] 10  4.6 21.16\n",
       "[3,]  5 -0.4  0.16\n",
       "[4,]  2 -3.4 11.56\n",
       "[5,]  7  1.6  2.56"
      ]
     },
     "metadata": {},
     "output_type": "display_data"
    },
    {
     "name": "stdout",
     "output_type": "stream",
     "text": [
      "A variância é 10.3O desvio padrão é 3.705851"
     ]
    }
   ],
   "source": [
    "set.seed(1000)\n",
    "x=sample(0:10,5,replace=TRUE)\n",
    "diff=(x-mean(x))\n",
    "diff2=diff^2\n",
    "cbind(x,diff,diff2)\n",
    "cat(\"A variância é\", sum(diff2)/(n=length(x)-1))\n",
    "s=sqrt(sum(diff2)/(n-1))\n",
    "cat(\"O desvio padrão é\", s)"
   ]
  },
  {
   "cell_type": "markdown",
   "metadata": {},
   "source": [
    "* Utilizando funções do R"
   ]
  },
  {
   "cell_type": "code",
   "execution_count": 6,
   "metadata": {},
   "outputs": [
    {
     "name": "stdout",
     "output_type": "stream",
     "text": [
      "A variância é 10.3O desvio padrão é 3.209361"
     ]
    }
   ],
   "source": [
    "set.seed(1000); x=sample(0:10,5,replace=TRUE)\n",
    "cat(\"A variância é\",var(x))\n",
    "cat(\"O desvio padrão é\", sd(x))"
   ]
  },
  {
   "cell_type": "markdown",
   "metadata": {},
   "source": [
    "## Exemplo\n",
    "Usando R para conjunto de dados com mais elementos e várias colunas de interesse. \n",
    "\n",
    "* Note que há valores chamados \"NA\" que precisam ser removidos. \n",
    "* O cálculo manual pode ser executado identicamente aos itens anteriores. \n",
    "* Abaixo o foco é o uso das funções do R. "
   ]
  },
  {
   "cell_type": "code",
   "execution_count": 7,
   "metadata": {},
   "outputs": [
    {
     "data": {
      "text/html": [
       "153"
      ],
      "text/latex": [
       "153"
      ],
      "text/markdown": [
       "153"
      ],
      "text/plain": [
       "[1] 153"
      ]
     },
     "metadata": {},
     "output_type": "display_data"
    },
    {
     "data": {
      "text/html": [
       "<table>\n",
       "<thead><tr><th scope=col>Ozone</th><th scope=col>Solar.R</th><th scope=col>Wind</th><th scope=col>Temp</th><th scope=col>Month</th><th scope=col>Day</th></tr></thead>\n",
       "<tbody>\n",
       "\t<tr><td>41  </td><td>190 </td><td> 7.4</td><td>67  </td><td>5   </td><td>1   </td></tr>\n",
       "\t<tr><td>36  </td><td>118 </td><td> 8.0</td><td>72  </td><td>5   </td><td>2   </td></tr>\n",
       "\t<tr><td>12  </td><td>149 </td><td>12.6</td><td>74  </td><td>5   </td><td>3   </td></tr>\n",
       "\t<tr><td>18  </td><td>313 </td><td>11.5</td><td>62  </td><td>5   </td><td>4   </td></tr>\n",
       "\t<tr><td>NA  </td><td> NA </td><td>14.3</td><td>56  </td><td>5   </td><td>5   </td></tr>\n",
       "\t<tr><td>28  </td><td> NA </td><td>14.9</td><td>66  </td><td>5   </td><td>6   </td></tr>\n",
       "</tbody>\n",
       "</table>\n"
      ],
      "text/latex": [
       "\\begin{tabular}{r|llllll}\n",
       " Ozone & Solar.R & Wind & Temp & Month & Day\\\\\n",
       "\\hline\n",
       "\t 41   & 190  &  7.4 & 67   & 5    & 1   \\\\\n",
       "\t 36   & 118  &  8.0 & 72   & 5    & 2   \\\\\n",
       "\t 12   & 149  & 12.6 & 74   & 5    & 3   \\\\\n",
       "\t 18   & 313  & 11.5 & 62   & 5    & 4   \\\\\n",
       "\t NA   &  NA  & 14.3 & 56   & 5    & 5   \\\\\n",
       "\t 28   &  NA  & 14.9 & 66   & 5    & 6   \\\\\n",
       "\\end{tabular}\n"
      ],
      "text/markdown": [
       "\n",
       "| Ozone | Solar.R | Wind | Temp | Month | Day |\n",
       "|---|---|---|---|---|---|\n",
       "| 41   | 190  |  7.4 | 67   | 5    | 1    |\n",
       "| 36   | 118  |  8.0 | 72   | 5    | 2    |\n",
       "| 12   | 149  | 12.6 | 74   | 5    | 3    |\n",
       "| 18   | 313  | 11.5 | 62   | 5    | 4    |\n",
       "| NA   |  NA  | 14.3 | 56   | 5    | 5    |\n",
       "| 28   |  NA  | 14.9 | 66   | 5    | 6    |\n",
       "\n"
      ],
      "text/plain": [
       "  Ozone Solar.R Wind Temp Month Day\n",
       "1 41    190      7.4 67   5     1  \n",
       "2 36    118      8.0 72   5     2  \n",
       "3 12    149     12.6 74   5     3  \n",
       "4 18    313     11.5 62   5     4  \n",
       "5 NA     NA     14.3 56   5     5  \n",
       "6 28     NA     14.9 66   5     6  "
      ]
     },
     "metadata": {},
     "output_type": "display_data"
    },
    {
     "data": {
      "text/html": [
       "<dl class=dl-horizontal>\n",
       "\t<dt>Ozone</dt>\n",
       "\t\t<dd>42.1293103448276</dd>\n",
       "\t<dt>Solar.R</dt>\n",
       "\t\t<dd>185.931506849315</dd>\n",
       "\t<dt>Wind</dt>\n",
       "\t\t<dd>9.95751633986928</dd>\n",
       "\t<dt>Temp</dt>\n",
       "\t\t<dd>77.8823529411765</dd>\n",
       "\t<dt>Month</dt>\n",
       "\t\t<dd>6.99346405228758</dd>\n",
       "\t<dt>Day</dt>\n",
       "\t\t<dd>15.8039215686275</dd>\n",
       "</dl>\n"
      ],
      "text/latex": [
       "\\begin{description*}\n",
       "\\item[Ozone] 42.1293103448276\n",
       "\\item[Solar.R] 185.931506849315\n",
       "\\item[Wind] 9.95751633986928\n",
       "\\item[Temp] 77.8823529411765\n",
       "\\item[Month] 6.99346405228758\n",
       "\\item[Day] 15.8039215686275\n",
       "\\end{description*}\n"
      ],
      "text/markdown": [
       "Ozone\n",
       ":   42.1293103448276Solar.R\n",
       ":   185.931506849315Wind\n",
       ":   9.95751633986928Temp\n",
       ":   77.8823529411765Month\n",
       ":   6.99346405228758Day\n",
       ":   15.8039215686275\n",
       "\n"
      ],
      "text/plain": [
       "     Ozone    Solar.R       Wind       Temp      Month        Day \n",
       " 42.129310 185.931507   9.957516  77.882353   6.993464  15.803922 "
      ]
     },
     "metadata": {},
     "output_type": "display_data"
    },
    {
     "data": {
      "text/html": [
       "<dl class=dl-horizontal>\n",
       "\t<dt>Ozone</dt>\n",
       "\t\t<dd>1088.20052473763</dd>\n",
       "\t<dt>Solar.R</dt>\n",
       "\t\t<dd>8110.51941426547</dd>\n",
       "\t<dt>Wind</dt>\n",
       "\t\t<dd>12.4115385276918</dd>\n",
       "\t<dt>Temp</dt>\n",
       "\t\t<dd>89.5913312693499</dd>\n",
       "\t<dt>Month</dt>\n",
       "\t\t<dd>2.00653594771242</dd>\n",
       "\t<dt>Day</dt>\n",
       "\t\t<dd>78.5797213622291</dd>\n",
       "</dl>\n"
      ],
      "text/latex": [
       "\\begin{description*}\n",
       "\\item[Ozone] 1088.20052473763\n",
       "\\item[Solar.R] 8110.51941426547\n",
       "\\item[Wind] 12.4115385276918\n",
       "\\item[Temp] 89.5913312693499\n",
       "\\item[Month] 2.00653594771242\n",
       "\\item[Day] 78.5797213622291\n",
       "\\end{description*}\n"
      ],
      "text/markdown": [
       "Ozone\n",
       ":   1088.20052473763Solar.R\n",
       ":   8110.51941426547Wind\n",
       ":   12.4115385276918Temp\n",
       ":   89.5913312693499Month\n",
       ":   2.00653594771242Day\n",
       ":   78.5797213622291\n",
       "\n"
      ],
      "text/plain": [
       "      Ozone     Solar.R        Wind        Temp       Month         Day \n",
       "1088.200525 8110.519414   12.411539   89.591331    2.006536   78.579721 "
      ]
     },
     "metadata": {},
     "output_type": "display_data"
    },
    {
     "data": {
      "text/html": [
       "<dl class=dl-horizontal>\n",
       "\t<dt>Ozone</dt>\n",
       "\t\t<dd>32.987884514434</dd>\n",
       "\t<dt>Solar.R</dt>\n",
       "\t\t<dd>90.0584222283817</dd>\n",
       "\t<dt>Wind</dt>\n",
       "\t\t<dd>3.5230013522126</dd>\n",
       "\t<dt>Temp</dt>\n",
       "\t\t<dd>9.46526974097146</dd>\n",
       "\t<dt>Month</dt>\n",
       "\t\t<dd>1.41652248401231</dd>\n",
       "\t<dt>Day</dt>\n",
       "\t\t<dd>8.86452036842542</dd>\n",
       "</dl>\n"
      ],
      "text/latex": [
       "\\begin{description*}\n",
       "\\item[Ozone] 32.987884514434\n",
       "\\item[Solar.R] 90.0584222283817\n",
       "\\item[Wind] 3.5230013522126\n",
       "\\item[Temp] 9.46526974097146\n",
       "\\item[Month] 1.41652248401231\n",
       "\\item[Day] 8.86452036842542\n",
       "\\end{description*}\n"
      ],
      "text/markdown": [
       "Ozone\n",
       ":   32.987884514434Solar.R\n",
       ":   90.0584222283817Wind\n",
       ":   3.5230013522126Temp\n",
       ":   9.46526974097146Month\n",
       ":   1.41652248401231Day\n",
       ":   8.86452036842542\n",
       "\n"
      ],
      "text/plain": [
       "    Ozone   Solar.R      Wind      Temp     Month       Day \n",
       "32.987885 90.058422  3.523001  9.465270  1.416522  8.864520 "
      ]
     },
     "metadata": {},
     "output_type": "display_data"
    }
   ],
   "source": [
    "x=airquality\n",
    "nrow(x)#número de linhas\n",
    "head(x)\n",
    "\n",
    "sapply(x,FUN=mean, na.rm=T)\n",
    "\n",
    "sapply(x,FUN=var, na.rm=T)\n",
    "\n",
    "sapply(x,FUN=sd, na.rm=T)"
   ]
  },
  {
   "cell_type": "markdown",
   "metadata": {},
   "source": [
    "Os resultados são as médias, as variâncias e os desvios, respectivamente, de cada uma das colunas de dados de *airquality*. "
   ]
  },
  {
   "cell_type": "code",
   "execution_count": 8,
   "metadata": {},
   "outputs": [
    {
     "name": "stdout",
     "output_type": "stream",
     "text": [
      "Número de linhas - 153Médias das colunas:\n"
     ]
    },
    {
     "data": {
      "text/html": [
       "<dl class=dl-horizontal>\n",
       "\t<dt>Ozone</dt>\n",
       "\t\t<dd>42.1293103448276</dd>\n",
       "\t<dt>Solar.R</dt>\n",
       "\t\t<dd>185.931506849315</dd>\n",
       "\t<dt>Wind</dt>\n",
       "\t\t<dd>9.95751633986928</dd>\n",
       "\t<dt>Temp</dt>\n",
       "\t\t<dd>77.8823529411765</dd>\n",
       "\t<dt>Month</dt>\n",
       "\t\t<dd>6.99346405228758</dd>\n",
       "\t<dt>Day</dt>\n",
       "\t\t<dd>15.8039215686275</dd>\n",
       "</dl>\n"
      ],
      "text/latex": [
       "\\begin{description*}\n",
       "\\item[Ozone] 42.1293103448276\n",
       "\\item[Solar.R] 185.931506849315\n",
       "\\item[Wind] 9.95751633986928\n",
       "\\item[Temp] 77.8823529411765\n",
       "\\item[Month] 6.99346405228758\n",
       "\\item[Day] 15.8039215686275\n",
       "\\end{description*}\n"
      ],
      "text/markdown": [
       "Ozone\n",
       ":   42.1293103448276Solar.R\n",
       ":   185.931506849315Wind\n",
       ":   9.95751633986928Temp\n",
       ":   77.8823529411765Month\n",
       ":   6.99346405228758Day\n",
       ":   15.8039215686275\n",
       "\n"
      ],
      "text/plain": [
       "  Ozone Solar.R    Wind    Temp   Month     Day \n",
       " 42.129 185.932   9.958  77.882   6.993  15.804 "
      ]
     },
     "metadata": {},
     "output_type": "display_data"
    },
    {
     "name": "stdout",
     "output_type": "stream",
     "text": [
      "Variâncias das colunas:\n"
     ]
    },
    {
     "data": {
      "text/html": [
       "<dl class=dl-horizontal>\n",
       "\t<dt>Ozone</dt>\n",
       "\t\t<dd>1088.20052473763</dd>\n",
       "\t<dt>Solar.R</dt>\n",
       "\t\t<dd>8110.51941426547</dd>\n",
       "\t<dt>Wind</dt>\n",
       "\t\t<dd>12.4115385276918</dd>\n",
       "\t<dt>Temp</dt>\n",
       "\t\t<dd>89.5913312693499</dd>\n",
       "\t<dt>Month</dt>\n",
       "\t\t<dd>2.00653594771242</dd>\n",
       "\t<dt>Day</dt>\n",
       "\t\t<dd>78.5797213622291</dd>\n",
       "</dl>\n"
      ],
      "text/latex": [
       "\\begin{description*}\n",
       "\\item[Ozone] 1088.20052473763\n",
       "\\item[Solar.R] 8110.51941426547\n",
       "\\item[Wind] 12.4115385276918\n",
       "\\item[Temp] 89.5913312693499\n",
       "\\item[Month] 2.00653594771242\n",
       "\\item[Day] 78.5797213622291\n",
       "\\end{description*}\n"
      ],
      "text/markdown": [
       "Ozone\n",
       ":   1088.20052473763Solar.R\n",
       ":   8110.51941426547Wind\n",
       ":   12.4115385276918Temp\n",
       ":   89.5913312693499Month\n",
       ":   2.00653594771242Day\n",
       ":   78.5797213622291\n",
       "\n"
      ],
      "text/plain": [
       "   Ozone  Solar.R     Wind     Temp    Month      Day \n",
       "1088.201 8110.519   12.412   89.591    2.007   78.580 "
      ]
     },
     "metadata": {},
     "output_type": "display_data"
    },
    {
     "name": "stdout",
     "output_type": "stream",
     "text": [
      "Desvios-padrão das colunas:\n"
     ]
    },
    {
     "data": {
      "text/html": [
       "<dl class=dl-horizontal>\n",
       "\t<dt>Ozone</dt>\n",
       "\t\t<dd>32.987884514434</dd>\n",
       "\t<dt>Solar.R</dt>\n",
       "\t\t<dd>90.0584222283817</dd>\n",
       "\t<dt>Wind</dt>\n",
       "\t\t<dd>3.5230013522126</dd>\n",
       "\t<dt>Temp</dt>\n",
       "\t\t<dd>9.46526974097146</dd>\n",
       "\t<dt>Month</dt>\n",
       "\t\t<dd>1.41652248401231</dd>\n",
       "\t<dt>Day</dt>\n",
       "\t\t<dd>8.86452036842542</dd>\n",
       "</dl>\n"
      ],
      "text/latex": [
       "\\begin{description*}\n",
       "\\item[Ozone] 32.987884514434\n",
       "\\item[Solar.R] 90.0584222283817\n",
       "\\item[Wind] 3.5230013522126\n",
       "\\item[Temp] 9.46526974097146\n",
       "\\item[Month] 1.41652248401231\n",
       "\\item[Day] 8.86452036842542\n",
       "\\end{description*}\n"
      ],
      "text/markdown": [
       "Ozone\n",
       ":   32.987884514434Solar.R\n",
       ":   90.0584222283817Wind\n",
       ":   3.5230013522126Temp\n",
       ":   9.46526974097146Month\n",
       ":   1.41652248401231Day\n",
       ":   8.86452036842542\n",
       "\n"
      ],
      "text/plain": [
       "  Ozone Solar.R    Wind    Temp   Month     Day \n",
       " 32.988  90.058   3.523   9.465   1.417   8.865 "
      ]
     },
     "metadata": {},
     "output_type": "display_data"
    }
   ],
   "source": [
    "options(digits=4)\n",
    "x=airquality\n",
    "cat(\"Número de linhas -\", nrow(x))\n",
    "\n",
    "cat(\"Médias das colunas:\\n\")\n",
    "sapply(x,FUN=mean, na.rm=T)\n",
    "\n",
    "cat(\"Variâncias das colunas:\\n\")\n",
    "sapply(x,FUN=var, na.rm=T)\n",
    "\n",
    "cat(\"Desvios-padrão das colunas:\\n\")\n",
    "sapply(x,FUN=sd, na.rm=T)"
   ]
  },
  {
   "cell_type": "markdown",
   "metadata": {},
   "source": [
    "Abaixo estão o histograma, o polígono de frequências e uma curva normal com média e variância calculadas com base nos dados . "
   ]
  },
  {
   "cell_type": "code",
   "execution_count": 9,
   "metadata": {},
   "outputs": [
    {
     "data": {
      "image/png": "[encoded data removed]",
      "text/plain": [
       "Plot with title “”"
      ]
     },
     "metadata": {},
     "output_type": "display_data"
    }
   ],
   "source": [
    "options(digits=4)\n",
    "x=airquality\n",
    "x=x$Solar.R\n",
    "\n",
    "h = hist(x,breaks=\"Sturges\",probability=TRUE,col = \"Steelblue3\", right = F,main=\"\",xlab=\"alturas\",ylab=\"prob.\",plot=TRUE,xlim=c(0,350),ylim=c(0,0.0081))\n",
    "#------pontos médios\n",
    "delta=h$mids[2] - h$mids[1];\n",
    "mp = c(min(h$mids)-delta ,h$mids, max(h$mids) + delta)\n",
    "#freq = c(0, h$counts, 0)\n",
    "freqrel = c(0, h$density, 0)\n",
    "#--------------adicionando polígono ao histograma\n",
    "#h = hist(s, xlim = c(0, max(s) + 10), col = \"Steelblue3\", right = F)\n",
    "lines(mp, freqrel, type = \"b\", pch = 20, col = \"red\", lwd = 3,xlim=c(0,350),ylim=c(0,0.0081))\n",
    "\n",
    "#-----------\n",
    "x1 <- seq(min(x,na.rm=T),max(x,na.rm=T), length=length(x))\n",
    "hx <- dnorm(x,mean(x1,na.rm=T),sd=sd(x,na.rm=T))\n",
    "hxest <- dnorm(x1,mean(x,na.rm=T),sd=sd(x,na.rm=T))\n",
    "\n",
    "par(new=TRUE)\n",
    "#plot(x1, hx, type=\"l\", lty=2, xlab=\"\",ylab=\" \", main=\"\",xlim=c(0,350),ylim=c(0,0.0081))\n",
    "#par(new=TRUE)\n",
    "plot(x1, hxest, type=\"l\", lty=2, xlab=\"\",\n",
    "  ylab=\" \", main=\"\",xlim=c(0,350),ylim=c(0,0.0081))\n"
   ]
  },
  {
   "cell_type": "markdown",
   "metadata": {},
   "source": [
    "# Frequências agrupadas sem intervalos de classe\n",
    "\n",
    "Em uma distribuição de frequências sem intervalos de classes, a fórmula do desvio é reduzida para: \n",
    "\n",
    "\\begin{equation}\n",
    "s=\\sqrt{\\dfrac{\\sum_{i=1}^{n}f_i(x_i-\\overline{x})^2}{n-1}}\n",
    "\\end{equation}\n",
    "\n",
    "em que $\\overline{x}$ é a média amostral, dada por: \n",
    "\\begin{equation}\n",
    "\\overline{x}=\\dfrac{\\sum_{i=1}^{n}f_i\\cdot x_i}{n}\n",
    "\\end{equation}\n",
    "\n",
    "* Note que é idêntica a fórmula para dados não agrupados em frequências. A expressão tem objetivo de simplificar. \n",
    "* Ao usar o R, os dados não precisam ser agrupados em frequências ou tabelas de distribuição se o objetivo for apenas o cálculo. \n",
    "\n",
    "## Exemplo (manual)\n",
    "Variância e desvio de $x=[1, 1, 3, 3]$\n",
    "\n",
    "      Exercício\n",
    "  \n",
    "## Exemplo (Cálculos manuais com R )\n",
    "50 amostras em $\\{0,1,\\cdots,10\\}$ com reposição.\n",
    "\n",
    "A seguir $diff=x_i-\\overline(x)$ e $diff2=f_i\\cdot (x_i-\\overline(x))^2$"
   ]
  },
  {
   "cell_type": "code",
   "execution_count": 10,
   "metadata": {},
   "outputs": [
    {
     "data": {
      "text/html": [
       "<table>\n",
       "<thead><tr><th></th><th scope=col>x.freq</th><th scope=col>diff</th><th scope=col>diff2</th></tr></thead>\n",
       "<tbody>\n",
       "\t<tr><th scope=row>0</th><td>4     </td><td>-5.2  </td><td>108.16</td></tr>\n",
       "\t<tr><th scope=row>1</th><td>4     </td><td>-4.2  </td><td> 70.56</td></tr>\n",
       "\t<tr><th scope=row>2</th><td>7     </td><td>-3.2  </td><td> 71.68</td></tr>\n",
       "\t<tr><th scope=row>3</th><td>1     </td><td>-2.2  </td><td>  4.84</td></tr>\n",
       "\t<tr><th scope=row>4</th><td>2     </td><td>-1.2  </td><td>  2.88</td></tr>\n",
       "\t<tr><th scope=row>5</th><td>8     </td><td>-0.2  </td><td>  0.32</td></tr>\n",
       "\t<tr><th scope=row>6</th><td>4     </td><td> 0.8  </td><td>  2.56</td></tr>\n",
       "\t<tr><th scope=row>7</th><td>8     </td><td> 1.8  </td><td> 25.92</td></tr>\n",
       "\t<tr><th scope=row>8</th><td>2     </td><td> 2.8  </td><td> 15.68</td></tr>\n",
       "\t<tr><th scope=row>9</th><td>5     </td><td> 3.8  </td><td> 72.20</td></tr>\n",
       "\t<tr><th scope=row>10</th><td>5     </td><td> 4.8  </td><td>115.20</td></tr>\n",
       "</tbody>\n",
       "</table>\n"
      ],
      "text/latex": [
       "\\begin{tabular}{r|lll}\n",
       "  & x.freq & diff & diff2\\\\\n",
       "\\hline\n",
       "\t0 & 4      & -5.2   & 108.16\\\\\n",
       "\t1 & 4      & -4.2   &  70.56\\\\\n",
       "\t2 & 7      & -3.2   &  71.68\\\\\n",
       "\t3 & 1      & -2.2   &   4.84\\\\\n",
       "\t4 & 2      & -1.2   &   2.88\\\\\n",
       "\t5 & 8      & -0.2   &   0.32\\\\\n",
       "\t6 & 4      &  0.8   &   2.56\\\\\n",
       "\t7 & 8      &  1.8   &  25.92\\\\\n",
       "\t8 & 2      &  2.8   &  15.68\\\\\n",
       "\t9 & 5      &  3.8   &  72.20\\\\\n",
       "\t10 & 5      &  4.8   & 115.20\\\\\n",
       "\\end{tabular}\n"
      ],
      "text/markdown": [
       "\n",
       "| <!--/--> | x.freq | diff | diff2 |\n",
       "|---|---|---|---|\n",
       "| 0 | 4      | -5.2   | 108.16 |\n",
       "| 1 | 4      | -4.2   |  70.56 |\n",
       "| 2 | 7      | -3.2   |  71.68 |\n",
       "| 3 | 1      | -2.2   |   4.84 |\n",
       "| 4 | 2      | -1.2   |   2.88 |\n",
       "| 5 | 8      | -0.2   |   0.32 |\n",
       "| 6 | 4      |  0.8   |   2.56 |\n",
       "| 7 | 8      |  1.8   |  25.92 |\n",
       "| 8 | 2      |  2.8   |  15.68 |\n",
       "| 9 | 5      |  3.8   |  72.20 |\n",
       "| 10 | 5      |  4.8   | 115.20 |\n",
       "\n"
      ],
      "text/plain": [
       "   x.freq diff diff2 \n",
       "0  4      -5.2 108.16\n",
       "1  4      -4.2  70.56\n",
       "2  7      -3.2  71.68\n",
       "3  1      -2.2   4.84\n",
       "4  2      -1.2   2.88\n",
       "5  8      -0.2   0.32\n",
       "6  4       0.8   2.56\n",
       "7  8       1.8  25.92\n",
       "8  2       2.8  15.68\n",
       "9  5       3.8  72.20\n",
       "10 5       4.8 115.20"
      ]
     },
     "metadata": {},
     "output_type": "display_data"
    },
    {
     "name": "stdout",
     "output_type": "stream",
     "text": [
      "valor de variância é var= 10"
     ]
    }
   ],
   "source": [
    "set.seed(1000)\n",
    "x=sample(0:10,50,replace=TRUE)\n",
    "x=sort(x)\n",
    "xuniq=unique(x)\n",
    "x.freq=table(x)\n",
    "diff=(xuniq-mean(x))\n",
    "diff2=x.freq*diff^2\n",
    "cbind(x.freq,diff,diff2)\n",
    "\n",
    "cat(\"valor de variância é var=\",sum(diff2)/(length(x)-1))"
   ]
  },
  {
   "cell_type": "markdown",
   "metadata": {},
   "source": [
    "* Usando diretamente o R, temos: "
   ]
  },
  {
   "cell_type": "code",
   "execution_count": 11,
   "metadata": {},
   "outputs": [
    {
     "data": {
      "text/html": [
       "10"
      ],
      "text/latex": [
       "10"
      ],
      "text/markdown": [
       "10"
      ],
      "text/plain": [
       "[1] 10"
      ]
     },
     "metadata": {},
     "output_type": "display_data"
    }
   ],
   "source": [
    "set.seed(1000)\n",
    "x=sample(0:10,50,replace=TRUE)\n",
    "var(x)"
   ]
  },
  {
   "cell_type": "markdown",
   "metadata": {},
   "source": [
    "# Frequências agrupadas com intervalos de classe\n",
    "\n",
    "Em uma distribuição de frequências com intervalos de classes, a fórmula é reduzida para: \n",
    "\\begin{equation}\n",
    "s=\\sqrt{\\dfrac{\\sum_{i=1}^{n}f_i(x_i-\\overline{x})^2}{n-1}}\n",
    "\\end{equation}\n",
    "\n",
    "em que $\\overline{x}$ é a média amostral, dada por: \n",
    "\\begin{equation}\n",
    "\\overline{x}=\\dfrac{\\sum_{i=1}^{n}f_ix_i}{n}\n",
    "\\end{equation}\n",
    "\n",
    "e $x_i$ é o ponto médio das classes. \n",
    "\n",
    "## Exemplo (Manual)\n",
    "Considere a tabela abaixo:\n",
    "\n",
    "| classes|$f_i$|$pm_i$|\n",
    "|--|--|--|\n",
    "| [0,2)    |  3| 1 |\n",
    "| [0,4) |   5  |3 |\n",
    "| [0,6) | 4 | 5|\n",
    "\n",
    "A variância é calculada diretamente pela aplicação da fórmula. Veja os cálculos a seguir:\n",
    "\n",
    "\\begin{equation}\n",
    "s^2=\\dfrac{\\sum_{i=1}^3f_i\\cdot(pm_i-\\overline{x})^2}{\\sum_{i=1}^{3}f_i-1}=\\dfrac{3\\cdot (1-\\overline{x})^2+5\\cdot (3-\\overline{x})^2+4\\cdot (5-\\overline{x})^2}{3+5+4 -1}\n",
    "\\end{equation}\n",
    "\n",
    "A média $\\overline{x}$ precisa ser calculada para que o exercício possa ser finalizado. \n",
    "\n",
    "A forma com que os dados são apresentados não permite usar o R diretamente, pois não há condições de recuperar os dados que deram origem à tabela acima. \n",
    "\n",
    "## Exemplo\n",
    "Considere os dados a seguir, apresentados na fomra de tabela de distribuição de frequências e intervalos de classes. Calcule o desvio padrão. "
   ]
  },
  {
   "cell_type": "code",
   "execution_count": 12,
   "metadata": {},
   "outputs": [
    {
     "data": {
      "text/html": [
       "<table>\n",
       "<thead><tr><th></th><th scope=col>f_i</th><th scope=col>pm_i</th></tr></thead>\n",
       "<tbody>\n",
       "\t<tr><th scope=row>[0,3.3)</th><td>19   </td><td> 1.65</td></tr>\n",
       "\t<tr><th scope=row>[3.3,6.6)</th><td>17   </td><td> 4.95</td></tr>\n",
       "\t<tr><th scope=row>[6.6,9.9)</th><td>11   </td><td> 8.25</td></tr>\n",
       "\t<tr><th scope=row>[9.9,10.1)</th><td> 3   </td><td>10.00</td></tr>\n",
       "</tbody>\n",
       "</table>\n"
      ],
      "text/latex": [
       "\\begin{tabular}{r|ll}\n",
       "  & f\\_i & pm\\_i\\\\\n",
       "\\hline\n",
       "\t{[}0,3.3) & 19    &  1.65\\\\\n",
       "\t{[}3.3,6.6) & 17    &  4.95\\\\\n",
       "\t{[}6.6,9.9) & 11    &  8.25\\\\\n",
       "\t{[}9.9,10.1) &  3    & 10.00\\\\\n",
       "\\end{tabular}\n"
      ],
      "text/markdown": [
       "\n",
       "| <!--/--> | f_i | pm_i |\n",
       "|---|---|---|\n",
       "| [0,3.3) | 19    |  1.65 |\n",
       "| [3.3,6.6) | 17    |  4.95 |\n",
       "| [6.6,9.9) | 11    |  8.25 |\n",
       "| [9.9,10.1) |  3    | 10.00 |\n",
       "\n"
      ],
      "text/plain": [
       "           f_i pm_i \n",
       "[0,3.3)    19   1.65\n",
       "[3.3,6.6)  17   4.95\n",
       "[6.6,9.9)  11   8.25\n",
       "[9.9,10.1)  3  10.00"
      ]
     },
     "metadata": {},
     "output_type": "display_data"
    }
   ],
   "source": [
    "set.seed(421)\n",
    "x=sample(0:10,50,replace=TRUE)#amostra tamanho 50 entre 0-5  com reposição\n",
    "\n",
    "options(digits=4); N=length(x); Nc=3#floor(1+3.3*log10(N)); #Nc\n",
    "A=round(max(x)-min(x),1);Ac=round(A/Nc,1);#Ac\n",
    "breaks = seq(min(x),max(x), by=Ac)    #half-integer sequence \n",
    "breaks=c(breaks,max(x)+0.1)\n",
    "x.cut = cut(x, breaks, right=FALSE) \n",
    "f_i = table(x.cut) \n",
    "\n",
    "pm_i=breaks[1:length(breaks)-1]+Ac/2;\n",
    "pm_i[4]=10.0\n",
    "\n",
    "#xprod=pm_i-mean(x)#produto entre os valores x e as respectivas frequencias\n",
    "#xprod=f_i*pm_i#produto entre os valores x e as respectivas frequencias\n",
    "\n",
    "cbind(f_i,pm_i)#constroi tabela de frequencias e respectivos produtos por linha"
   ]
  },
  {
   "cell_type": "markdown",
   "metadata": {},
   "source": [
    "# Variância e desvio padrão populacional\n",
    "\n",
    "A fórmula é diferente quando a população é considerada. \n",
    "\n",
    "\\begin{equation}\n",
    "\\sigma^2=\\dfrac{\\sum_{i=1}^N(x_i-\\mu)^2}{N}\n",
    "\\end{equation}\n",
    "\n",
    "Evidentemente, o desvio padrão vai ser alterado para \n",
    "\n",
    "\\begin{equation}\n",
    "\\sigma=\\sqrt{\\dfrac{\\sum_{i=1}^N(x_i-\\mu)^2}{N}}\n",
    "\\end{equation}\n",
    "\n",
    "* A distribuição de frequências sem intervalo de classe segue as mesmas ideias já apresentadas.\n",
    "* Como os cálculos são aproximados para a  distribuição de frequências com intervalos de classe, consideramos que a variância populacional não é adequada.\n",
    "\n",
    "# Discussão adicional \n",
    "\n",
    "## Propriedades do desvio padrão\n",
    "\n",
    "* O desvio padrão é uma medida de variação de todos os valores a partir da média.\n",
    "* O valor do desvio padrão s é usualmente positivo, só será zero se todos os valores forem iguais e nunca será negativo.\n",
    "* Maiores valores de s indicam maior variação.\n",
    "* O valor do desvio padrão pode crescer muito com a inclusão de um ou mais outliers (valores extremos)\n",
    "* A unidade do desvio padrão (e.g. min, cm, mm, hora,Kg, etc.) é a mesma dos dados.\n",
    "\n",
    "## Interpretação\n",
    "\n",
    "* A interpretação do desvio padrão se baseia na regra de que em uma distribuição normal, aproximadamente 95% dos valores se localiza entre a média amostral ± dois desvios padrões.  Veja a figura a seguir para mais detalhes:\n",
    "\n",
    "\n",
    "\n",
    "![Interpretação do desvio padrão](https://upload.wikimedia.org/wikipedia/commons/a/a9/Empirical_Rule.PNG)\n",
    "\n",
    "\n",
    "## Exemplo\n",
    "Suponha que a  a taxa de pulsação de mulheres (batimentos por minuto) tem uma média de  76 batimentos por minuto e um desvio padrão 12.5 batimentos por minuto.\n",
    "\n",
    "* Importância: Este resultado pode ser usado para identificar uma pulsação não usual (ou algum distúrbio de saúde).\n",
    "\n",
    "* É usual uma mulher com uma taxa de pulsação de 110 ?\n",
    "\n",
    "  Usando os resultados chega-se que 95% das mulheres devem apresentar pulsação entre a média e dois desvios.\n",
    "    * Pulsação usual mínima = 76 − 2 × 12.5 = 51\n",
    "    * Pulsação usual máxima = 76 + 2 × 12.5 = 101\n",
    "* Conclusão: a pulsação de 110 não é usual e possível problema de saúde deve ser investigado.\n",
    "\n",
    "* Parece ser comum substituir a média e o desvio pelos respectivos média amostral e desvio amostral. E em seguida utilizar a regra (empírica) para as avaliações de valores amostrais médios e com desvio padrão estimados pela amostra.\n",
    "\n",
    "## Exemplo\n",
    "Escores de QI tem uma distribuição na forma de sino com média amostral de x = 100 e desvio padrão amostral igual a s = 15 . Determine a faixa de escores de QI de 95% das pessoas avaliadas.\n",
    "\n",
    "        exercício \n",
    "        \n",
    "# Variações em diferentes populações \n",
    "\n",
    "Definição: O coeficiente de variação (CV) para um conjunto de dados amostrais ou populacionais não-negativo, expresso como um percentual, descreve o desvio padrão relativo à média e é dado por: \n",
    "\n",
    "Podemos calcular o <!--  desvio padrão --> coeficiente de variação de cada amostra por:\n",
    "\\begin{equation}\n",
    "cv=\\dfrac{s}{\\overline{x}}\\times 100\n",
    "\\end{equation}\n",
    "\n",
    "Podemos calcular o  <!--  desvio padrão --> coeficiente de variação de cada população por:\n",
    "\\begin{equation}\n",
    "cv=\\dfrac{\\sigma}{\\overline{x}}\\times 100\n",
    "\\end{equation}\n",
    "\n",
    "Importância: comparar duas ou mais amostras/populações com diferentes escalas de medidas. \n",
    "\n",
    "## Exemplo\n",
    "Considere os dados referentes a alturas e pesos de Homens encontramos as seguintes estatísticas amostrais.\n",
    "\n",
    "* Altura 68.34in e 3.02in (média e desvio de altura)\n",
    "* Peso 172.55lb  e 26.33lb (média e desvio de peso)\n",
    "\n",
    "* Qual das duas amostras possui maior variabilidade ?\n",
    "\n",
    "    * Calcule o coeficiente de variação de cada variação.\n",
    "          \n",
    "            \n",
    "          Altura: CV = 4.42% , Peso: CV = 15,26%\n",
    "\n",
    "# Medidas de posição relativa\n",
    "\n",
    "* Esta medida pode ser usada para comparar valores em diferentes conjuntos de dados. Ou para a comparação de valores dentro do mesmo conjunto de dados.\n",
    "\n",
    "* O conceito utilizado para estabelecer uma medida de posição relativa de algum valor observado é o Escore z que corresponde ao número de desvios padrões que se situa determinada observação x.\n",
    "\n",
    "\n",
    "Definição: O escore z corresponde ao número de desvios padrões que se situa determinada observação x . Encontra-se o escore z (ou escore padronizado), convertendo-se um valor para uma escala padronizada, como se segue:\n",
    "\n",
    "* Amostral: $z=\\dfrac{x-\\overline{x}}{s}$\n",
    "* Populacional: $z=\\dfrac{x-\\mu}{\\sigma}$\n",
    "\n",
    "\n",
    "## Exemplo\n",
    "Considere um corredor e um nadador. Qual deles é o melhor atleta em relação ao respectivo grupo ? \n",
    "* Corredor: $\\overline{x}_{grupo}=16seg/100m$ e $s_{grupo}=3seg/100m$\n",
    "* Nadador: $\\overline{x}_{grupo}=60seg/100m$ e $s_{grupo}=5seg/100m$\n",
    "\n",
    "O corredor faz um tempo de $12seg/100m$ em um corrida, enquanto que o nadador faz um tempo de $60 seg/100m$ em uma prova. Qual deles fez um melhor tempo em relação ao respectivo grupo? \n",
    "\n",
    "O corredor tem score-z $z_1=\\dfrac{12-16}{3}=-\\dfrac{4}{3}=-1.33$ enquanto que o nadador tem score-z $z_2=\\dfrac{50-60}{5}=-\\dfrac{10}{5}=-2.0$\n",
    "\n",
    "\n",
    "## Características do Escore z\n",
    "* Valores comuns: −2 ≤ z ≤ 2 .\n",
    "* Valores não-usuais: z ≤ −2 ou z ≥ 2\n",
    "* Escore positivos ( z > 0 ) indicam valores acima da média.\n",
    "* Escore negativos ( z < 0 ) idicam valores abaixo da média.\n",
    "* O escore z pode ser usado para avaliar um valor específico da variável dentro da amostra (ou da população).\n",
    "\n",
    "## Exercício\n",
    "Com uma altura de 75 in(190,5cm) Lyndon Johnson foi o presidente mais alto dos EUA no ultimo século. Com uma altura de 85 in (215,9cm) Shaquille O’Neal é o jogador mais alto do time de basquete Miami Heat. Quem é relativamente mais alto: Lyndon Johnson entre os presidentes do século passado ou Shaquille O’Neal entre os jogadores do time de basquete Miami Heat? Os presidentes do século passado têm uma altura média de 71,5 in e um desvio padrão de 2,1 in. Os jogadores de basquete do Miami Heat têm uma altura média de 80,0 in e desvio padrão de 3,3 in.\n",
    "\n",
    "# Medidas separatrizes\n",
    "\n",
    "Sabemos que a mediana divide os dados em duas partes iguais: 50% abaixo da mediana e 50% acima da mediana.\n",
    "\n",
    "* Questão: Podemos determinar o valor que separa 10% dos dados ? E 37% dos dados ?\n",
    "\n",
    "Esse valor é o percentil e denotado por $P_k$, em que $k$ representa a quantidade (em %) dos valores desejados. \n",
    "\n",
    "Aqui vamos usar o R para ajudar nos cálculos e focar em outras questões. A função *qnorm* executa os cálculos. Veja os exemplos a seguir:\n",
    "\n",
    "\n",
    "## Exemplo\n",
    "Qual o valor que separa os dados em 25, 50 e  75 por cento dos dados para uma amostra x=[1,2,3,5,10,15,17]. "
   ]
  },
  {
   "cell_type": "code",
   "execution_count": 13,
   "metadata": {},
   "outputs": [
    {
     "data": {
      "text/html": [
       "<dl class=dl-horizontal>\n",
       "\t<dt>25%</dt>\n",
       "\t\t<dd>2.5</dd>\n",
       "\t<dt>50%</dt>\n",
       "\t\t<dd>5</dd>\n",
       "\t<dt>75%</dt>\n",
       "\t\t<dd>12.5</dd>\n",
       "</dl>\n"
      ],
      "text/latex": [
       "\\begin{description*}\n",
       "\\item[25\\textbackslash{}\\%] 2.5\n",
       "\\item[50\\textbackslash{}\\%] 5\n",
       "\\item[75\\textbackslash{}\\%] 12.5\n",
       "\\end{description*}\n"
      ],
      "text/markdown": [
       "25%\n",
       ":   2.550%\n",
       ":   575%\n",
       ":   12.5\n",
       "\n"
      ],
      "text/plain": [
       " 25%  50%  75% \n",
       " 2.5  5.0 12.5 "
      ]
     },
     "metadata": {},
     "output_type": "display_data"
    }
   ],
   "source": [
    "x=c(1,2,3,5,10,15,17)\n",
    "quantile(x,c(.25,.5,.75))"
   ]
  },
  {
   "cell_type": "markdown",
   "metadata": {},
   "source": [
    "Note que as probabilidades devem ser informadas (valores entre 0 e 1)\n",
    "\n",
    "A função acima é chamada quantil. Quanto os valores são múltiplos de 100, os valores retornados são percentis ($P_i$). Quando os valores são múltiplos de 25, os valores retornados são os quartis ($Q_i$). Finalmente, quando os valores são múltiplos de 10, os valores retornados são os decis ($D_i$). \n",
    "\n",
    "* $P_i$: $i=1,2,\\cdots, 100$\n",
    "* $Q_i$: $i=1,2,3,4$\n",
    "* $D_i$: $i=1,2,\\cdots,9,10$\n",
    "\n",
    "# Intervalos e estatísticas\n",
    "\n",
    "Outras estatísticas que podem ser calculadas com os quartis e percentis são:\n",
    "\n",
    "* Intervalo interquartil (ou IIQ): é a diferença entre o terceiro e o primeiro quartis. \n",
    "\n",
    "$$IIQ = Q_3 − Q_1 =P_{75}-P_{25}$$\n",
    "\n",
    "## Definição (Box-Plot)\n",
    "É uma representação gráfica feita para um conjunto de dados que trás na representação: \n",
    "\n",
    "* os três quartis da amostra ($Q_1$ o quartil 25%, $Q_2$ o quartil 50% (ou mediana) e $Q_3$ o quartil 75%). A representação gráfica destas estatística é feita assim:\n",
    "* uma caixa é delimitada por $Q_1$ e $Q_3$\n",
    "*  As cercas do diagrama\n",
    "    * $CI=Q_1-1.5\\cdot IIQ$\n",
    "    * $CS=Q_3+1.5\\cdot IIQ$ \n",
    "\n",
    "A representação gráfica destas estatística é feita assim:"
   ]
  },
  {
   "cell_type": "code",
   "execution_count": 14,
   "metadata": {},
   "outputs": [
    {
     "data": {
      "image/png": "[encoded data removed]",
      "text/plain": [
       "plot without title"
      ]
     },
     "metadata": {},
     "output_type": "display_data"
    }
   ],
   "source": [
    "x=iris$Sepal.Length\n",
    "boxplot(x,horizontal = T,ylim=c(0,10))"
   ]
  },
  {
   "cell_type": "markdown",
   "metadata": {},
   "source": [
    "## Relação Box-plot e curva normal\n",
    "\n",
    "\n",
    "![Relação Box-plot e curva normal](https://upload.wikimedia.org/wikipedia/commons/thumb/1/1a/Boxplot_vs_PDF.svg/800px-Boxplot_vs_PDF.svg.png)\n",
    "\n",
    "## Exemplo \n",
    "Com o auxílio do R, vários box-plots podem ser executados. "
   ]
  },
  {
   "cell_type": "code",
   "execution_count": 15,
   "metadata": {},
   "outputs": [
    {
     "data": {
      "image/png": "[encoded data removed]",
      "text/plain": [
       "plot without title"
      ]
     },
     "metadata": {},
     "output_type": "display_data"
    }
   ],
   "source": [
    "x=iris[1:4]\n",
    "boxplot(x)"
   ]
  },
  {
   "cell_type": "markdown",
   "metadata": {},
   "source": [
    "# Atividades\n",
    "\n",
    "## Exercício\n",
    "Considere os dados de *airquality* e calcule as medidas de tendêncial central, desvio-padrão. \n",
    "\n",
    "### Exercício (Manual e R)\n",
    "Considere os dados de *mtcars*. Calcule as medidas de tendência central, desvio padrão para as três primeiras colunas. Apresente os resultado sem uma tabela. \n",
    "\n",
    "Nota: Um exemplo de tabela\n",
    "\n",
    "\n",
    "| Tables   |      Are      |  Cool |\n",
    "|----------|:-------------:|------:|\n",
    "| col 1 is |  left-aligned | $1600 |\n",
    "| col 2 is |    centered   |   $12 |\n",
    "| col 3 is | right-aligned |    $1 |\n"
   ]
  },
  {
   "cell_type": "markdown",
   "metadata": {},
   "source": [
    "# Avaliação Geral (Auto-avaliação Parcial)\n",
    "\n",
    "\n",
    "## Exemplo: \n",
    "Suponha que a  a taxa de pulsação de mulheres (batimentos por minuto) tem uma média de  70 batimentos por minuto e um desvio padrão 7.5 batimentos por minuto.\n",
    "\n",
    "* É usual uma mulher com uma taxa de pulsação de 101 ? Use intervalo de 95%\n",
    "* Qual o intervalo de pulsação que engloba 99.8% dos dados ?\n",
    "\n",
    "## Exercício \n",
    "Considere os dados de *mtcars*. Calcule as medidas de tendência central, desvio padrão para as três primeiras colunas. Calcule os coeficientes de variação e os respectivos scores-z para as médias das variáveis.  Apresente os resultado sem uma tabela. \n",
    "  * Qual delas é mais homogenea basedo no coeficiente de variação? \n",
    "  * Qual delas possui a maior média relativa ao respectivo conjunto de dados ?\n",
    "\n",
    "## Exercício\n",
    "Considerando os dados de *airquality*, determine os valores dos quartis e apresente os valores necessários para construir o box-plot. \n",
    "  * Use o R e construa os respectivos box-plots. \n",
    "  \n",
    "# Referências\n",
    "\n",
    "* Mario Triola, Elementary Statistics: Updates for the latest technology, Pearson-Education, ed.09, 2004.\n",
    "* Notas de aula Prof. Marinho, Curso Estatística Descritiva, Universidade de São Paulo, 2015. \n",
    "\n",
    "* Bussab W.O., Morettin P.A., Estatística Básica, Saraiva, Sao Paulo, 9ed, 2017. "
   ]
  }
 ],
 "metadata": {
  "kernelspec": {
   "display_name": "R",
   "language": "R",
   "name": "ir"
  },
  "language_info": {
   "codemirror_mode": "r",
   "file_extension": ".r",
   "mimetype": "text/x-r-source",
   "name": "R",
   "pygments_lexer": "r",
   "version": "3.6.1"
  },
  "nbTranslate": {
   "displayLangs": [
    "*"
   ],
   "hotkey": "alt-t",
   "langInMainMenu": true,
   "sourceLang": "en",
   "targetLang": "fr",
   "useGoogleTranslate": true
  },
  "toc": {
   "base_numbering": 1,
   "nav_menu": {},
   "number_sections": true,
   "sideBar": true,
   "skip_h1_title": false,
   "title_cell": "Table of Contents",
   "title_sidebar": "Contents",
   "toc_cell": false,
   "toc_position": {
    "height": "calc(100% - 180px)",
    "left": "10px",
    "top": "150px",
    "width": "242.367px"
   },
   "toc_section_display": true,
   "toc_window_display": true
  }
 },
 "nbformat": 4,
 "nbformat_minor": 4
}
