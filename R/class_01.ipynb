{
 "cells": [
  {
   "cell_type": "markdown",
   "metadata": {},
   "source": [
    "# Introdução \n",
    "  - Visão geral da abordagem estatística dos problemas\n",
    "  - O papel da incerteza nos problemas científicos\n",
    "  - A importância da coleta de dados (amostras)\n",
    "  - Tipos de dados\n",
    "  - Uso de softwares ou bibliotecas"
   ]
  },
  {
   "cell_type": "markdown",
   "metadata": {},
   "source": [
    "# Objetivos Estatística\n",
    "\n",
    "- Estatística (Objetivo): O problema sempre envolve pesquisas ou análises cujo o objetivo é aprender (entender, compreender, inferir, etc.) sobre um grande grupo de interesse (população) por meio do exame de um pequeno grupo (amostra). [Baseado em (Triola, 2004, pg. 04)] \n",
    "- Dados: são observações coletadas (por exemplo, medidas, sexo, respostas de um questionário, etc)."
   ]
  },
  {
   "cell_type": "markdown",
   "metadata": {},
   "source": [
    "## Exemplo de dados - conjunto \"iris\"\n",
    "\n",
    "- 150 linhas com 5 colunas: 50 flores de cada espécie foram analisadas e as cinco características foram avaliadas para cada flor. \n",
    "- Medidas (em cm) das variáveis Comprimento e largura de ambas (sépala  e pétala) de três espécies de plantas (setosa, virginica, versicolor)"
   ]
  },
  {
   "cell_type": "code",
   "execution_count": 2,
   "metadata": {
    "ExecuteTime": {
     "end_time": "2021-02-05T10:24:24.649299Z",
     "start_time": "2021-02-05T10:24:24.615704Z"
    }
   },
   "outputs": [
    {
     "data": {
      "text/html": [
       "<table>\n",
       "<thead><tr><th></th><th scope=col>SepLeng</th><th scope=col>SepWidth</th><th scope=col>PetLeng</th><th scope=col>PetWidh</th><th scope=col>Spec</th></tr></thead>\n",
       "<tbody>\n",
       "\t<tr><th scope=row>1</th><td>5.1       </td><td>3.5       </td><td>1.4       </td><td>0.2       </td><td>setosa    </td></tr>\n",
       "\t<tr><th scope=row>2</th><td>4.9       </td><td>3.0       </td><td>1.4       </td><td>0.2       </td><td>setosa    </td></tr>\n",
       "\t<tr><th scope=row>51</th><td>7.0       </td><td>3.2       </td><td>4.7       </td><td>1.4       </td><td>versicolor</td></tr>\n",
       "\t<tr><th scope=row>52</th><td>6.4       </td><td>3.2       </td><td>4.5       </td><td>1.5       </td><td>versicolor</td></tr>\n",
       "\t<tr><th scope=row>101</th><td>6.3       </td><td>3.3       </td><td>6.0       </td><td>2.5       </td><td>virginica </td></tr>\n",
       "\t<tr><th scope=row>102</th><td>5.8       </td><td>2.7       </td><td>5.1       </td><td>1.9       </td><td>virginica </td></tr>\n",
       "</tbody>\n",
       "</table>\n"
      ],
      "text/latex": [
       "\\begin{tabular}{r|lllll}\n",
       "  & SepLeng & SepWidth & PetLeng & PetWidh & Spec\\\\\n",
       "\\hline\n",
       "\t1 & 5.1        & 3.5        & 1.4        & 0.2        & setosa    \\\\\n",
       "\t2 & 4.9        & 3.0        & 1.4        & 0.2        & setosa    \\\\\n",
       "\t51 & 7.0        & 3.2        & 4.7        & 1.4        & versicolor\\\\\n",
       "\t52 & 6.4        & 3.2        & 4.5        & 1.5        & versicolor\\\\\n",
       "\t101 & 6.3        & 3.3        & 6.0        & 2.5        & virginica \\\\\n",
       "\t102 & 5.8        & 2.7        & 5.1        & 1.9        & virginica \\\\\n",
       "\\end{tabular}\n"
      ],
      "text/markdown": [
       "\n",
       "| <!--/--> | SepLeng | SepWidth | PetLeng | PetWidh | Spec |\n",
       "|---|---|---|---|---|---|\n",
       "| 1 | 5.1        | 3.5        | 1.4        | 0.2        | setosa     |\n",
       "| 2 | 4.9        | 3.0        | 1.4        | 0.2        | setosa     |\n",
       "| 51 | 7.0        | 3.2        | 4.7        | 1.4        | versicolor |\n",
       "| 52 | 6.4        | 3.2        | 4.5        | 1.5        | versicolor |\n",
       "| 101 | 6.3        | 3.3        | 6.0        | 2.5        | virginica  |\n",
       "| 102 | 5.8        | 2.7        | 5.1        | 1.9        | virginica  |\n",
       "\n"
      ],
      "text/plain": [
       "    SepLeng SepWidth PetLeng PetWidh Spec      \n",
       "1   5.1     3.5      1.4     0.2     setosa    \n",
       "2   4.9     3.0      1.4     0.2     setosa    \n",
       "51  7.0     3.2      4.7     1.4     versicolor\n",
       "52  6.4     3.2      4.5     1.5     versicolor\n",
       "101 6.3     3.3      6.0     2.5     virginica \n",
       "102 5.8     2.7      5.1     1.9     virginica "
      ]
     },
     "metadata": {},
     "output_type": "display_data"
    }
   ],
   "source": [
    "data(\"iris\")\n",
    "colnames(iris) <- c(\"SepLeng\",\"SepWidth\",\"PetLeng\",\"PetWidh\",\"Spec\")\n",
    "iris[c(1,2,51,52,101,102),1:5]"
   ]
  },
  {
   "cell_type": "markdown",
   "metadata": {
    "ExecuteTime": {
     "end_time": "2021-02-04T13:30:30.757908Z",
     "start_time": "2021-02-04T13:30:30.748914Z"
    }
   },
   "source": [
    "Para obter mais detalhes do respectivo conjunto de dados utiliza o comando\n",
    "```r\n",
    "help(iris)\n",
    "```"
   ]
  },
  {
   "cell_type": "markdown",
   "metadata": {},
   "source": [
    "# Análise Estatística\n",
    "\n",
    "- Estatística: É um conjunto de métodos para o planejamento de estudos e experimentos:\n",
    " - Obtenção de dados (Coleta deve ser feito por meio de procedimento adequado. É uma  das principais fontes de erro)\n",
    " - Organização dos dados (Facilita a visualização)\n",
    " - Resumo ou redução dos dados (Perde informações individuais. Há tendência em simplificar demais e desconsiderar aspectos relevantes)\n",
    " - Apresentação, análise e interpretação dos dados (Fonte de erros de todas as espécies. Viés do apresentador/pesquisador para justificar os pontos de vista-constrói a pesquisa.)\n",
    " - Elaboração de conclusão baseado nos dados (Fonte de erros-interpretação)\n",
    " - Conclusão: de forma clara, amigável e objetiva (requer conhecimento teórico: pessoas com diferentes conhecimentos do assunto, concluem coisas diferentes)"
   ]
  },
  {
   "cell_type": "markdown",
   "metadata": {},
   "source": [
    "## Exemplo: (Valores não reais) \n",
    "Dados das turmas do ano de 2019 foram coletados para mostrar a superioridade de processo adotado em 2019 em relação ao processo anterior. A média das notas é o aspecto relevante! Suponha que todos os cuidados com as questões de amostragens e procedimentos foram tomados (Ver adiante maiores detalhes).  Tomou-se alunos de 2019 como se fossem população.\n",
    "\n",
    "Resultados\n",
    "\n",
    "- 2018: $\\mu=16.4$, $\\sigma=5.6$\n",
    "- 2019: $\\mu=17.3$, $\\sigma=5.9$\n",
    "    Existe diferença, quanto à média das notas, entre as duas turmas de alunos ?"
   ]
  },
  {
   "cell_type": "markdown",
   "metadata": {},
   "source": [
    "# Software e linguagens de programação\n",
    "\n",
    "  - Facilita os cálculos em problemas trabalhosos ou cujos cálculos requerem um tempo muito longo. \n",
    "  - Há tendência coletiva de acreditar em um ser supremo e mágico que realiza os cálculos sem erros de nenhuma espécie. Até mesmo, em caso de processo de amostragem inadequado, o software parece resolver todas os problemas. \n",
    "  \n",
    "  <!-- mas parece haver uma tendencia (por falta de conhecimento) a acreditar friamente em resultados e belas figuras geradas por softwares. -->\n",
    "  \n",
    "  - R, Python, Stats(from SciPy), Geogebra, Sage,  Libre Office, Matlab, SAS, SPSS, Minitab, Mathematica, Excel. \n",
    "  \n",
    "  <!-- SAS, SPSS, Minitab, Matlab, Mathematica, Excel: softwares proprietários e requerem licença para uso. \n",
    "      - R, Stats(from SciPy), Geogebra, Sage, Libre Office: livre para uso e não requerem licença (Baixar e instalar! Alguns rodam na núvem-instação não é necessária)-->\n",
    "       "
   ]
  },
  {
   "cell_type": "markdown",
   "metadata": {},
   "source": [
    "# Atividade\n",
    "\n",
    "1.  Baixar o ambiente Anaconda, criar projeto e executar os comandos básicos: operações aritméticas básicas ``+,-,/``, variáveis, vetores e operações. \n",
    "  \n",
    "2. Conceitos básicos em R (Fazer curso online): http://www.estatisticacomr.uff.br/?p=733\n",
    " \n",
    "3. Descrever o que cada um dos comandos abaixo faz. Carregar os dados *Iris* e ler a respectiva descrição dos dados e variáveis.  \n",
    "\n",
    "```r\n",
    "head(iris)# O que isso faz?\n",
    "tail(iris)# O que isso faz?\n",
    "iris[1:6,1:2]# O que isso faz?\n",
    "help(iris)# O que isso faz?\n",
    "```"
   ]
  },
  {
   "cell_type": "markdown",
   "metadata": {
    "ExecuteTime": {
     "end_time": "2021-02-04T11:22:02.932695Z",
     "start_time": "2021-02-04T11:22:02.917844Z"
    }
   },
   "source": [
    "# Conceitos Importantes\n",
    "\n",
    "* Um dos principais objetivos é usar dados amostrais é fazer inferência (ou generalizações) sobre uma população inteira.\n",
    "* Devemos compreender os conceitos de:\n",
    "  * População;\n",
    "  * Amostras representativas de uma população;\n",
    "  * Parâmetro de uma população;\n",
    "  * Estatística ou estimador dos parâmetros da população (uma função da amostra que reduz os dados);\n",
    "  * Inferência estatística.\n",
    "* Tipos de dados:\n",
    "    * Quantitativos;\n",
    "    * Qualitativos.\n",
    "\n",
    "***\n",
    "\n",
    "- População: É a coleção completa de todos os elementos a serem estudados. A coleção é completa no sentido de que inclui todos os sujeitos a serem estudados.\n",
    "\n",
    "  * Exemplos de população:\n",
    "    * Brasileiros entre 16 e 25 anos;\n",
    "    * Crianças com menos de 1 ano no Brasil;\n",
    "    * Peças produzidas em uma linha de produção de uma fábrica;\n",
    "    * Cor de carros;\n",
    "    * Alunos de uma universidade.\n",
    "  \n",
    "  * Qual a característica que mais interessa em uma população?\n",
    "\n",
    "Nota: Definir a população de estudos não é tarefa simplista. Requer definição clara e objetiva do estudo a ser realizado. \n",
    "\n",
    "***\n",
    "\n",
    "- Censo: É um conjunto de dados obtidos de todos os membros da população [Ver (Triola, 2004) para uma explicação de como o procedimento falha. ]\n",
    "- Amostra: É um subconjunto de membros selecionados de uma população\n",
    "\n",
    "![populacao_amostra](https://umolharmatematico.weebly.com/uploads/2/5/7/9/25795733/1224276.png)\n",
    "\n",
    "*Fonte:* https://umolharmatematico.weebly.com/populaccedilatildeoamostra.html\n",
    "\n",
    "\n",
    "\n",
    "**Nota importante: Amostra representativa não captura todos os tipos de elementos (Há uma variabilidade característica)**"
   ]
  },
  {
   "cell_type": "markdown",
   "metadata": {
    "ExecuteTime": {
     "end_time": "2021-02-04T11:22:22.424269Z",
     "start_time": "2021-02-04T11:22:22.322918Z"
    }
   },
   "source": [
    "## Exemplo (Variabilidade da amostra): \n",
    "Escolher 5 notas dentre as possíveis notas em $J=\\{0,1,\\cdots,10\\}$\n",
    "\n",
    "* 5 amostras"
   ]
  },
  {
   "cell_type": "code",
   "execution_count": 6,
   "metadata": {
    "ExecuteTime": {
     "end_time": "2021-02-05T07:52:51.260250Z",
     "start_time": "2021-02-05T07:52:51.250386Z"
    }
   },
   "outputs": [
    {
     "name": "stdout",
     "output_type": "stream",
     "text": [
      "Amostra \t\t xbar \t mu3 5 2 7 4 \t 4.2 \n",
      "2 1 5 8 4 \t 4 \n",
      "5 0 8 4 1 \t 3.6 \n",
      "9 6 1 4 5 \t 5 \n",
      "2 9 8 1 6 \t 5.2 \n",
      "\t\t\t\t 4.4 \t 5"
     ]
    }
   ],
   "source": [
    "set.seed(1000)\n",
    "xbar=numeric(0)\n",
    "cat(\"Amostra\",\"\\t\\t\",\"xbar\",\"\\t\",\"mu\")\n",
    "\n",
    "for (i in 1:5){\n",
    "  x=sample(0:10,5)\n",
    "  cat(paste(x),\"\\t\",mean(x),'\\n' )\n",
    "  xbar[i]=c(mean(x))\n",
    "}\n",
    "cat(\"\\t\\t\\t\\t\",mean(xbar),'\\t',mean(0:10) )"
   ]
  },
  {
   "cell_type": "markdown",
   "metadata": {},
   "source": [
    "* Com 20 amostras"
   ]
  },
  {
   "cell_type": "code",
   "execution_count": 7,
   "metadata": {
    "ExecuteTime": {
     "end_time": "2021-02-05T07:52:51.272545Z",
     "start_time": "2021-02-05T07:52:51.262268Z"
    }
   },
   "outputs": [
    {
     "name": "stdout",
     "output_type": "stream",
     "text": [
      "Amostra \t\t xbar \t mu3 5 2 7 4 \t 4.2 \n",
      "2 1 5 8 4 \t 4 \n",
      "5 0 8 4 1 \t 3.6 \n",
      "9 6 1 4 5 \t 5 \n",
      "2 9 8 1 6 \t 5.2 \n",
      "7 0 5 10 3 \t 5 \n",
      "10 7 2 8 9 \t 7.2 \n",
      "5 6 10 8 9 \t 7.6 \n",
      "7 2 4 1 8 \t 4.4 \n",
      "1 0 9 2 4 \t 3.2 \n",
      "7 10 9 2 3 \t 6.2 \n",
      "9 10 7 1 6 \t 6.6 \n",
      "5 8 10 4 2 \t 5.8 \n",
      "4 9 0 2 8 \t 4.6 \n",
      "8 6 10 0 1 \t 5 \n",
      "6 10 0 2 8 \t 5.2 \n",
      "1 0 2 4 5 \t 2.4 \n",
      "7 3 9 0 5 \t 4.8 \n",
      "6 8 4 2 0 \t 4 \n",
      "9 2 4 10 0 \t 5 \n",
      "\t\t\t\t 4.95 \t 5"
     ]
    }
   ],
   "source": [
    "set.seed(1000)\n",
    "xbar=numeric(0)\n",
    "cat(\"Amostra\",\"\\t\\t\",\"xbar\",\"\\t\",\"mu\")\n",
    "\n",
    "for (i in 1:20){\n",
    "  x=sample(0:10,5)\n",
    "  cat(paste(x),\"\\t\",mean(x),'\\n' )\n",
    "  xbar[i]=c(mean(x))\n",
    "}\n",
    "cat(\"\\t\\t\\t\\t\",mean(xbar),'\\t',mean(0:10) )"
   ]
  },
  {
   "cell_type": "markdown",
   "metadata": {
    "ExecuteTime": {
     "end_time": "2021-02-04T12:36:52.758248Z",
     "start_time": "2021-02-04T12:36:52.749311Z"
    }
   },
   "source": [
    "## Exemplo (Variabilidade da amostra): \n",
    "Alturas de indivíduos de uma população normal $\\mu=170, \\sigma^2=15$"
   ]
  },
  {
   "cell_type": "code",
   "execution_count": 8,
   "metadata": {
    "ExecuteTime": {
     "end_time": "2021-02-05T07:52:51.291190Z",
     "start_time": "2021-02-05T07:52:51.274487Z"
    }
   },
   "outputs": [
    {
     "name": "stdout",
     "output_type": "stream",
     "text": [
      "Amostra \t\t\t\t\t\t\t xbar \t mu166.43 160.35 170.33 175.12 163.71 \t 167.19 \n",
      "166.92 166.19 175.76 169.85 159.02 \t 167.55 \n",
      "162.14 165.56 170.97 169.03 159.31 \t 165.4 \n",
      "171.36 171.24 170.2 153.63 171.71 \t 167.63 \n",
      "191.36 160.18 176.67 174.26 164.83 \t 173.46 \n",
      "174.83 155.73 172.68 174.49 179.77 \t 171.5 \n",
      "168.31 175.6 164.35 166.28 155.87 \t 166.08 \n",
      "171.51 167.07 178.46 164.07 159.21 \t 168.06 \n",
      "165.86 181.29 171.48 169.65 168.27 \t 171.31 \n",
      "181.71 171.84 170.86 158.98 162.25 \t 169.13 \n",
      "172.01 161.24 173.18 162.03 170.8 \t 167.85 \n",
      "177.63 155.68 172.49 190.43 163.11 \t 171.87 \n",
      "174.35 166.86 179.88 179.57 166.03 \t 173.34 \n",
      "\t\t\t\t\t\t\t\t\t\t 169.26  170"
     ]
    }
   ],
   "source": [
    "set.seed(1000)\n",
    "xbar=numeric(0)\n",
    "cat(\"Amostra\",\"\\t\\t\\t\\t\\t\\t\\t\",\"xbar\",\"\\t\",\"mu\")\n",
    "\n",
    "for (i in 1:13){\n",
    "  x=round(rnorm(5,170,8.),2)\n",
    "  cat(paste(x),\"\\t\",round(mean(x),2),'\\n' )\n",
    "  xbar[i]=c(mean(x))\n",
    "}\n",
    "cat(\"\\t\\t\\t\\t\\t\\t\\t\\t\\t\\t\",round(mean(xbar),2),'',170 )"
   ]
  },
  {
   "cell_type": "markdown",
   "metadata": {
    "ExecuteTime": {
     "end_time": "2021-02-04T12:37:47.523265Z",
     "start_time": "2021-02-04T12:37:47.510955Z"
    }
   },
   "source": [
    "# Atividade \n",
    "\n",
    "*Código dos resultados anteriores*: Descrever cada uma das funções; reproduzir os resultados; retirar o `set.seed()` e executar repetidamente; realizar experimentos com: amostras de tamanhos \n",
    "$3,5,7,10$ (com reposição) e número de amostras $10, 20, 50$ e fazer uma tabela de resultados.\n"
   ]
  },
  {
   "cell_type": "markdown",
   "metadata": {
    "ExecuteTime": {
     "end_time": "2021-02-04T12:51:20.268841Z",
     "start_time": "2021-02-04T12:51:20.240680Z"
    }
   },
   "source": [
    "# Atividade \n",
    "\n",
    "*Código dos resultados anteriores*: Descrever cada uma das funções; reproduzir os resultados; retirar o `set.seed(1000)` e executar repetidamente; realizar experimentos com: amostras de tamanhos \n",
    "$5,7,10, 50$ e número de amostras $10, 20, 50,100, 500$ e fazer uma tabela de resultados."
   ]
  },
  {
   "cell_type": "markdown",
   "metadata": {
    "ExecuteTime": {
     "end_time": "2021-02-04T12:50:04.340511Z",
     "start_time": "2021-02-04T12:50:04.321807Z"
    }
   },
   "source": [
    "# Embasamento Teórico\n",
    "\n",
    "Fatores influentes para obter $\\mu=\\frac{1}{n}\\sum_{i=1}^{n} Xmeans_i$\n",
    "\n",
    "* Observação $\\frac{1}{n}\\sum_{i=1}^{n} Xmeans_i \\rightarrow \\mu$\n",
    "e convergência  é muito diferente de igualdade.\n",
    "* Tipo de população (distribuição)\n",
    "  * Gaussiana converge mais rápido devido à simetria.\n",
    "  * não gaussianas convergem mais lentamente. Quanto maior assimetria dos dados, mas lento o processo.\n",
    "* Tamanho da população\n",
    "* Tamanho da amostra\n",
    "  * quanto menor tamanho da amostra, mais lento.\n",
    "* Quantidade de amostras\n",
    "  * quanto mais amostras, melhor!\n",
    "* O valor exato não é fácilmente obtido (apesar de ser possível)! Note a escrita!\n",
    "\n",
    "\n",
    "\n",
    "- Existem diferentes formas de se coletar dados,\n",
    "nem todos são adequados para uma análise estatística.\n",
    "- Se as amostras não são coletadas da forma correta, os dados são tão completamente inuteis que nenhum trabalho estatístico (tecnicas sofisticadas, softwares ou qualquer artmanha pirotécnica) pode levar à conclusões eficientes (Triola, 2004, pg. 05).\n",
    "\n",
    "\n",
    "- A coleta apropriada dos dados está relacionada\n",
    "diretamente aos objetivos do experimento e as conclusões que se deseja chegar.\n",
    "  - Cuidado para não confundir com **\"Direcionar a pesquisa para obter os resultados desejados\"**\n",
    "- Existem diferentes técnicas de amostragem para coleta\n",
    "de dados. **A ética é um ponto importante na elaboração\n",
    "da coleta de dados.**\n",
    "\n",
    "\n",
    "***\n",
    "\n",
    "* Parâmetro de uma população: É uma medida numérica que descreve alguma característica de uma população, em geral é desconhecida.\n",
    "\n",
    "* Estatística: É uma medida numérica que descreve alguma característica de uma amostra, é obtida em função de um conjunto de observações (a amostra).\n",
    "\n",
    "- Questão: O que é comum nas notícias: parâmetro ou estatística ?\n",
    "  - parâmetro: populações pequenas, em geral (Avalia todo mundo-> parâmetro)\n",
    "  - estatística: populações grandes, em geral (não avalia todo mundo -> estatística)\n",
    "  \n",
    "- Exemplo 01 (parâmetro): tempo médio corrida dos alunos do 1 ano de 2019: 5min/km.\n",
    "\n",
    "- Exemplo 02 (estatística): tempo médio de corrida dos alunos do 1 ano, baseado no tempo médio dos alunos do 1 ano de 2019."
   ]
  },
  {
   "cell_type": "markdown",
   "metadata": {},
   "source": [
    "## Exemplo \n",
    "(Médias do conjunto de dados): Parâmetro ou estatística ?"
   ]
  },
  {
   "cell_type": "code",
   "execution_count": 9,
   "metadata": {
    "ExecuteTime": {
     "end_time": "2021-02-05T07:52:51.298160Z",
     "start_time": "2021-02-05T07:52:51.292786Z"
    }
   },
   "outputs": [
    {
     "data": {
      "text/html": [
       "<dl class=dl-horizontal>\n",
       "\t<dt>SepLeng</dt>\n",
       "\t\t<dd>5.84333333333333</dd>\n",
       "\t<dt>SepWidth</dt>\n",
       "\t\t<dd>3.05733333333333</dd>\n",
       "\t<dt>PetLeng</dt>\n",
       "\t\t<dd>3.758</dd>\n",
       "\t<dt>PetWidh</dt>\n",
       "\t\t<dd>1.19933333333333</dd>\n",
       "</dl>\n"
      ],
      "text/latex": [
       "\\begin{description*}\n",
       "\\item[SepLeng] 5.84333333333333\n",
       "\\item[SepWidth] 3.05733333333333\n",
       "\\item[PetLeng] 3.758\n",
       "\\item[PetWidh] 1.19933333333333\n",
       "\\end{description*}\n"
      ],
      "text/markdown": [
       "SepLeng\n",
       ":   5.84333333333333SepWidth\n",
       ":   3.05733333333333PetLeng\n",
       ":   3.758PetWidh\n",
       ":   1.19933333333333\n",
       "\n"
      ],
      "text/plain": [
       " SepLeng SepWidth  PetLeng  PetWidh \n",
       "5.843333 3.057333 3.758000 1.199333 "
      ]
     },
     "metadata": {},
     "output_type": "display_data"
    }
   ],
   "source": [
    "colMeans(iris[1:4])"
   ]
  },
  {
   "cell_type": "markdown",
   "metadata": {
    "ExecuteTime": {
     "end_time": "2021-02-04T13:04:36.377487Z",
     "start_time": "2021-02-04T13:04:36.364880Z"
    }
   },
   "source": [
    "# Atividade\n",
    "\n",
    "1. Exercício: Calcular as médias (quando possível) para o cunjunto de dados **iris**. \n",
    "\n",
    "2. Assistir o Documentário **Tudo está nos números**\n",
    "\n",
    "3. Selecionar uma amostra aleatória de 10 alunos da sala e pedir as seguintes informações: peso, altura, cor do cabelo, cor dos olhos, num. sapato, km em corrida de 12min., Verificar se é atleta, região de origem (Macro);\n",
    "\n",
    "  * não anotar nomes (sem identificação dos alunos);\n",
    "  * descrever o processo de seleção da amostra;\n",
    "  * montar tabela com os dados (agradeçemos participação de todos) usando planilha eletrônica;\n",
    "  * carregar os dados usando formato *.csv* no Python."
   ]
  },
  {
   "cell_type": "markdown",
   "metadata": {},
   "source": [
    "# Tipos de dados e escalas\n",
    "\n",
    "**Dados quantitativos** \n",
    "\n",
    "Numéricos (Números Naturais ou reais)\n",
    "\n",
    "* Dados discretos: Contagem ou enumerável;\n",
    "* Dados contínuos: Podem assumir qualquer valores real, as vezes em um intervalo da reta, as vezes em toda reta;\n",
    "* Permitido: ordenação e operações matemáticas (soma, diferenças, etc.);\n",
    "* Exemplo: Idade, Peso, Altura, IMC, tempo corrida 400m, etc.\n",
    "\n",
    "**Dados qualitativos**\n",
    "\n",
    "* Dado ordinal: podem ser ordenados mas as diferenças entre eles não tem sifgnificado;\n",
    "  * Conceitos dados por um professor: A,B,C,D;\n",
    "  * Rank dos times de futebol na FIFA;\n",
    "* Dado intervalar: Nível intervalar de medida é como nível ordinal, com a propriedade de que as diferenças entre qualquer dois intervalos é significativa. Estes dados não tem um ponto inicial (zero natural).\n",
    "  * temperatura: $35^oC$, $25^oC$ , a diferença é $10^o$ C. Mas $0^o$ C não significa ausência de calor.\n"
   ]
  },
  {
   "cell_type": "markdown",
   "metadata": {
    "ExecuteTime": {
     "end_time": "2021-02-04T13:19:20.513826Z",
     "start_time": "2021-02-04T13:19:20.501278Z"
    }
   },
   "source": [
    "## Exemplo **iris**"
   ]
  },
  {
   "cell_type": "code",
   "execution_count": 10,
   "metadata": {
    "ExecuteTime": {
     "end_time": "2021-02-05T07:52:51.307989Z",
     "start_time": "2021-02-05T07:52:51.299709Z"
    }
   },
   "outputs": [
    {
     "data": {
      "text/html": [
       "<dl class=dl-horizontal>\n",
       "\t<dt>SepLeng</dt>\n",
       "\t\t<dd>'numeric'</dd>\n",
       "\t<dt>SepWidth</dt>\n",
       "\t\t<dd>'numeric'</dd>\n",
       "\t<dt>PetLeng</dt>\n",
       "\t\t<dd>'numeric'</dd>\n",
       "\t<dt>PetWidh</dt>\n",
       "\t\t<dd>'numeric'</dd>\n",
       "\t<dt>Spec</dt>\n",
       "\t\t<dd>'factor'</dd>\n",
       "</dl>\n"
      ],
      "text/latex": [
       "\\begin{description*}\n",
       "\\item[SepLeng] 'numeric'\n",
       "\\item[SepWidth] 'numeric'\n",
       "\\item[PetLeng] 'numeric'\n",
       "\\item[PetWidh] 'numeric'\n",
       "\\item[Spec] 'factor'\n",
       "\\end{description*}\n"
      ],
      "text/markdown": [
       "SepLeng\n",
       ":   'numeric'SepWidth\n",
       ":   'numeric'PetLeng\n",
       ":   'numeric'PetWidh\n",
       ":   'numeric'Spec\n",
       ":   'factor'\n",
       "\n"
      ],
      "text/plain": [
       "  SepLeng  SepWidth   PetLeng   PetWidh      Spec \n",
       "\"numeric\" \"numeric\" \"numeric\" \"numeric\"  \"factor\" "
      ]
     },
     "metadata": {},
     "output_type": "display_data"
    }
   ],
   "source": [
    "sapply(iris, class)"
   ]
  },
  {
   "cell_type": "markdown",
   "metadata": {
    "ExecuteTime": {
     "end_time": "2021-02-04T13:20:08.809535Z",
     "start_time": "2021-02-04T13:20:08.790582Z"
    }
   },
   "source": [
    "# Atividade\n",
    "Verificar se os tipos de variáveis reportadas pelo pelo comando anterior são exatamente daquele tipo. Exemplo: sepal length (cm) de iris é reportado float e é de fato float pois são valores entre $4.3$ e $7.9$. Portanto, valores reais.\n",
    "\n",
    "* Conhecer os dados é essencial. "
   ]
  },
  {
   "cell_type": "markdown",
   "metadata": {},
   "source": [
    "# Atividade **Boston House Prices**\n",
    "\n",
    "Considere os dados *mtcars* presente no R\n",
    "\n",
    "Quais as variáveis avaliadas? Qual o tamanho da amostra ? Verificar os tipos de variáveis reportadas pelo R e a respectiva classificação."
   ]
  },
  {
   "cell_type": "markdown",
   "metadata": {},
   "source": [
    "# Considerações sobre amostra\n",
    "\n",
    "Algumas amostras não são adequadas para se tirar conclusões sobre a população:\n",
    "\n",
    "* Amostra de respostas voluntárias ou auto-selecionada: É aquela em que o os respondentes decidem, eles mesmos, se serão ou não incluídos na amostra. \n",
    "\n",
    "  * Pessoas críticas tendem responder em maior frequência\n",
    "* *(...)despite the fact that the use of a convenience sample does not completely prevents the conduct of a study, it should be in mind that this situation imposes limitations on the interpretation of results, particularly with regard to the generalization of its findings, because it is practically impossible to assess its accuracy* DOI: [http://dx.doi.org/10.7322/jhgd.152198]\n",
    "<!--link do Doi acima: \n",
    "[https://www.google.com/url?sa=t&rct=j&q=&esrc=s&source=web&cd=1&cad=rja&uact=8&ved=2ahUKEwjV2oWrotbmAhX8E7kGHU75CRwQFjAAegQIARAC&url=http%3A%2F%2Fpepsic.bvsalud.org%2Fpdf%2Frbcdh%2Fv28n3%2F17.pdf&usg=AOvVaw2X9cIAX2AbmdCouyT7cW5A]-->"
   ]
  },
  {
   "cell_type": "markdown",
   "metadata": {},
   "source": [
    "# Atividade\n",
    "\n",
    "Quais os problemas que podem ocorrer em uma pesquisa desse tipo? \n",
    "  \n",
    "* Pequenas amostras: Causas de morte em 5 pessoas (3 Infartos, 1 AVC, 1 Cancer)\n",
    "    * Conclusão: 60% das mortes são ocasionadas por infartos.\n",
    "    \n",
    "* Ordem das questões e questões direcionadas: \n",
    "\n",
    "  * Está sendo gasto pouco dinheiro com assistência social: 19% SIM.\n",
    "  * Está sendo gasto pouco dinheiro com assistência aos pobres: 63% SIM.\n",
    "  * O trânsito provoca mais poluição do que a indústria. (45% transito, 27% indústria)\n",
    "  * A indústria provoca mais poluição que o trânsito. (27% transito, 57% indústria)\n",
    "\n",
    "* Parece haver uma tendência  a escolher as ultimas opções da lista.\n",
    "* Dados ausentes, não-resposta, dados dependentes (correlação)\n",
    "* Estudo de interesse próprio: laboratórios farmacêuticos pagam médicos para realizarem experimentos clínicos.\n",
    "* Cenários parciais, distorções deliberadas\n",
    "\n",
    "\n",
    "**Como resolver a questão**\n",
    "\n",
    "* Evitar todos os itens anteriores + ética + estudos + interpretação sem viés + avaliação cautelosa dos resultados (Muito difícil de ser realizado e trabalhoso)\n",
    "* Estudar e ser cauteloso: delinear a pesquisa, definir os tipos de questionários, avaliações que serão executadas, análises, erros envolvidos (Sempre existem!), evitar viés de opinião e influência nas pesquisas\n",
    "* Evitar efetuar a pesquisa de modo a garantir o resultado desejedo (selecionar os grupos por indicação, afinidade, etc.)\n",
    "* Cuidado com a realização do experimento\n",
    "  * Evitar afirmações no sentido Matemático\n",
    "  * Estatística não é Matemática. As afirmações, em geral, possuem relação com a Probabilidade. \n",
    "* Problemas diferentes $\\Rightarrow$ Metodologias de amostragem e realização de experimentos diferentes: necessário dedicação, tempo e recursos financeiros (em geral) para delinear adequadamente experimentos. \n",
    "\n",
    "***\n",
    "\n",
    "* Estudo transversal: Dados coletados em um ponto do tempo.\n",
    "  * Bobak M., Skodova Z. and Marmot M. Beer and obesity: a cross-sectional study. https://www.ncbi.nlm.nih.gov/pubmed/14506485 \n",
    "  * Juliana Zangirolami-Raimundo, Jorge de Oliveira Echeimberg, Claudio Leone, Research methodology topics: Cross-sectional studies, Journal of Human Growth and Development. 2018; 28(3):356-360\n",
    "\n",
    "    * Jane F.Owens, Karen A.Matthews,  Rena R.Wing, Lewis H.Kuller. Physical activity and cardiovascular risk: A cross-sectional study of middle-aged premenopausal women.  Preventive Medicine Volume 19:2, 1990, 147-157. https://doi.org/10.1016/0091-7435(90)90016-D\n",
    "    \n",
    "* Estudo retrospectivo ou controle de caso: Dados são coletados do passado.\n",
    "* Estudo prospectivo, longitudinal ou coorte: Dados são coletados no presente e futuro."
   ]
  },
  {
   "cell_type": "markdown",
   "metadata": {},
   "source": [
    "# Definição\n",
    "\n",
    "**Def:** Confundimento: uma variável extra que você não levou em conta no estudo. Podem arruinar o experimento e tornar o estudo inútil. \n",
    "  * Podem produzir **Falsa Correlação** e Introduzir **Viés**\n",
    "  * Exemplo 01: Estudo para verificar se a falta de exercícios ocasiona ganho de peso. Amostra com 200 voluntários (100 homens e 100 mulheres).\n",
    "  * Exemplo 02: Variável de confundimento\n",
    "![imagem](https://www.students4bestevidence.net/app/uploads/2018/09/Confounding-tutorial-image-2-.jpg)\n",
    "\n",
    "Fonte: https://www.students4bestevidence.net/\n",
    "\n",
    "* Exemplo 3: (Falsa correlação)\n",
    "\n",
    "  * Locais com cegonha possuem alta taxa de natalicade;\n",
    "  * Tomar vitamina E reduz o risco de doenças cardiacas\n",
    "  \n",
    "    https://www.sciencedirect.com/topics/nursing-and-health-professions/confounding-variable\n",
    "  * Exemplo 4: Deixar as luzes acesas aumenta o risco de miopía ? \n",
    "    * doi: 10.4103/0019-5545.33263\n",
    "***\n",
    "\n",
    "Leituras:\n",
    "* Mario F. Triola Elementary Statistics: Updates for the latest technology, 9th Updated Edition 2004.pdf \n",
    "* https://www.statisticshowto.datasciencecentral.com/experimental-design/confounding-variable/"
   ]
  },
  {
   "cell_type": "markdown",
   "metadata": {},
   "source": [
    "# Variavéis de confundimento: \n",
    "Quanto a pessoa come? Existe diferenças entre Sexos? Idade? Nível de atividade Física?  peso inicial?\n",
    "    \n",
    "* **Definição:** Experimento cego (o paciente não sabe que recebe placebo, evita o efeito placebo) \n",
    "* **Definição:**  Experimento duplo-cego (nem pacientes nem médicos sabem quem recebe placebo)\n",
    "***\n",
    "Leitura:\n",
    "* Marcia Meldrum, \"A calculated risk\": the Salk polio vaccine field trials of 1954, BMJ. 1998 Oct 31; 317(7167): 1233–1236. PMCID: PMC1114166\n",
    "*The results, announced in 1955, showed good statistical evidence that Jonas Salk’s killed virus preparation was 80-90% effective in preventing paralytic poliomyelitis."
   ]
  },
  {
   "cell_type": "markdown",
   "metadata": {},
   "source": [
    "# Tipos de amostras (amostragem)\n",
    "\n",
    "* Amostragem aleatória simples: Cada indivíduo tem mesma chance de ser amostrado - Hipótese adotada em (Triola, 2001).\n",
    "* Amostragem sistemática: Cada $k$ indivíduo da população é amostrado.\n",
    "* Amostragem por conveniência: Coleta-se os dados mais fáceis serem amostrado-**não indicado para conclusões gerais sobre a característica de estudo**.\n",
    "* Amostragem por conglomerado: Divide-se a população em blocos e amostra-se os blocos aleatoriamente e todos os indivíduos dentro do bloco são entrevistados.\n",
    "* Amostragem estratificada: Divide-se a população em grupo segundo algum estrato, amostra-se aleatoriamente indivíduos dentro de cada grupo."
   ]
  },
  {
   "cell_type": "markdown",
   "metadata": {},
   "source": [
    "# Atividade\n",
    "\n",
    "Exercícios: Mario F. Triola, Elementary Statistics Technology Update (11th Edition) 11th Edition, Pearson,  2011. "
   ]
  },
  {
   "cell_type": "markdown",
   "metadata": {},
   "source": [
    "# Pontos importantes para entender ao estudar Estatística\n",
    "(Baseado em Joan Garfield, *How Students Learn Statistics*, International Statistical Review (1995), 63,1,25-34. [Tradução livre] )\n",
    "\n",
    "  * Devemos ter ideia de variabilidade dos dados e estatísticas de resumo; \n",
    "  * Distribuições normais são úteis, embora raramente fornecem ajustes perfeitos.\n",
    "  * A utilidade das características da amostra (e inferência feita com essas medidas) depende criticamente sobre como a amostragem é realizada.\n",
    "  * A correlação entre duas variáveis não implica relações de causa e efeito.\n",
    "  * As estatísticas podem ser muito pouco conclusivas, embora possam sugerir coisas e, portanto, conclusões estatísticas não devem ser cegamente aceitas.  "
   ]
  },
  {
   "cell_type": "markdown",
   "metadata": {},
   "source": [
    "# Discussão adicional\n",
    "\n",
    "[Joan Garfield, *How Students Learn Statistics*, International Statistical Review (1995), 63,1,25-34.]\n",
    "\n",
    "In addition to concepts, skills, and types of thinking, most statisticians would probably agree that we also have attitude goals for how we would like student to view statistics as a result of our courses. Such attitude goals include:\n",
    "       \n",
    "1. It is important to learn some fundamentals of statistics in order to better understand and evaluate information in the world.\n",
    "      \n",
    "2. Anyone can learn important ideas of statistics by working hard at it, using good study habits, and working together with others.\n",
    "      \n",
    "3. Learning statistics means learning to communicate using the statistical language, solving statistical problems, drawing conclusions, and supporting conclusions by explaining the reasoning behind them.\n",
    "      \n",
    "4. There are often different ways to solve a statistical problem.\n",
    "      \n",
    "5. People may come to different conclusions based on the same data if they have different assumptions and use different methods of analysis. "
   ]
  },
  {
   "cell_type": "markdown",
   "metadata": {},
   "source": [
    "# Leituras adicionais\n",
    "\n",
    "1. (Cálculo do tamanho da amostra em um estudo específico)\n",
    "- http://dx.doi.org/10.1590/abd1806-4841.20143705\n",
    "      \n",
    "2. (Amostragem em um estudo específico)\n",
    "- http://dx.doi.org/10.1590/abd1806-4841.20165254 \n",
    "\n",
    "3. (Crítica à falta de formalismo no desenvolvimento de pesquisa)\n",
    "- https://psychology.ucdavis.edu/rainbow/html/facts_cameron_survey.html#Error4\n",
    "    \n",
    "4. (Ten common mistakes)   \n",
    "- https://www.ncbi.nlm.nih.gov/pmc/articles/PMC6785265/\n",
    "\n",
    "***\n",
    "\n",
    "As seguintes referências, além daquelas apresentadas no corpo do texto, foram utilizadas para a preparação destas notas. \n",
    "\n",
    "Referências:\n",
    "\n",
    "* Mario Triola, Elementary Statistics: Updates for the latest technology, Pearson-Education, ed.09, 2004.\n",
    "* Notas de aula Prof. Marinho, Curso Estatística Descritiva, Universidade de São Paulo, 2015. \n",
    "* Bussab W.O., Morettin P.A., Estatística Básica, Saraiva, Sao Paulo, 9ed, 2017"
   ]
  }
 ],
 "metadata": {
  "kernelspec": {
   "display_name": "R",
   "language": "R",
   "name": "ir"
  },
  "language_info": {
   "codemirror_mode": "r",
   "file_extension": ".r",
   "mimetype": "text/x-r-source",
   "name": "R",
   "pygments_lexer": "r",
   "version": "3.6.1"
  },
  "nbTranslate": {
   "displayLangs": [
    "*"
   ],
   "hotkey": "alt-t",
   "langInMainMenu": true,
   "sourceLang": "en",
   "targetLang": "fr",
   "useGoogleTranslate": true
  },
  "toc": {
   "base_numbering": 1,
   "nav_menu": {},
   "number_sections": true,
   "sideBar": true,
   "skip_h1_title": false,
   "title_cell": "Table of Contents",
   "title_sidebar": "Contents",
   "toc_cell": false,
   "toc_position": {
    "height": "calc(100% - 180px)",
    "left": "10px",
    "top": "150px",
    "width": "264.4px"
   },
   "toc_section_display": true,
   "toc_window_display": true
  }
 },
 "nbformat": 4,
 "nbformat_minor": 4
}
