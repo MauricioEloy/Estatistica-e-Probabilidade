{
 "cells": [
  {
   "cell_type": "markdown",
   "metadata": {},
   "source": [
    "**Medidas de tendência Central**\n",
    "\n",
    "* Medidas de Centro.\n",
    "* Média Aritmética.\n",
    "* Média com tabelas de frequências\n",
    "* Média Ponderada.\n",
    "* Média Geométrica.\n",
    "* Mediana.\n",
    "* Moda.\n",
    "* A melhor medida de centro.\n",
    "* Assimetria."
   ]
  },
  {
   "cell_type": "markdown",
   "metadata": {},
   "source": [
    "# Medida de Centro\n",
    "\n",
    "Definição: Uma medida de centro é um valor no centro ou meio do conjunto de dados.\n",
    "\n",
    "* Existem várias maneiras de se determinar o centro de um conjunto de dados, temos:\n",
    "\n",
    "  * Média aritmética.\n",
    "  * Ponto médio.\n",
    "  * Média ponderada.\n",
    "  * Média geométrica.\n",
    "  * Mediana.\n",
    "  * Moda.\n",
    "  "
   ]
  },
  {
   "cell_type": "markdown",
   "metadata": {},
   "source": [
    "# Média aritmética\n",
    "É a soma de todos os valores do conjunto de dados dividido pelo número que representa a quantidade de valores (ou tamanho do conjunto de dados).\n",
    "\n",
    "## Exemplo: \n",
    "Se $x_1,x_2,\\cdots, x_n$ representa o conjunto de dados, então:\n",
    "\n",
    "$$\\overline{x}=\\dfrac{\\sum_{i=1}^nx_i}{n}$$\n",
    "\n",
    "* Se a média considera todos os elementos da população, então é chamada **Média populacional** ($\\mu$). \n",
    "\n",
    "* Se considera apenas um subgrupo da população, então  é chamada **Média amostral** ($\\overline{x}$)\n",
    "  * a média amostral é função da amostra (varia com a amostra).\n",
    "  * pode ser usada para estimar a média populacional (deve vir acompanhada de estimativa de erros, detalhes da amostragem, etc. )."
   ]
  },
  {
   "cell_type": "markdown",
   "metadata": {},
   "source": [
    "## Exemplo (Médida populacional) \n",
    "Considere as possíveis notas de um conjunto de alunos $J=\\{0,1,2,\\cdots,10\\}$. (Ver Notas de aula). \n",
    "\n",
    "* Cálculo manual\n",
    "\\begin{equation}\n",
    "\\mu=\\dfrac{0+1+2+\\cdots+10}{11}=5\n",
    "\\end{equation}"
   ]
  },
  {
   "cell_type": "code",
   "execution_count": 2,
   "metadata": {
    "ExecuteTime": {
     "end_time": "2021-02-11T17:48:42.276605Z",
     "start_time": "2021-02-11T17:48:42.273083Z"
    }
   },
   "outputs": [
    {
     "data": {
      "text/html": [
       "5"
      ],
      "text/latex": [
       "5"
      ],
      "text/markdown": [
       "5"
      ],
      "text/plain": [
       "[1] 5"
      ]
     },
     "metadata": {},
     "output_type": "display_data"
    }
   ],
   "source": [
    "mean(0:10)"
   ]
  },
  {
   "cell_type": "markdown",
   "metadata": {
    "ExecuteTime": {
     "end_time": "2021-02-06T00:49:50.409620Z",
     "start_time": "2021-02-06T00:49:50.387967Z"
    }
   },
   "source": [
    "## Exemplo (Médida amostral) \n",
    "Considere que as notas $9,6, 5, 7, 2$ foram obtidas de uma amostra aleatória sem reposição do conjunto de alunos do exercício anterior.\n",
    "\n",
    "* Cálculo manual\n",
    "\\begin{equation}\n",
    "\\overline{x}=\\dfrac{9+6+5+7+2}{5}=5.8\n",
    "\\end{equation}\n",
    "\n",
    "* Cálculo com Python (Apenas código apresentado. Você pode melhorar a apresentação dos resutlados com base nos códigos já apresentados.)\n"
   ]
  },
  {
   "cell_type": "code",
   "execution_count": 3,
   "metadata": {
    "ExecuteTime": {
     "end_time": "2021-02-11T17:48:42.283107Z",
     "start_time": "2021-02-11T17:48:42.278428Z"
    }
   },
   "outputs": [
    {
     "data": {
      "text/html": [
       "5.8"
      ],
      "text/latex": [
       "5.8"
      ],
      "text/markdown": [
       "5.8"
      ],
      "text/plain": [
       "[1] 5.8"
      ]
     },
     "metadata": {},
     "output_type": "display_data"
    }
   ],
   "source": [
    "set.seed(100)\n",
    "x=sample(0:10,5)\n",
    "x=sort(x)\n",
    "mean(x)"
   ]
  },
  {
   "cell_type": "markdown",
   "metadata": {},
   "source": [
    "Considere os dados **cars** (Disponível em R). Quais os nomes das variáveis e respectivas medidas efetuadas? As médias das colunas dos dados são estatísticas ou parâmetros? Quais os respectivos valores das médias das colunas (Faça cálculos manuais e com o R)\n",
    "\n",
    "* Os nomes das variáveis são:"
   ]
  },
  {
   "cell_type": "code",
   "execution_count": 4,
   "metadata": {},
   "outputs": [
    {
     "name": "stdout",
     "output_type": "stream",
     "text": [
      "Nome das variáveis:\t speed dist"
     ]
    }
   ],
   "source": [
    "cat(\"Nome das variáveis:\\t\",names(cars))"
   ]
  },
  {
   "cell_type": "markdown",
   "metadata": {},
   "source": [
    "* As médias das colunas de dados são estatísticas, pois são valores calculados para uma amostra de carros. \n",
    "\n",
    "* Os valores são:\n",
    "  * (Calculos manuais): As informações das velocidades são: "
   ]
  },
  {
   "cell_type": "code",
   "execution_count": 6,
   "metadata": {},
   "outputs": [
    {
     "name": "stdout",
     "output_type": "stream",
     "text": [
      "4 4 7 7 8 9 10 10 10 11 11 12 12 12 12 13 13 13 13 14 14 14 14 15 15 15 16 16 17 17 17 18 18 18 18 19 19 19 20 20 20 20 20 22 23 24 24 24 24 25"
     ]
    }
   ],
   "source": [
    "cat(cars$speed)"
   ]
  },
  {
   "cell_type": "markdown",
   "metadata": {},
   "source": [
    "Logo, a média é $$\\overline{x}_{speed}=\\dfrac{\\sum_{i=1}^nx_i}{n}=\\dfrac{4+4+7+\\cdots+24+24+25}{32}=15.4$$\n",
    "\n",
    "Nota: Existem valores repetidos. Logo, podemos construir a seguinte tabela de frequências:"
   ]
  },
  {
   "cell_type": "code",
   "execution_count": 7,
   "metadata": {},
   "outputs": [
    {
     "data": {
      "text/plain": [
       "x\n",
       " 4  7  8  9 10 11 12 13 14 15 16 17 18 19 20 22 23 24 25 \n",
       " 2  2  1  1  3  2  4  4  4  3  2  3  4  3  5  1  1  4  1 "
      ]
     },
     "metadata": {},
     "output_type": "display_data"
    }
   ],
   "source": [
    "x=cars$speed\n",
    "x.freq=table(x)\n",
    "x.freq"
   ]
  },
  {
   "cell_type": "markdown",
   "metadata": {},
   "source": [
    "Observe que: \n",
    "$$\\overline{x}_{speed}=\\dfrac{\\sum_{i=1}^nx_i}{n}=\\dfrac{\\sum_{k=1}^K x_k\\cdot f_k}{\\sum_{k=1}^K f_k}$$\n",
    "Logo, a média das velocidades pode ser calculada (cálculos manuais sem usar o R) por:\n",
    "$$\\overline{x}_{speed}=\\dfrac{4\\cdot 2+7\\cdot 2+8\\cdot 1+23\\cdot 1+24\\cdot 4+25\\cdot 1}{32}=\\dfrac{4\\cdot 2+7\\cdot 2+\\cdots+24\\cdot 4+25\\cdot 1}{2+2+\\cdots+4+1}=15.4$$\n",
    "O cálculo da média das distâncias é deixado ao leitor como exercício. "
   ]
  },
  {
   "cell_type": "markdown",
   "metadata": {},
   "source": [
    "### Usando o R"
   ]
  },
  {
   "cell_type": "code",
   "execution_count": 8,
   "metadata": {
    "ExecuteTime": {
     "end_time": "2021-02-11T17:48:42.303466Z",
     "start_time": "2021-02-11T17:48:42.299802Z"
    }
   },
   "outputs": [
    {
     "data": {
      "text/html": [
       "<dl class=dl-horizontal>\n",
       "\t<dt>speed</dt>\n",
       "\t\t<dd>15.4</dd>\n",
       "\t<dt>dist</dt>\n",
       "\t\t<dd>42.98</dd>\n",
       "</dl>\n"
      ],
      "text/latex": [
       "\\begin{description*}\n",
       "\\item[speed] 15.4\n",
       "\\item[dist] 42.98\n",
       "\\end{description*}\n"
      ],
      "text/markdown": [
       "speed\n",
       ":   15.4dist\n",
       ":   42.98\n",
       "\n"
      ],
      "text/plain": [
       "speed  dist \n",
       "15.40 42.98 "
      ]
     },
     "metadata": {},
     "output_type": "display_data"
    }
   ],
   "source": [
    "sapply(cars, FUN=mean)"
   ]
  },
  {
   "cell_type": "markdown",
   "metadata": {},
   "source": [
    "## Exemplo (Leitura Recomendada)\n",
    "\n",
    "**Calculos manuais executados com o R.**\n",
    "\n",
    "Este exemplo mostra uma possibilidade de uso do R para executar os cálculos . O R aqui é utilizado como uma planilha de cálculos. A seguinte notação é utilizada no código a  seguir: \n",
    "\n",
    "* $xunique$: valores únicos da variável $x$ (Nota: não há sentido em anotar valores de $x$ cuja frequência é zero).\n",
    "* $xprod$: produto entre $x_i\\cdot f_i$."
   ]
  },
  {
   "cell_type": "code",
   "execution_count": 9,
   "metadata": {
    "ExecuteTime": {
     "end_time": "2021-02-11T17:48:42.326250Z",
     "start_time": "2021-02-11T17:48:42.305501Z"
    }
   },
   "outputs": [
    {
     "data": {
      "text/html": [
       "<table>\n",
       "<thead><tr><th></th><th scope=col>x.freq</th><th scope=col>xprod</th></tr></thead>\n",
       "<tbody>\n",
       "\t<tr><th scope=row>0</th><td> 8</td><td> 0</td></tr>\n",
       "\t<tr><th scope=row>1</th><td> 9</td><td> 9</td></tr>\n",
       "\t<tr><th scope=row>2</th><td> 7</td><td>14</td></tr>\n",
       "\t<tr><th scope=row>3</th><td> 6</td><td>18</td></tr>\n",
       "\t<tr><th scope=row>4</th><td>12</td><td>48</td></tr>\n",
       "\t<tr><th scope=row>5</th><td> 8</td><td>40</td></tr>\n",
       "</tbody>\n",
       "</table>\n"
      ],
      "text/latex": [
       "\\begin{tabular}{r|ll}\n",
       "  & x.freq & xprod\\\\\n",
       "\\hline\n",
       "\t0 &  8 &  0\\\\\n",
       "\t1 &  9 &  9\\\\\n",
       "\t2 &  7 & 14\\\\\n",
       "\t3 &  6 & 18\\\\\n",
       "\t4 & 12 & 48\\\\\n",
       "\t5 &  8 & 40\\\\\n",
       "\\end{tabular}\n"
      ],
      "text/markdown": [
       "\n",
       "| <!--/--> | x.freq | xprod |\n",
       "|---|---|---|\n",
       "| 0 |  8 |  0 |\n",
       "| 1 |  9 |  9 |\n",
       "| 2 |  7 | 14 |\n",
       "| 3 |  6 | 18 |\n",
       "| 4 | 12 | 48 |\n",
       "| 5 |  8 | 40 |\n",
       "\n"
      ],
      "text/plain": [
       "  x.freq xprod\n",
       "0  8      0   \n",
       "1  9      9   \n",
       "2  7     14   \n",
       "3  6     18   \n",
       "4 12     48   \n",
       "5  8     40   "
      ]
     },
     "metadata": {},
     "output_type": "display_data"
    },
    {
     "name": "stdout",
     "output_type": "stream",
     "text": [
      "média= 2.58"
     ]
    }
   ],
   "source": [
    "set.seed(421)\n",
    "x=sample(0:5,50,replace=TRUE) # amostra tamanho 50 entre 0-5  com reposição\n",
    "x.freq=table(x) # constroi tabela de distribuição de frequencias\n",
    "xunique=unique(x) # pega x unicos\n",
    "xunique=sort(xunique) # ordena\n",
    "xprod=xunique*x.freq # produto entre os valores x e as respectivas frequencias\n",
    "cbind(x.freq,xprod) # constroi tabela de frequencias e respectivos produtos por linha\n",
    "\n",
    "n=sum(x.freq)\n",
    "cat(\"média=\",sum(xprod)/n)"
   ]
  },
  {
   "cell_type": "markdown",
   "metadata": {
    "ExecuteTime": {
     "end_time": "2021-02-08T22:13:55.203903Z",
     "start_time": "2021-02-08T22:13:55.191895Z"
    }
   },
   "source": [
    "Calculando usando as funções do R"
   ]
  },
  {
   "cell_type": "code",
   "execution_count": 10,
   "metadata": {
    "ExecuteTime": {
     "end_time": "2021-02-11T17:48:42.337118Z",
     "start_time": "2021-02-11T17:48:42.334288Z"
    }
   },
   "outputs": [
    {
     "name": "stdout",
     "output_type": "stream",
     "text": [
      "média= 2.58"
     ]
    }
   ],
   "source": [
    "set.seed(421)\n",
    "x=sample(0:5,50,replace=TRUE)#amostra tamanho 50 entre 0-5  com reposição\n",
    "cat(\"média=\",mean(x))"
   ]
  },
  {
   "cell_type": "markdown",
   "metadata": {},
   "source": [
    "# Ponto médio\n",
    "\n",
    "Definição (Ponto médio): É a medida de centro que é exatamente o valor a meio caminho entre o maior e o menor valor do conjunto original dos dados. É obtido somando-se o maior valor e o menor valor e dividindo-se a soma por 2.\n",
    "\n",
    "* Se $x_1$ e $x_n$ , representam, respectivamente, o menor valor e o maior valor do conjunto de dados. Então, o *Ponto Médio* é calculado como:\n",
    "$$P_m=\\dfrac{x_1+x_n}{2}=\\dfrac{mínimo+máximo}{2}$$\n",
    "\n"
   ]
  },
  {
   "cell_type": "markdown",
   "metadata": {},
   "source": [
    "## Exemplo\n",
    "Calcular o ponto médio do seguinte conjunto de valores:"
   ]
  },
  {
   "cell_type": "code",
   "execution_count": 11,
   "metadata": {
    "ExecuteTime": {
     "end_time": "2021-02-11T17:48:42.343562Z",
     "start_time": "2021-02-11T17:48:42.338642Z"
    }
   },
   "outputs": [
    {
     "name": "stdout",
     "output_type": "stream",
     "text": [
      "30.77661 25.76725 55.23224 5.638315 46.85493 48.37707 81.24026"
     ]
    }
   ],
   "source": [
    "set.seed(100)\n",
    "x=100*runif(7) # sample(0:10,5)\n",
    "cat(x)"
   ]
  },
  {
   "cell_type": "markdown",
   "metadata": {},
   "source": [
    " * Cálculo manual\n",
    " \n",
    "     * Ordenar"
   ]
  },
  {
   "cell_type": "code",
   "execution_count": 15,
   "metadata": {
    "ExecuteTime": {
     "end_time": "2021-02-11T17:48:42.348842Z",
     "start_time": "2021-02-11T17:48:42.344955Z"
    }
   },
   "outputs": [
    {
     "name": "stdout",
     "output_type": "stream",
     "text": [
      "5.638315 25.76725 30.77661 46.85493 48.37707 55.23224 81.24026"
     ]
    }
   ],
   "source": [
    "x=c(30.77661, 25.76725, 55.23224, 5.638315, 46.85493, 48.37707, 81.24026)\n",
    "x=sort(x)\n",
    "cat(x)"
   ]
  },
  {
   "cell_type": "markdown",
   "metadata": {},
   "source": [
    "* \n",
    "    * Aplicar a Fórmula"
   ]
  },
  {
   "cell_type": "code",
   "execution_count": 16,
   "metadata": {},
   "outputs": [
    {
     "name": "stdout",
     "output_type": "stream",
     "text": [
      "O ponto médio é  43.43929"
     ]
    }
   ],
   "source": [
    "cat(\"O ponto médio é \",(min(x)+max(x))/2)"
   ]
  },
  {
   "cell_type": "markdown",
   "metadata": {},
   "source": [
    "# Média para distribuição de frequências com classes\n",
    "\n",
    "Definição (Média de distribuição de frequências): É a medida de centro que é obtida\n",
    "somando-se os produtos dos pontos médios de cada classe da tabela da distribuição de frequência por suas respectivas frequências e divide-se esta soma pela\n",
    "soma das frequências. Representamos esta média por:\n",
    "$$\\overline{x}=\\dfrac{\\sum_{i=1}^{k}f_i\\cdot Pm_i}{\\sum_{i=1}^kf_i}$$\n",
    "\n",
    "* $k=N_c$ representa o número de classes na Tabela de frequência.\n",
    "* $Pm_i$ é o ponto médio da i− ésima classe.\n",
    "* $f_i$ representa a frequência da  ésima classe. i−\n",
    "\n",
    "Nota: \n",
    "\n",
    "* Se todos os dados estão disponíveis em meio eletrônico, então podemos considerar a aplicação da fórmula sem classes. O Python pode fazer os cálculos rapidamente (ao menos para os casos aqui discutidos) sem necessidade de converter em distribuição de frequências. \n",
    "* Eventualmente, pode ser necessário a utiliação de intervalos de classe. \n",
    "  * Observação: a média dos dados (sem agrupamento) e a média dos dados agrupados podem não ser iguais. \n",
    "  * Informações são perdidas no agrupamento. "
   ]
  },
  {
   "cell_type": "markdown",
   "metadata": {},
   "source": [
    "##  Exemplo (Leitura Recomendada)\n",
    "Calculos manuais executados com o R.\n",
    "\n",
    "Este exemplo mostra uma possibilidade de uso do R para executar os cálculos . O R aqui é utilizado como uma planilha de cálculos (Ver procedimento para construção de tabela de frequências). A seguinte notação é utilizada:\n",
    "\n",
    "* $pm_i$: ponto médio da classe.\n",
    "* $xprod=f_i\\cdot pm_i$: é o produto entre $f_i$ e $pm_i$ da fórmula anterior. "
   ]
  },
  {
   "cell_type": "code",
   "execution_count": 17,
   "metadata": {
    "ExecuteTime": {
     "end_time": "2021-02-11T17:48:42.366048Z",
     "start_time": "2021-02-11T17:48:42.350266Z"
    }
   },
   "outputs": [
    {
     "data": {
      "text/html": [
       "<table>\n",
       "<thead><tr><th></th><th scope=col>f_i</th><th scope=col>pm_i</th><th scope=col>xprod</th></tr></thead>\n",
       "<tbody>\n",
       "\t<tr><th scope=row>[0,1.7)</th><td>11   </td><td>0.85 </td><td> 9.35</td></tr>\n",
       "\t<tr><th scope=row>[1.7,3.4)</th><td> 8   </td><td>2.55 </td><td>20.40</td></tr>\n",
       "\t<tr><th scope=row>[3.4,5.1)</th><td>10   </td><td>4.25 </td><td>42.50</td></tr>\n",
       "\t<tr><th scope=row>[5.1,6.8)</th><td> 7   </td><td>5.95 </td><td>41.65</td></tr>\n",
       "\t<tr><th scope=row>[6.8,8.5)</th><td> 8   </td><td>7.65 </td><td>61.20</td></tr>\n",
       "\t<tr><th scope=row>[8.5,10.1)</th><td> 6   </td><td>9.35 </td><td>56.10</td></tr>\n",
       "</tbody>\n",
       "</table>\n"
      ],
      "text/latex": [
       "\\begin{tabular}{r|lll}\n",
       "  & f\\_i & pm\\_i & xprod\\\\\n",
       "\\hline\n",
       "\t{[}0,1.7) & 11    & 0.85  &  9.35\\\\\n",
       "\t{[}1.7,3.4) &  8    & 2.55  & 20.40\\\\\n",
       "\t{[}3.4,5.1) & 10    & 4.25  & 42.50\\\\\n",
       "\t{[}5.1,6.8) &  7    & 5.95  & 41.65\\\\\n",
       "\t{[}6.8,8.5) &  8    & 7.65  & 61.20\\\\\n",
       "\t{[}8.5,10.1) &  6    & 9.35  & 56.10\\\\\n",
       "\\end{tabular}\n"
      ],
      "text/markdown": [
       "\n",
       "| <!--/--> | f_i | pm_i | xprod |\n",
       "|---|---|---|---|\n",
       "| [0,1.7) | 11    | 0.85  |  9.35 |\n",
       "| [1.7,3.4) |  8    | 2.55  | 20.40 |\n",
       "| [3.4,5.1) | 10    | 4.25  | 42.50 |\n",
       "| [5.1,6.8) |  7    | 5.95  | 41.65 |\n",
       "| [6.8,8.5) |  8    | 7.65  | 61.20 |\n",
       "| [8.5,10.1) |  6    | 9.35  | 56.10 |\n",
       "\n"
      ],
      "text/plain": [
       "           f_i pm_i xprod\n",
       "[0,1.7)    11  0.85  9.35\n",
       "[1.7,3.4)   8  2.55 20.40\n",
       "[3.4,5.1)  10  4.25 42.50\n",
       "[5.1,6.8)   7  5.95 41.65\n",
       "[6.8,8.5)   8  7.65 61.20\n",
       "[8.5,10.1)  6  9.35 56.10"
      ]
     },
     "metadata": {},
     "output_type": "display_data"
    },
    {
     "name": "stdout",
     "output_type": "stream",
     "text": [
      "média= 4.624"
     ]
    }
   ],
   "source": [
    "set.seed(421)\n",
    "x=sample(0:10,50,replace=TRUE) # amostra tamanho 50 entre 0-5  com reposição\n",
    "\n",
    "options(digits=4); N=length(x); Nc=floor(1+3.3*log10(N)); # Nc\n",
    "A=round(max(x)-min(x),1);Ac=round(A/Nc,1); # Ac\n",
    "breaks = seq(min(x),max(x), by=Ac)    # half-integer sequence \n",
    "breaks=c(breaks,max(x)+0.1)\n",
    "x.cut = cut(x, breaks, right=FALSE) \n",
    "f_i = table(x.cut) \n",
    "\n",
    "pm_i=breaks[1:length(breaks)-1]+Ac/2;\n",
    "#cat(\"[l_i,L_i)\", \"f_i\", \"pm_i\" )\n",
    "\n",
    "xprod=f_i*pm_i # produto entre os valores x e as respectivas frequencias\n",
    "cbind(f_i,pm_i,xprod) # constroi tabela de frequencias e respectivos produtos por linha\n",
    "\n",
    "n=sum(f_i)\n",
    "cat(\"média=\",sum(xprod)/n)"
   ]
  },
  {
   "cell_type": "markdown",
   "metadata": {
    "ExecuteTime": {
     "end_time": "2021-02-09T10:57:11.237713Z",
     "start_time": "2021-02-09T10:57:11.228034Z"
    }
   },
   "source": [
    "Cálculo utilizando as funções do R"
   ]
  },
  {
   "cell_type": "code",
   "execution_count": 18,
   "metadata": {
    "ExecuteTime": {
     "end_time": "2021-02-11T17:48:42.377975Z",
     "start_time": "2021-02-11T17:48:42.373470Z"
    }
   },
   "outputs": [
    {
     "name": "stdout",
     "output_type": "stream",
     "text": [
      "média= 4.58"
     ]
    }
   ],
   "source": [
    "set.seed(421)\n",
    "x=sample(0:10,50,replace=TRUE)#amostra tamanho 50 entre 0-5  com reposição\n",
    "cat(\"média=\",mean(x))"
   ]
  },
  {
   "cell_type": "markdown",
   "metadata": {},
   "source": [
    "# Considerações média\n",
    "\n",
    "* A medida mais popular e conhecida. Pode ser usada para ambos tipos de dados (discreto e contínuo) e escalas razão e intervalar. \n",
    "* A médida é uma boa medida quando o conjunto de dados contém valores que são relativamente igualmente espaçados e sem a presença de valores extremamente altos ou extremamente baixos.\n",
    "* Leva em conta todos os elementos na amostra (ou população).\n",
    "* Todos os elementos são ponderados igualmente.\n",
    "* Pode ser vista como o ponto de apoio que divide separa os valores em iguais pesos \n",
    "$(1 + 3 + 9 + 27 + 81 + 243 + 729) ÷ 7 = 156.1$. \n",
    "\n",
    "<center><img src=\"https://miro.medium.com/max/1511/1*gLkTe6Qxgw_VEfSHkWEpZA.png\" width=\"1000\" height=\"50\"></center>\n",
    "\n",
    "* Inapropriada para escalas ordinal ou nominal.\n",
    "* Inadequada quando existem valores extremamente altos ou extremamente baixos.  "
   ]
  },
  {
   "cell_type": "markdown",
   "metadata": {},
   "source": [
    "## Nota adicional (Ajuste de uma curva normal)\n",
    "\n",
    "Considere os dados de *cars* (disponível em R) que, por algum motivo de ordem desconhecida (ou superior), há interesse em afirmar que os dados seguem uma distribuição normal (ou são provenientes de uma distribuição normal) em ambas as variáveis *speed* e *dist*. \n",
    "\n",
    "A seguir os dois conjuntos de dados são apresentados na forma de histograma. As  curvas normais (calculadas com base na amostra) e uma curva empírica são apresentados para ambos *speed* e *dist*. \n",
    "\n",
    "* Curva com dados de velocidade (*speed*)"
   ]
  },
  {
   "cell_type": "code",
   "execution_count": 19,
   "metadata": {
    "ExecuteTime": {
     "end_time": "2021-02-11T17:48:42.395813Z",
     "start_time": "2021-02-11T17:48:42.379386Z"
    }
   },
   "outputs": [
    {
     "data": {
      "image/png": "[encoded data removed]",
      "text/plain": [
       "Plot with title “Histogram of cars$speed”"
      ]
     },
     "metadata": {},
     "output_type": "display_data"
    }
   ],
   "source": [
    "x=seq(from=mean(cars$speed)-5*sd(cars$speed),to=mean(cars$speed)+5*sd(cars$speed),100)\n",
    "par(mfrow=c(1,1))\n",
    "a1=hist(cars$speed,breaks=10, prob=T,col=\"blue\",border=\"black\",xlim=c(0,35))\n",
    "points(density(cars$speed),type=\"l\",col=\"magenta\",lwd=10,xlim=c(0,35))\n",
    "curve(dnorm(x,mean=mean(cars$speed),sd=sd(cars$speed)), col=\"red\", lwd=2, add=TRUE)\n",
    "abline(v = mean(cars$speed), col=\"red\", lwd=10, lty=2,xlim=c(0,35))\n",
    "rug(cars$speed,col=\"red\",xlim=c(0,35))"
   ]
  },
  {
   "cell_type": "markdown",
   "metadata": {},
   "source": [
    "* Prós \n",
    "\n",
    "  * dados parecem ser simétricos com a média no centro (linha vermelha); \n",
    "  * a curva normal (em vermelho) ajustada utilizando os dados parece ser razoável para os dados.\n",
    "  * a curva empírica (magenta) parece concordar bem com a curva normal. \n",
    "  \n",
    "* Contra\n",
    "  * apesar das observações anteriores:\n",
    "    * não há medida de simetria;\n",
    "    * não há medida de curtose (\"achatamento\" em relação à curva normal);\n",
    "    * é necessário desenvolver e entender outras medidas para uma afirmação mais adequada.\n",
    "* Nota: verificar se a amostra é aleatória e se não há tendências nos dados é importante. Há outros elementos importantes ainda e que não são objetos do curso. "
   ]
  },
  {
   "cell_type": "markdown",
   "metadata": {},
   "source": [
    "* Curva com dados de distância (*dist*)"
   ]
  },
  {
   "cell_type": "code",
   "execution_count": 21,
   "metadata": {},
   "outputs": [
    {
     "data": {
      "image/png": "[encoded data removed]",
      "text/plain": [
       "Plot with title “Histogram of cars$dist”"
      ]
     },
     "metadata": {},
     "output_type": "display_data"
    }
   ],
   "source": [
    "x=seq(from=mean(cars$speed)-5*sd(cars$speed),to=mean(cars$speed)+5*sd(cars$speed),100)\n",
    "par(mfrow=c(1,1))\n",
    "\n",
    "hist(cars$dist,breaks=10, prob=T,col=\"blue\",border=\"black\")\n",
    "points(density(cars$dist),type=\"l\",col=\"magenta\",lwd=10)\n",
    "curve(dnorm(x,mean=mean(cars$dist),sd=sd(cars$dist)), col=\"red\", lwd=2, add=TRUE)\n",
    "abline(v = mean(cars$dist), col=\"red\", lwd=10, lty=2)\n",
    "rug(cars$dist,col=\"red\",xlim=c(0,35))"
   ]
  },
  {
   "cell_type": "markdown",
   "metadata": {},
   "source": [
    "* Prós\n",
    "\n",
    "  * parecem não existir.\n",
    "* Contra\n",
    "  * não parece haver concordância entre a amostra e uma curva normal; \n",
    "  * há assimetria dos dados; \n",
    "  * ver observações do item anterior. \n",
    "\n",
    "\n",
    "Uma análise gráfica rápida do histograma dos dados da curva normal obtida com base nos dados parece não corroborar a ideia de normalidade de ambos os dados *speed* e *dist*. \n",
    "\n",
    "  * Nota 01: esse exemplo é apenas uma nota. Esse tipo de análise é um pouco mais complexa e deve ser vista aqui com cautela. Os resultados aqui são meramente baseados na comparação visual da curva normal ajustada, da curva empírica e na simetria dos dados do histograma. \n",
    "  * Nota 02: Não há objetivo de fazer inferências aqui. O objetivo único e exclusivo é ressaltar que as análises precisam englobar mais detalhes. \n",
    "\n",
    "  * Nota 03: Estatísticas servem para estimar parâmetros populacionais. Em geral, a média populacional é estimada pela média amostral. A variância amostral pode ser utilizado para estimar a variância populacional. (...mas é necessário estudar um pouco mais detalhes desse assunto.)\n",
    "  * Nota 04: Nem sempre os dados são normalmente distribuídos. "
   ]
  },
  {
   "cell_type": "markdown",
   "metadata": {},
   "source": [
    "# Leitura Recomendada\n",
    "\n",
    "## Média Ponderada\n",
    "Definição (Média ponderada): É a medida de centro que é obtida somando-se os produtos dos valores dos dados por seus respectivas pesos e divide-se esta soma pela soma dos pesos. Representamos esta média por:\n",
    "$$\\overline{x}_w=\\dfrac{\\sum_{i=1}^{k}x_i\\cdot w_i}{\\sum_{i=1}^kw_i}$$\n",
    "\n",
    "* $k$ representa o número de valores nos seus dados.\n",
    "* $x_i$ representa cada i− ésimo valor nos dados.\n",
    "* $w_i$ representa o peso do i− ésimo valor.\n",
    "\n",
    "Utilizada quando os valores variam em grau de importância.\n"
   ]
  },
  {
   "cell_type": "markdown",
   "metadata": {},
   "source": [
    "### Exemplo\n",
    "\n",
    "Considere que os 5 alunos realizaram três provas. As notas das provas são números inteiros em $\\{0,1,\\cdots, 10\\}$. Cada uma das provas possui um grau de importância e são dados pela trinca ordenada $w=(1,2,3)$. Abaixo estão as respectivas notas e médias ponderadas para cada um dos alunos. \n"
   ]
  },
  {
   "cell_type": "code",
   "execution_count": 23,
   "metadata": {
    "ExecuteTime": {
     "end_time": "2021-02-11T17:48:42.911703Z",
     "start_time": "2021-02-11T17:48:42.553Z"
    }
   },
   "outputs": [
    {
     "name": "stdout",
     "output_type": "stream",
     "text": [
      "aluno 1 são 9 6 5 \t a media ponderada é: 6 \n",
      "aluno 2 são 2 8 6 \t a media ponderada é: 6 \n",
      "aluno 3 são 5 10 3 \t a media ponderada é: 5.667 \n",
      "aluno 4 são 6 5 1 \t a media ponderada é: 3.167 \n",
      "aluno 5 são 6 10 9 \t a media ponderada é: 8.833 \n"
     ]
    }
   ],
   "source": [
    "options(digits=4)\n",
    "set.seed(100)\n",
    "for (i in 1:5){\n",
    "x=sample(0:10,3);\n",
    "w=c(1,2,3)\n",
    "xw=(x[1]*w[1]+x[2]*w[2]+x[3]*w[3])/sum(w)\n",
    "cat(\"aluno\",i,\"são\",x,\"\\t\",\"a media ponderada é:\",xw,\"\\n\")}"
   ]
  },
  {
   "cell_type": "markdown",
   "metadata": {
    "ExecuteTime": {
     "end_time": "2021-02-09T16:38:30.078493Z",
     "start_time": "2021-02-09T16:38:30.070015Z"
    }
   },
   "source": [
    "* Nota: Faça os cálculos (manuais) das médias ponderadas e verique os resultados acima. "
   ]
  },
  {
   "cell_type": "markdown",
   "metadata": {},
   "source": [
    "## Média Geométrica\n",
    "\n",
    "Definição (Média Geométrica): A média geométrica de um conjunto de números positivos é a medida de centro que é obtida com o produto de todos os membros do conjunto elevado ao inverso do número de valores. A média geométrica é definida por:\n",
    "\n",
    "$$\\overline{x}_g=\\sqrt[n]{\\prod_{i=1}^{n}x_i}$$\n",
    "\n",
    "* n representa o número de valores nos seus dados.\n",
    "* $x_i$ representa cada i− ésimo valor nos dados.\n"
   ]
  },
  {
   "cell_type": "markdown",
   "metadata": {},
   "source": [
    "### Exemplo\n",
    "Três notas de provas $\\{0,1,\\cdots, 10\\}$.\n"
   ]
  },
  {
   "cell_type": "code",
   "execution_count": 24,
   "metadata": {
    "ExecuteTime": {
     "end_time": "2021-02-11T17:48:42.912697Z",
     "start_time": "2021-02-11T17:48:42.663Z"
    }
   },
   "outputs": [
    {
     "name": "stdout",
     "output_type": "stream",
     "text": [
      "aluno 1 são 9 6 5 \t a media geométrica é: 6.463 \n",
      "aluno 2 são 2 8 6 \t a media geométrica é: 4.579 \n",
      "aluno 3 são 5 10 3 \t a media geométrica é: 5.313 \n",
      "aluno 4 são 6 5 1 \t a media geométrica é: 3.107 \n",
      "aluno 5 são 6 10 9 \t a media geométrica é: 8.143 \n"
     ]
    }
   ],
   "source": [
    "options(digits=4)\n",
    "set.seed(100)\n",
    "for (i in 1:5){\n",
    "x=sample(0:10,3);\n",
    "#w=c(1,2,3)\n",
    "xg=(x[1]*x[2]*x[3])^{1/3}\n",
    "cat(\"aluno\",i,\"são\",x,\"\\t\",\"a media geométrica é:\",xg,\"\\n\")\n",
    "}"
   ]
  },
  {
   "cell_type": "markdown",
   "metadata": {
    "ExecuteTime": {
     "end_time": "2021-02-09T16:49:28.331486Z",
     "start_time": "2021-02-09T16:49:28.322141Z"
    }
   },
   "source": [
    "* Relação entre a média geométrica e a média aritmética\n",
    "dos logaritmos é dada por: $$\\overline{x}_g=\\sqrt[n]{\\prod_{i=1}^{n}x_i}=\\exp\\left(\\dfrac{1}{n}\\sum_{i=1}^nx_i\\right)$$\n",
    "* Supondo X, Y dois conjuntos com n dados cada. Então: \n",
    "$$\\overline{\\left(\\dfrac{x}{y}\\right)_g}=\\dfrac{\\overline{x}_g}{\\overline{y}_g}$$"
   ]
  },
  {
   "cell_type": "markdown",
   "metadata": {},
   "source": [
    "# Mediana\n",
    "\n",
    "Definição: A mediana de um conjunto de dados é a medida de centro que corresponde ao valor de do meio quando a amostra é ordenada. A mediana em geral é representada por $\\tilde{x}$ ou $x_{med}$ . Se o número de valores for par, a mediana é encontrada pelo cálculo da média dos dois números do meio.\n",
    "\n",
    "## Exemplo\n",
    "Dados não agrupados ou em tabelas de frequência sem intervalos de classes:\n",
    "\n",
    "* Número ímpar de elementos $x=[169 165 175 178 173]$\n",
    "    * ordenar: $x=[165, 169, 173, 175, 178]$\n",
    "    * mediana: $\\tilde{x}=173$\n",
    "    * Usando R"
   ]
  },
  {
   "cell_type": "code",
   "execution_count": 25,
   "metadata": {
    "ExecuteTime": {
     "end_time": "2021-02-11T17:48:42.913396Z",
     "start_time": "2021-02-11T17:48:42.753Z"
    }
   },
   "outputs": [
    {
     "name": "stdout",
     "output_type": "stream",
     "text": [
      "Dados Brutos: 169 165 175 178 173 \n",
      "Rol: 165 169 173 175 178 \n",
      "n: 5 - mediana: 173"
     ]
    }
   ],
   "source": [
    "options(digits=4)\n",
    "set.seed(100)\n",
    "x=sample(160:180,5,replace=TRUE)\n",
    "cat(\"Dados Brutos:\",x,\"\\n\")\n",
    "x=sort(x,decreasing=FALSE)\n",
    "#x.freq=table(x)\n",
    "cat(\"Rol:\",x,\"\\n\")\n",
    "cat(\"n:\",length(x),\"- mediana:\",median(x))"
   ]
  },
  {
   "cell_type": "markdown",
   "metadata": {
    "ExecuteTime": {
     "end_time": "2021-02-09T17:06:26.363242Z",
     "start_time": "2021-02-09T17:06:26.353110Z"
    }
   },
   "source": [
    "* Número par de elementos: $x=[169, 165, 175, 178]$\n",
    "  * ordenar: $x=[165, 169, 175, 178]$\n",
    "  * mediana: $\\tilde{x}=\\dfrac{169+175}{2}=172$\n",
    "  * Usando R:"
   ]
  },
  {
   "cell_type": "code",
   "execution_count": 26,
   "metadata": {
    "ExecuteTime": {
     "end_time": "2021-02-11T17:48:42.914317Z",
     "start_time": "2021-02-11T17:48:42.816Z"
    }
   },
   "outputs": [
    {
     "name": "stdout",
     "output_type": "stream",
     "text": [
      "Dados Brutos: 169 165 175 178 \n",
      "Rol: 165 169 175 178 \n",
      "n: 4  - mediana: 172"
     ]
    }
   ],
   "source": [
    "set.seed(100)\n",
    "x=sample(160:180,4,replace=TRUE)\n",
    "cat(\"Dados Brutos:\",x,\"\\n\")\n",
    "x=sort(x,decreasing=FALSE)\n",
    "#x.freq=table(x)\n",
    "cat(\"Rol:\",x,\"\\n\")\n",
    "cat(\"n:\",length(x),\" - mediana:\",median(x))"
   ]
  },
  {
   "cell_type": "markdown",
   "metadata": {
    "ExecuteTime": {
     "end_time": "2021-02-09T17:07:14.169401Z",
     "start_time": "2021-02-09T17:07:14.158528Z"
    }
   },
   "source": [
    "## Exemplo \n",
    "Dados agrupados ou em tabelas de frequência sem intervalos de classes.\n",
    "  \n",
    "  * Identico ao anterior: contar os elementos e aplicar a regra anterior. "
   ]
  },
  {
   "cell_type": "markdown",
   "metadata": {},
   "source": [
    "## Dados agrupados em tabelas de frequências \n",
    "\n",
    "A mediana é o valor aproximado para a mediana calculada com dados não agrupados em classes. É interessante usar a frequência acumulada.   \n",
    "\n",
    " $$\\tilde{x}=l_{k}+\\dfrac{\\dfrac{N}{2}-Fa_{k-1}}{f_{k}}\\cdot c_{k}=L_{k-1}+\\dfrac{\\dfrac{N}{2}-Fa_{k-1}}{f_{k}}\\cdot c_{k}$$\n",
    "em que:\n",
    "* $k$ é o número da classe mediana, \n",
    "* $l_k$ é o limite inferior da classe mediana, \n",
    "* $L_{k-1}$ é o limite superior da classe anterior a classe mediana, \n",
    "* $c_k=L_K-l_{k}$\n",
    "\n",
    "Nota: a mediana também é o percentil de número 50, o segundo quartil ou o quinto decil (Ver próximas anotações para obter as fórmulas). \n",
    "\n",
    "* Outra forma (equivalente à fórmula anterior): \n",
    "\n",
    "$$ \\tilde{x}=l_{k}+x=L_{k-1}+x\\hspace{0.5cm}$$\n",
    "em que o valor $x$ é determinado com base em uma \"Regra de três\":\n",
    "\n",
    "$\\begin{array}{lll}x &--& (N/2--Fa_{k})\\\\ c_{k} &-& f_{k}\\end{array}$\n",
    "\n",
    "Nota: Ver anotações de sala de aula."
   ]
  },
  {
   "cell_type": "markdown",
   "metadata": {},
   "source": [
    "### Exemplo\n",
    "Dados iris Sepal.Length\n",
    "\n",
    "Aqui a tabela de distribuição de frequências foi construída com o auxílio do R."
   ]
  },
  {
   "cell_type": "code",
   "execution_count": 27,
   "metadata": {
    "ExecuteTime": {
     "end_time": "2021-02-11T17:48:43.034404Z",
     "start_time": "2021-02-11T17:48:43.016283Z"
    }
   },
   "outputs": [
    {
     "name": "stderr",
     "output_type": "stream",
     "text": [
      "Warning message in cbind(f_i, pm_i, Fa_i):\n",
      "“number of rows of result is not a multiple of vector length (arg 2)”"
     ]
    },
    {
     "data": {
      "text/html": [
       "<table>\n",
       "<thead><tr><th></th><th scope=col>f_i</th><th scope=col>pm_i</th><th scope=col>Fa_i</th></tr></thead>\n",
       "<tbody>\n",
       "\t<tr><th scope=row>[4.3,4.7)</th><td> 9 </td><td>4.5</td><td>  9</td></tr>\n",
       "\t<tr><th scope=row>[4.7,5.1)</th><td>23 </td><td>4.9</td><td> 32</td></tr>\n",
       "\t<tr><th scope=row>[5.1,5.5)</th><td>20 </td><td>5.3</td><td> 52</td></tr>\n",
       "\t<tr><th scope=row>[5.5,5.9)</th><td>28 </td><td>5.7</td><td> 80</td></tr>\n",
       "\t<tr><th scope=row>[5.9,6.3)</th><td>19 </td><td>6.1</td><td> 99</td></tr>\n",
       "\t<tr><th scope=row>[6.3,6.7)</th><td>23 </td><td>6.5</td><td>122</td></tr>\n",
       "\t<tr><th scope=row>[6.7,7.1)</th><td>16 </td><td>4.5</td><td>138</td></tr>\n",
       "\t<tr><th scope=row>[7.1,7.5)</th><td> 6 </td><td>4.9</td><td>144</td></tr>\n",
       "\t<tr><th scope=row>[7.5,7.9)</th><td> 5 </td><td>5.3</td><td>149</td></tr>\n",
       "\t<tr><th scope=row>[7.9,8.3)</th><td> 1 </td><td>5.7</td><td>150</td></tr>\n",
       "</tbody>\n",
       "</table>\n"
      ],
      "text/latex": [
       "\\begin{tabular}{r|lll}\n",
       "  & f\\_i & pm\\_i & Fa\\_i\\\\\n",
       "\\hline\n",
       "\t{[}4.3,4.7) &  9  & 4.5 &   9\\\\\n",
       "\t{[}4.7,5.1) & 23  & 4.9 &  32\\\\\n",
       "\t{[}5.1,5.5) & 20  & 5.3 &  52\\\\\n",
       "\t{[}5.5,5.9) & 28  & 5.7 &  80\\\\\n",
       "\t{[}5.9,6.3) & 19  & 6.1 &  99\\\\\n",
       "\t{[}6.3,6.7) & 23  & 6.5 & 122\\\\\n",
       "\t{[}6.7,7.1) & 16  & 4.5 & 138\\\\\n",
       "\t{[}7.1,7.5) &  6  & 4.9 & 144\\\\\n",
       "\t{[}7.5,7.9) &  5  & 5.3 & 149\\\\\n",
       "\t{[}7.9,8.3) &  1  & 5.7 & 150\\\\\n",
       "\\end{tabular}\n"
      ],
      "text/markdown": [
       "\n",
       "| <!--/--> | f_i | pm_i | Fa_i |\n",
       "|---|---|---|---|\n",
       "| [4.3,4.7) |  9  | 4.5 |   9 |\n",
       "| [4.7,5.1) | 23  | 4.9 |  32 |\n",
       "| [5.1,5.5) | 20  | 5.3 |  52 |\n",
       "| [5.5,5.9) | 28  | 5.7 |  80 |\n",
       "| [5.9,6.3) | 19  | 6.1 |  99 |\n",
       "| [6.3,6.7) | 23  | 6.5 | 122 |\n",
       "| [6.7,7.1) | 16  | 4.5 | 138 |\n",
       "| [7.1,7.5) |  6  | 4.9 | 144 |\n",
       "| [7.5,7.9) |  5  | 5.3 | 149 |\n",
       "| [7.9,8.3) |  1  | 5.7 | 150 |\n",
       "\n"
      ],
      "text/plain": [
       "          f_i pm_i Fa_i\n",
       "[4.3,4.7)  9  4.5    9 \n",
       "[4.7,5.1) 23  4.9   32 \n",
       "[5.1,5.5) 20  5.3   52 \n",
       "[5.5,5.9) 28  5.7   80 \n",
       "[5.9,6.3) 19  6.1   99 \n",
       "[6.3,6.7) 23  6.5  122 \n",
       "[6.7,7.1) 16  4.5  138 \n",
       "[7.1,7.5)  6  4.9  144 \n",
       "[7.5,7.9)  5  5.3  149 \n",
       "[7.9,8.3)  1  5.7  150 "
      ]
     },
     "metadata": {},
     "output_type": "display_data"
    },
    {
     "name": "stdout",
     "output_type": "stream",
     "text": [
      "Classe mediana: 4 - 50% observações é: 75"
     ]
    }
   ],
   "source": [
    "x=iris$Sepal.Length\n",
    "options(digits=4); N=length(x); Nc=floor(1+3.3*log10(N)); #Nc\n",
    "A=round(max(x)-min(x),1);Ac=round(A/Nc,1);#Ac\n",
    "breaks = seq(min(x),max(x), by=Ac)    #half-integer sequence \n",
    "breaks=c(breaks,max(breaks)+Ac)\n",
    "\n",
    "pm_i=breaks+Ac/2#pontos médios\n",
    "pm_i=pm_i[1:(length(f_i))]#só os pontos médidos nos intervalos das classes\n",
    "\n",
    "x.cut = cut(x, breaks, right=FALSE) \n",
    "f_i = table(x.cut) \n",
    "options(digits=4)\n",
    "Fr_i=f_i/sum(f_i)#frequencia relativa\n",
    "Frp_i=100*Fr_i#frequencia relativa percentual\n",
    "Fa_i=cumsum(f_i) #frequencia acumulada\n",
    "Fra_i=cumsum(Fr_i)##frequencia relativa acumulada\n",
    "Frap_i=100*Fra_i#frequencia relativa acumulada\n",
    "\n",
    "cbind(f_i,pm_i,Fa_i) \n",
    "\n",
    "cat(\"Classe mediana:\",4,\"- 50% observações é:\",sum(f_i)/2)\n"
   ]
  },
  {
   "cell_type": "markdown",
   "metadata": {},
   "source": [
    "* Veja que o código acima executa os cálculos das outras frequências já apresentadas, mas mostra apenas os intervalos das classes, as frequências absolutas, as frquências acumuladas e os pontos médios de cada classe. \n",
    "* Note que o código não calcula a classe que contém a mediana. Os cálculos foram manuais (o R foi usado para auxiliar o cálculo apenas).\n",
    "\n",
    "Ao aplicar a fórmula com $k=4$ (a quarta classe contém a mediana) temos: \n",
    "\n",
    " $$\\tilde{x}=l_{4}+\\dfrac{\\dfrac{N}{2}-Fa_{4-1}}{f_{4}}\\cdot c_{4}=5.5+\\dfrac{\\dfrac{150}{2}-52}{28}\\cdot 0.4=5.83 (5.829)$$\n",
    "* Usando R para o cálculo da mediana"
   ]
  },
  {
   "cell_type": "code",
   "execution_count": 28,
   "metadata": {
    "ExecuteTime": {
     "end_time": "2021-02-11T17:48:43.046024Z",
     "start_time": "2021-02-11T17:48:43.041236Z"
    }
   },
   "outputs": [
    {
     "data": {
      "text/html": [
       "5.8"
      ],
      "text/latex": [
       "5.8"
      ],
      "text/markdown": [
       "5.8"
      ],
      "text/plain": [
       "[1] 5.8"
      ]
     },
     "metadata": {},
     "output_type": "display_data"
    }
   ],
   "source": [
    "x=iris$Sepal.Length\n",
    "median(x)"
   ]
  },
  {
   "cell_type": "markdown",
   "metadata": {},
   "source": [
    "* Note que a fórmula sem intervalos de classe foi aplicada. O resultado acima pode ser obtido com a fórmula para número de elementos par. Veja o código abaixo:"
   ]
  },
  {
   "cell_type": "code",
   "execution_count": 29,
   "metadata": {},
   "outputs": [
    {
     "data": {
      "text/html": [
       "5.8"
      ],
      "text/latex": [
       "5.8"
      ],
      "text/markdown": [
       "5.8"
      ],
      "text/plain": [
       "[1] 5.8"
      ]
     },
     "metadata": {},
     "output_type": "display_data"
    }
   ],
   "source": [
    "x=iris$Sepal.Length\n",
    "x=sort(x)\n",
    "n=length(x)\n",
    "mediana=(x[n/2]+x[n/2+1])/2\n",
    "mediana"
   ]
  },
  {
   "cell_type": "markdown",
   "metadata": {},
   "source": [
    "# Moda\n",
    "\n",
    "Definição: A Moda de um conjunto de dados é o valor que aparece com mais frequência. \n",
    "\n",
    "* Quando dois valores ocorrem com a mesma maior frequência, cada um é uma moda e o conjunto de dados é bimodal.\n",
    "* Quando mais de dois valores ocorrem com a mesma maior frequência, cada um é uma moda e o conjunto de dados é multimodal.\n",
    "* Quando nenhum valor se repete, dizemos que não há moda.\n",
    "* OBS: Dentre as medidas centrais a Moda é a única que podem ser usada com dados nominais (nomes, rótulos, categorias).\n",
    "* Se os dados não possuem intervalo de classe, então a moda é calculada por observação direta do maior valor. \n",
    "* Quando os dados possuem intervalos de classe, a fórmula a seguir deve ser aplicada:\n",
    "\n",
    "  $$\\hat{x}=l_k+\\dfrac{\\Delta_1}{\\Delta_1+\\Delta_2}\\cdot c_k\\hspace{1.0cm}\\textrm{com}\\hspace{1.0cm}\\begin{array}{l}\\Delta_1=f_k-f_{k-1}\\\\ \\Delta_2=f_{k}-f_{k+1}\\end{array}$$\n",
    "k: é o número da classe modal."
   ]
  },
  {
   "cell_type": "markdown",
   "metadata": {},
   "source": [
    "## Exemplo\n",
    "Os dados $x=[1,3,5,10]$ não possuem moda, pois todos os valores possuem frequências idênticas \n",
    "\n",
    "## Exemplo \n",
    "Os dados $x=[1,1,1,3,3,5]$ possuem moda $\\hat{x}=1$ pois $x=1$ é a maior frequência. \n",
    "\n",
    "## Exemplo \n",
    "Amostra aleatória com reposição"
   ]
  },
  {
   "cell_type": "code",
   "execution_count": 30,
   "metadata": {
    "ExecuteTime": {
     "end_time": "2021-02-11T17:48:43.129826Z",
     "start_time": "2021-02-11T17:48:43.125188Z"
    }
   },
   "outputs": [
    {
     "data": {
      "text/plain": [
       "x\n",
       " 0  1  2  3  4  5  6  7  8  9 10 \n",
       " 6  9 18  7  7 11  8  9  9  9  7 "
      ]
     },
     "metadata": {},
     "output_type": "display_data"
    }
   ],
   "source": [
    "set.seed(4200)\n",
    "x=sample(0:10,100,replace=T)\n",
    "x.freq=table(x)\n",
    "x.freq"
   ]
  },
  {
   "cell_type": "markdown",
   "metadata": {},
   "source": [
    "$\\hat{x}=2$ é a moda.\n",
    "\n",
    "* A função para calcular a moda não está disponível no R da mesma forma que as a média ou a mediana. Existem pacotes do R que calculam a moda (não é nosso objetivo) ou a função moda pode ser programada (não é nosso objetivo). "
   ]
  },
  {
   "cell_type": "markdown",
   "metadata": {
    "ExecuteTime": {
     "end_time": "2021-02-09T17:54:05.871261Z",
     "start_time": "2021-02-09T17:54:05.862918Z"
    }
   },
   "source": [
    "## Exemplo\n",
    "Dados **iris Sepal.Length** \n",
    "\n",
    "O código para gerar os resultados abaixo já foram apresentados nas seções anteriores. "
   ]
  },
  {
   "cell_type": "code",
   "execution_count": 31,
   "metadata": {
    "ExecuteTime": {
     "end_time": "2021-02-11T17:48:43.282368Z",
     "start_time": "2021-02-11T17:48:43.263775Z"
    }
   },
   "outputs": [
    {
     "data": {
      "text/html": [
       "<table>\n",
       "<thead><tr><th></th><th scope=col>f_i</th><th scope=col>Fa_i</th><th scope=col>xmed</th></tr></thead>\n",
       "<tbody>\n",
       "\t<tr><th scope=row>[4.3,4.7)</th><td> 9 </td><td>  9</td><td>4.5</td></tr>\n",
       "\t<tr><th scope=row>[4.7,5.1)</th><td>23 </td><td> 32</td><td>4.9</td></tr>\n",
       "\t<tr><th scope=row>[5.1,5.5)</th><td>20 </td><td> 52</td><td>5.3</td></tr>\n",
       "\t<tr><th scope=row>[5.5,5.9)</th><td>28 </td><td> 80</td><td>5.7</td></tr>\n",
       "\t<tr><th scope=row>[5.9,6.3)</th><td>19 </td><td> 99</td><td>6.1</td></tr>\n",
       "\t<tr><th scope=row>[6.3,6.7)</th><td>23 </td><td>122</td><td>6.5</td></tr>\n",
       "\t<tr><th scope=row>[6.7,7.1)</th><td>16 </td><td>138</td><td>6.9</td></tr>\n",
       "\t<tr><th scope=row>[7.1,7.5)</th><td> 6 </td><td>144</td><td>7.3</td></tr>\n",
       "\t<tr><th scope=row>[7.5,7.9)</th><td> 5 </td><td>149</td><td>7.7</td></tr>\n",
       "\t<tr><th scope=row>[7.9,8.3)</th><td> 1 </td><td>150</td><td>8.1</td></tr>\n",
       "</tbody>\n",
       "</table>\n"
      ],
      "text/latex": [
       "\\begin{tabular}{r|lll}\n",
       "  & f\\_i & Fa\\_i & xmed\\\\\n",
       "\\hline\n",
       "\t{[}4.3,4.7) &  9  &   9 & 4.5\\\\\n",
       "\t{[}4.7,5.1) & 23  &  32 & 4.9\\\\\n",
       "\t{[}5.1,5.5) & 20  &  52 & 5.3\\\\\n",
       "\t{[}5.5,5.9) & 28  &  80 & 5.7\\\\\n",
       "\t{[}5.9,6.3) & 19  &  99 & 6.1\\\\\n",
       "\t{[}6.3,6.7) & 23  & 122 & 6.5\\\\\n",
       "\t{[}6.7,7.1) & 16  & 138 & 6.9\\\\\n",
       "\t{[}7.1,7.5) &  6  & 144 & 7.3\\\\\n",
       "\t{[}7.5,7.9) &  5  & 149 & 7.7\\\\\n",
       "\t{[}7.9,8.3) &  1  & 150 & 8.1\\\\\n",
       "\\end{tabular}\n"
      ],
      "text/markdown": [
       "\n",
       "| <!--/--> | f_i | Fa_i | xmed |\n",
       "|---|---|---|---|\n",
       "| [4.3,4.7) |  9  |   9 | 4.5 |\n",
       "| [4.7,5.1) | 23  |  32 | 4.9 |\n",
       "| [5.1,5.5) | 20  |  52 | 5.3 |\n",
       "| [5.5,5.9) | 28  |  80 | 5.7 |\n",
       "| [5.9,6.3) | 19  |  99 | 6.1 |\n",
       "| [6.3,6.7) | 23  | 122 | 6.5 |\n",
       "| [6.7,7.1) | 16  | 138 | 6.9 |\n",
       "| [7.1,7.5) |  6  | 144 | 7.3 |\n",
       "| [7.5,7.9) |  5  | 149 | 7.7 |\n",
       "| [7.9,8.3) |  1  | 150 | 8.1 |\n",
       "\n"
      ],
      "text/plain": [
       "          f_i Fa_i xmed\n",
       "[4.3,4.7)  9    9  4.5 \n",
       "[4.7,5.1) 23   32  4.9 \n",
       "[5.1,5.5) 20   52  5.3 \n",
       "[5.5,5.9) 28   80  5.7 \n",
       "[5.9,6.3) 19   99  6.1 \n",
       "[6.3,6.7) 23  122  6.5 \n",
       "[6.7,7.1) 16  138  6.9 \n",
       "[7.1,7.5)  6  144  7.3 \n",
       "[7.5,7.9)  5  149  7.7 \n",
       "[7.9,8.3)  1  150  8.1 "
      ]
     },
     "metadata": {},
     "output_type": "display_data"
    },
    {
     "name": "stdout",
     "output_type": "stream",
     "text": [
      "Classe modal: 4 maior frequenca é: 28"
     ]
    }
   ],
   "source": [
    "x=iris$Sepal.Length\n",
    "#x\n",
    "options(digits=4); N=length(x); Nc=floor(1+3.3*log10(N)); #Nc\n",
    "A=round(max(x)-min(x),1);Ac=round(A/Nc,1);#Ac\n",
    "breaks = seq(min(x),max(x), by=Ac)    #half-integer sequence \n",
    "breaks=c(breaks,max(breaks)+Ac)\n",
    "\n",
    "pm_i=breaks+Ac/2#pontos médios\n",
    "\n",
    "x.cut = cut(x, breaks, right=FALSE) \n",
    "f_i = table(x.cut) \n",
    "options(digits=4)\n",
    "Fr_i=f_i/sum(f_i)#frequencia relativa\n",
    "Frp_i=100*Fr_i#frequencia relativa percentual\n",
    "Fa_i=cumsum(f_i) #frequencia acumulada\n",
    "Fra_i=cumsum(Fr_i)##frequencia relativa acumulada\n",
    "Frap_i=100*Fra_i#frequencia relativa acumulada\n",
    "xmed=pm_i[1:(length(f_i))]\n",
    "cbind(f_i,Fa_i,xmed)\n",
    "cat(\"Classe modal:\",4,\"maior frequenca é:\",28)"
   ]
  },
  {
   "cell_type": "markdown",
   "metadata": {},
   "source": [
    "Baseado na distribuição de frequências acima, verifica-se que a $k=4$ (a classe que contém a moda é a quarta classe). Logo, temos: \n",
    "\n",
    "$$\\hat{x}=l_4+\\dfrac{\\Delta_1}{\\Delta_1+\\Delta_2}\\cdot c_4=l_4+\\dfrac{f_4-f_3}{(f_4-f_3)+(f_4-f_5)}\\cdot c_4=\\dfrac{28-20}{28-20+28-19}\\cdot 0.4$$"
   ]
  },
  {
   "cell_type": "markdown",
   "metadata": {},
   "source": [
    "# Considerações sobre Mediana e Moda\n",
    "\n",
    "* Considerações mediana\n",
    "  * medida resistente: não é afetada por valores extremos.\n",
    "  * indicada para dados classificados em escala ordinal ou distribuição de frequências sem intervalos de classe.\n",
    "  * fácil de ser calculada.\n",
    "  \n",
    "* Considerações sobre a moda\n",
    "\n",
    "  * é a única medida de tendência central que pode ser usada com dados nominais\n",
    "  \n",
    "  * Observações adicionais:\n",
    "    * mediana para representar a nota dos alunos em uma sala. \n",
    "    * mediana para representar os salários de um grupo de pessoas, pois a média é muito afetada por valores extremos.\n"
   ]
  },
  {
   "cell_type": "markdown",
   "metadata": {},
   "source": [
    "# Leitura Complementar: Assimetria e Curtose\n",
    "\n",
    "O coeficiente de assimetria é uma medida de falta de simetria. A distribuição é simétrica se ambas as partes, em relação à média, são idênticas (*\"mede o grau de desvio em relação a curva normal\"*). \n",
    "\n",
    "![Tipos de assimetria:](https://miro.medium.com/max/600/1*nj-Ch3AUFmkd0JUSOW_bTQ.jpeg)\n",
    "\n",
    "* Fisher-Pearson coefficient of skewness (https://www.itl.nist.gov/div898/handbook/eda/section3/eda35b.htm)\n",
    "\n",
    "\\begin{equation}\n",
    "g_{1} = \\frac{\\sum_{i=1}^{N}(Y_{i} - \\bar{Y})^{3}/N} {s^{3}}\n",
    "\\end{equation}\n",
    "\n",
    "  * $g_1=0$: há simetria\n",
    "  * $g_1\\approx 0$: pouca assimetria\n",
    "    * $g_1>0$: assimetria à direita\n",
    "    * $g_1<0$: assimetria à esquerda\n",
    "    \n",
    "* Galton skewness (Bowley's skewness) (https://www.itl.nist.gov/div898/handbook/eda/section3/eda35b.htm)\n",
    "\n",
    "\\begin{equation}\n",
    "\\mbox{Galton skewness} =\n",
    "              \\frac{Q_{1} + Q_{3} -2 Q_{2}}{Q_{3} - Q_{1}}\n",
    "\\end{equation}\n",
    "\n",
    "* O coeficiente de curtose mede se os dados possuem *cauda grossa ou fina* em relação a curva normal. \n",
    "\n",
    "![Curtose: Fonte: https://en.wikipedia.org/wiki/Kurtosis](https://upload.wikimedia.org/wikipedia/commons/thumb/e/e6/Standard_symmetric_pdfs.png/800px-Standard_symmetric_pdfs.png)\n",
    "\n",
    "* Coeficiente de curtose (Excesso de curtose )\n",
    "\n",
    "\\begin{equation} \n",
    "g_2 = \\frac{\\sum_{i=1}^{N}(Y_{i} - \\bar{Y})^{4}/N}\n",
    "      {s^{4}}-3\n",
    "\\end{equation}\n",
    "\n",
    "* se $g_2=0$: curva normal\n",
    "* se $g_2\\approx 0$: curva aproximadamente normal\n",
    "* se $g_2>>0$: curva leptocurtica (alongada em relação à curva normal)\n",
    "* se $g_2<<0$: curva mesocurtica (achatada em relação à curva normal)\n",
    "\n",
    "## Notas\n",
    "\n",
    "Baseado em : https://www.itl.nist.gov/div898/handbook/eda/section3/eda35b.htm\n",
    "\n",
    "* Uma questão fundamental em muitas análises estatísticas é a caracterização das medidas de tendência central e dispersão .\n",
    "* Caracterização adicional inclui Assimetria e Curtose. \n"
   ]
  },
  {
   "cell_type": "markdown",
   "metadata": {
    "ExecuteTime": {
     "end_time": "2021-02-09T16:28:49.273037Z",
     "start_time": "2021-02-09T16:28:49.254073Z"
    }
   },
   "source": [
    "# Atividades\n",
    "\n",
    "## Exercício (Autoavaliação) \n",
    "Considerar os códigos apresentados em aula e *set.seed(1000000)*\n",
    "\n",
    "* Gerar 5 amostras 10 elementos cada (sem reposição) com valores entre 0 e 100. Montar uma contendo: as amostras,  os valores mínimo e máximo,  ponto médio, amplitude total e média. Quantas notas estão acima do valor médio em cada caso?\n",
    "\n",
    "* (Usar 01 casa decimal) Gerar 5 amostras 10 elementos cada com distribuição normal com média 170 e variância 10. Montar uma contendo: as amostras,  os valores mínimo e máximo,  ponto médio, amplitude total e média. Quantas notas estão acima do valor médio em cada caso?\n",
    "\n",
    "* Gerar 500 amostras 30 elementos com distribuição normal com média 170 e variância 10. Fazer histogramas:  das médias, dos pontos médios e das amplitudes totais. Sobrepor um polígono de frequências em cada um dos casos. \n"
   ]
  },
  {
   "cell_type": "markdown",
   "metadata": {
    "ExecuteTime": {
     "end_time": "2021-02-09T11:15:25.144375Z",
     "start_time": "2021-02-09T11:15:24.558505Z"
    }
   },
   "source": [
    "## Exercício (Manual)\n",
    "(Dados de *iris - Sepal.Length*)\n",
    "\n",
    "Calcular a média, a amplitude total, os pontos médios para o seguinte conjunto de dados, apresentado em forma de distribuição de frequências. Apresentar o histograma e o polígono de frequências.\n"
   ]
  },
  {
   "cell_type": "markdown",
   "metadata": {},
   "source": [
    "* A média acima é uma estatística ou um parâmetro? É possível obter a média populacional ?\n",
    "* É possível calcular  a média (amostral) verdadeira dos dados, apenas com base na tabela acima? \n",
    "* Calcule a diferença entre a média amostral (usando Python) e o valor da média proveniente da tabela de distribuição de frequências acima. \n",
    "* Qual a percentagem de flores com *Sepal.Length* acima de 6.7 ?\n",
    "* Qual a percentagem de flores com *Sepal.Length* abaixo de 5.1 ?"
   ]
  },
  {
   "cell_type": "markdown",
   "metadata": {},
   "source": [
    "# Avaliação Geral (Auto-avaliação Parcial)\n",
    "\n",
    "##  Exercício (Cálculo manual). \n",
    "Use o R para gerar uma amostra aleatória (com reposição) de 57 elementos no conjunto possíveis notas dos alunos $\\{0,1,\\cdots,10\\}$ com `*set.seed(100)*`. \n",
    "  * Use o R e construa a distribuição de frequências sem intervalos de classe.\n",
    "  * Utilize os resultados do item anterior para calcular as medidas de tendência central (média, moda e mediana).\n",
    "    * Calcular o coeficiente de assimetria e de curtose (Use o R para fazer os cálculos utilizando as fórmulas dadas).\n",
    "    * Classifique os dados quanto à assimetria e curtose. "
   ]
  },
  {
   "cell_type": "markdown",
   "metadata": {},
   "source": [
    "## Exercício (Cálculo manual). \n",
    "Usar o Python para gerar uma amostra aleatória de 50 elementos de uma distribuição normal com $\\mu=0$ e $\\sigma=1$ com `*set.seed(100)*`.\n",
    "  \n",
    "  * Use o R e construa a tabela de distribuição de frequências com 5 classes (Use os códigos já fornecidos).\n",
    "  * Aplique as fórmulas adequadas e calcule as medidas de tendência central.\n",
    "\n"
   ]
  },
  {
   "cell_type": "markdown",
   "metadata": {},
   "source": [
    "# Referências\n",
    "\n",
    "* Mario Triola, Elementary Statistics: Updates for the latest technology, Pearson-Education, ed.09, 2004.\n",
    "* Notas de aula Prof. Marinho, Curso Estatística Descritiva, Universidade de São Paulo, 2015. \n",
    "\n",
    "* Bussab W.O., Morettin P.A., Estatística Básica, Saraiva, Sao Paulo, 9ed, 2017. \n"
   ]
  }
 ],
 "metadata": {
  "kernelspec": {
   "display_name": "R",
   "language": "R",
   "name": "ir"
  },
  "language_info": {
   "codemirror_mode": "r",
   "file_extension": ".r",
   "mimetype": "text/x-r-source",
   "name": "R",
   "pygments_lexer": "r",
   "version": "3.6.1"
  },
  "nbTranslate": {
   "displayLangs": [
    "*"
   ],
   "hotkey": "alt-t",
   "langInMainMenu": true,
   "sourceLang": "en",
   "targetLang": "fr",
   "useGoogleTranslate": true
  },
  "toc": {
   "base_numbering": 1,
   "nav_menu": {},
   "number_sections": true,
   "sideBar": true,
   "skip_h1_title": false,
   "title_cell": "Table of Contents",
   "title_sidebar": "Contents",
   "toc_cell": false,
   "toc_position": {
    "height": "calc(100% - 180px)",
    "left": "10px",
    "top": "150px",
    "width": "220.333px"
   },
   "toc_section_display": true,
   "toc_window_display": true
  }
 },
 "nbformat": 4,
 "nbformat_minor": 4
}
