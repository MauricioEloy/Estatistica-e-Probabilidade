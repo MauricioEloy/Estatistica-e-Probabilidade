{
 "cells": [
  {
   "cell_type": "markdown",
   "metadata": {
    "ExecuteTime": {
     "end_time": "2021-02-04T15:24:15.220226Z",
     "start_time": "2021-02-04T15:24:15.162789Z"
    }
   },
   "source": [
    "# Bibliotecas"
   ]
  },
  {
   "cell_type": "markdown",
   "metadata": {},
   "source": [
    "**Medida de Variação**\n",
    "* amplitude\n",
    "* variância e desvio padrão\n",
    "* desvio médio\n",
    "* coeficiente de variação\n",
    "* medidas quantílicas\n",
    "* box-plot"
   ]
  },
  {
   "cell_type": "markdown",
   "metadata": {},
   "source": [
    "# Considerações iniciais\n",
    "* O conceito de variação é um conceito que necessita de um referencial..\n",
    "* Uma variação é grande ou pequena quando avaliada em relação a alguma medida.\n",
    "* Uma medida muito usada para se avaliar a variação de um conjunto de dados é a média dos dados\n",
    "* Se diz que há uma grande variação acima ou abaixo da média, adota-se a média como referencial.\n",
    "\n",
    "## Exemplo\n",
    "\n",
    "Considere os conjuntos de dados "
   ]
  },
  {
   "cell_type": "code",
   "execution_count": null,
   "metadata": {},
   "outputs": [],
   "source": [
    "#codigo"
   ]
  },
  {
   "cell_type": "code",
   "execution_count": null,
   "metadata": {},
   "outputs": [],
   "source": [
    "Os  três conjuntos de dados possuem mesma média, mas diferentes aplitudes totais. "
   ]
  },
  {
   "cell_type": "code",
   "execution_count": null,
   "metadata": {},
   "outputs": [],
   "source": [
    "#codigo"
   ]
  },
  {
   "cell_type": "markdown",
   "metadata": {},
   "source": [
    "Comparando três conjuntos de dados:\n",
    "\n",
    "* Comparação usando a média: x = 6 para os três conjuntos de dados.\n",
    "* Analisando somente a média concluiremos que os três conjuntos são iguais.\n",
    "* Analisando a variabilidade dos dados baseados na amplitude total, concluiremos que:\n",
    "  * O primeiro tem maior variabilidade\n",
    "  * O segundo tem uma variabilidade intermediária\n",
    "  * O terceiro tem a menor variabilidade"
   ]
  },
  {
   "cell_type": "markdown",
   "metadata": {},
   "source": [
    "# Variância e Desvio Padrão\n",
    "\n",
    "A variância é uma média dos desvios (ao quadrado) dos valores de uma amostra em relação a média da amostra.  \n",
    "\n",
    "Se $(x_1,\\cdots, x_n)$ é uma amostra, a variância da amostra é calculado por:\n",
    "\n",
    "\\begin{equation}\n",
    "s^2=\\dfrac{\\sum_{i=1}^{n}(x_i-\\overline{x})^2}{n-1}\n",
    "\\end{equation}\n",
    "\n",
    "em que $\\overline{x}$ é a média amostral, dada por: \n",
    "\\begin{equation}\n",
    "\\overline{x}=\\dfrac{\\sum_{i=1}^{n}x_i}{n}\n",
    "\\end{equation}\n",
    "\n",
    "O desvio padrão é dado pela raíz quadrada da variância: \n",
    "\n",
    "\\begin{equation}\n",
    "s=\\sqrt{\\dfrac{\\sum_{i=1}^{n}(x_i-\\overline{x})^2}{n-1}}\n",
    "\\end{equation}\n",
    "\n",
    "## Exemplo \n",
    "Os dados $x=[0,2,3,5,5]$ possuem variância dada por: \n",
    "\n",
    "\\begin{equation}\n",
    "s^2=\\dfrac{(0-5)^2+(2-5)^2+(3-5)^2+(5-5)^2+(5-5)^2}{5-1}=4.5\n",
    "\\end{equation}\n",
    "\n",
    "O desvio padrão é a raíz quadrada da variância $s=2.121$. \n",
    "\n",
    "## Exemplo \n",
    "Amostra aleatória com reposição em $\\{0,...,10\\}$\n",
    "\n",
    "* Aplicação das fórmulas por meio do Python (Cálculos usando Python e usando funções do Python)"
   ]
  },
  {
   "cell_type": "code",
   "execution_count": null,
   "metadata": {},
   "outputs": [],
   "source": [
    "#codigo"
   ]
  },
  {
   "cell_type": "markdown",
   "metadata": {},
   "source": [
    "* Utilizando funções do Python"
   ]
  },
  {
   "cell_type": "code",
   "execution_count": null,
   "metadata": {},
   "outputs": [],
   "source": [
    "#codigo"
   ]
  },
  {
   "cell_type": "markdown",
   "metadata": {},
   "source": [
    "## Exemplo\n",
    "Usando R para conjunto de dados com mais elementos e várias colunas de interesse. \n",
    "\n",
    "* Note que há valores chamados \"NA\" que precisam ser removidos. \n",
    "* O cálculo manual pode ser executado identicamente aos itens anteriores. \n",
    "* Abaixo o foco é o uso das funções do Python. "
   ]
  },
  {
   "cell_type": "code",
   "execution_count": null,
   "metadata": {},
   "outputs": [],
   "source": [
    "#codigo"
   ]
  },
  {
   "cell_type": "markdown",
   "metadata": {},
   "source": [
    "Os resultados são as médias, as variâncias e os desvios, respectivamente, de cada uma das colunas de dados de *airquality*. "
   ]
  },
  {
   "cell_type": "code",
   "execution_count": null,
   "metadata": {},
   "outputs": [],
   "source": [
    "#codigo"
   ]
  },
  {
   "cell_type": "markdown",
   "metadata": {},
   "source": [
    "Abaixo estão o histograma, o polígono de frequências e uma curva normal com média e variância calculadas com base nos dados . "
   ]
  },
  {
   "cell_type": "code",
   "execution_count": null,
   "metadata": {},
   "outputs": [],
   "source": [
    "#codigo"
   ]
  },
  {
   "cell_type": "markdown",
   "metadata": {},
   "source": [
    "# Frequências agrupadas sem intervalos de classe\n",
    "\n",
    "Em uma distribuição de frequências sem intervalos de classes, a fórmula do desvio é reduzida para: \n",
    "\n",
    "\\begin{equation}\n",
    "s=\\sqrt{\\dfrac{\\sum_{i=1}^{n}f_i(x_i-\\overline{x})^2}{n-1}}\n",
    "\\end{equation}\n",
    "\n",
    "em que $\\overline{x}$ é a média amostral, dada por: \n",
    "\\begin{equation}\n",
    "\\overline{x}=\\dfrac{\\sum_{i=1}^{n}f_i\\cdot x_i}{n}\n",
    "\\end{equation}\n",
    "\n",
    "* Note que é idêntica a fórmula para dados não agrupados em frequências. A expressão tem objetivo de simplificar. \n",
    "* Ao usar o R, os dados não precisam ser agrupados em frequências ou tabelas de distribuição se o objetivo for apenas o cálculo. \n",
    "\n",
    "## Exemplo (manual)\n",
    "Variância e desvio de $x=[1, 1, 3, 3]$\n",
    "\n",
    "      Exercício\n",
    "  \n",
    "## Exemplo (Cálculos manuais com Python )\n",
    "50 amostras em $\\{0,1,\\cdots,10\\}$ com reposição.\n",
    "\n",
    "A seguir $diff=x_i-\\overline(x)$ e $diff2=f_i\\cdot (x_i-\\overline(x))^2$"
   ]
  },
  {
   "cell_type": "code",
   "execution_count": null,
   "metadata": {},
   "outputs": [],
   "source": [
    "#codigo"
   ]
  },
  {
   "cell_type": "markdown",
   "metadata": {},
   "source": [
    "* Usando diretamente o Python, temos: "
   ]
  },
  {
   "cell_type": "code",
   "execution_count": null,
   "metadata": {},
   "outputs": [],
   "source": [
    "#codigo"
   ]
  },
  {
   "cell_type": "markdown",
   "metadata": {},
   "source": [
    "# Frequências agrupadas com intervalos de classe\n",
    "\n",
    "Em uma distribuição de frequências com intervalos de classes, a fórmula é reduzida para: \n",
    "\\begin{equation}\n",
    "s=\\sqrt{\\dfrac{\\sum_{i=1}^{n}f_i(x_i-\\overline{x})^2}{n-1}}\n",
    "\\end{equation}\n",
    "\n",
    "em que $\\overline{x}$ é a média amostral, dada por: \n",
    "\\begin{equation}\n",
    "\\overline{x}=\\dfrac{\\sum_{i=1}^{n}f_ix_i}{n}\n",
    "\\end{equation}\n",
    "\n",
    "e $x_i$ é o ponto médio das classes. \n",
    "\n",
    "## Exemplo (Manual)\n",
    "Considere a tabela abaixo:\n",
    "\n",
    "| classes|$f_i$|$pm_i$|\n",
    "|--|--|--|\n",
    "| [0,2)    |  3| 1 |\n",
    "| [0,4) |   5  |3 |\n",
    "| [0,6) | 4 | 5|\n",
    "\n",
    "A variância é calculada diretamente pela aplicação da fórmula. Veja os cálculos a seguir:\n",
    "\n",
    "\\begin{equation}\n",
    "s^2=\\dfrac{\\sum_{i=1}^3f_i\\cdot(pm_i-\\overline{x})^2}{\\sum_{i=1}^{3}f_i-1}=\\dfrac{3\\cdot (1-\\overline{x})^2+5\\cdot (3-\\overline{x})^2+4\\cdot (5-\\overline{x})^2}{3+5+4 -1}\n",
    "\\end{equation}\n",
    "\n",
    "A média $\\overline{x}$ precisa ser calculada para que o exercício possa ser finalizado. \n",
    "\n",
    "A forma com que os dados são apresentados não permite usar o Python diretamente, pois não há condições de recuperar os dados que deram origem à tabela acima. \n",
    "\n",
    "## Exemplo\n",
    "Considere os dados a seguir, apresentados na fomra de tabela de distribuição de frequências e intervalos de classes. Calcule o desvio padrão. "
   ]
  },
  {
   "cell_type": "code",
   "execution_count": null,
   "metadata": {},
   "outputs": [],
   "source": [
    "#codigo"
   ]
  },
  {
   "cell_type": "markdown",
   "metadata": {},
   "source": [
    "# Variância e desvio padrão populacional\n",
    "\n",
    "A fórmula é diferente quando a população é considerada. \n",
    "\n",
    "\\begin{equation}\n",
    "\\sigma^2=\\dfrac{\\sum_{i=1}^N(x_i-\\mu)^2}{N}\n",
    "\\end{equation}\n",
    "\n",
    "Evidentemente, o desvio padrão vai ser alterado para \n",
    "\n",
    "\\begin{equation}\n",
    "\\sigma=\\sqrt{\\dfrac{\\sum_{i=1}^N(x_i-\\mu)^2}{N}}\n",
    "\\end{equation}\n",
    "\n",
    "* A distribuição de frequências sem intervalo de classe segue as mesmas ideias já apresentadas.\n",
    "* Como os cálculos são aproximados para a  distribuição de frequências com intervalos de classe, consideramos que a variância populacional não é adequada.\n",
    "\n",
    "# Discussão adicional \n",
    "\n",
    "## Propriedades do desvio padrão\n",
    "\n",
    "* O desvio padrão é uma medida de variação de todos os valores a partir da média.\n",
    "* O valor do desvio padrão s é usualmente positivo, só será zero se todos os valores forem iguais e nunca será negativo.\n",
    "* Maiores valores de s indicam maior variação.\n",
    "* O valor do desvio padrão pode crescer muito com a inclusão de um ou mais outliers (valores extremos)\n",
    "* A unidade do desvio padrão (e.g. min, cm, mm, hora,Kg, etc.) é a mesma dos dados.\n",
    "\n",
    "## Interpretação\n",
    "\n",
    "* A interpretação do desvio padrão se baseia na regra de que em uma distribuição normal, aproximadamente 95% dos valores se localiza entre a média amostral ± dois desvios padrões.  Veja a figura a seguir para mais detalhes:\n",
    "\n",
    "\n",
    "\n",
    "![Interpretação do desvio padrão](https://upload.wikimedia.org/wikipedia/commons/a/a9/Empirical_Rule.PNG)\n",
    "\n",
    "\n",
    "## Exemplo\n",
    "Suponha que a  a taxa de pulsação de mulheres (batimentos por minuto) tem uma média de  76 batimentos por minuto e um desvio padrão 12.5 batimentos por minuto.\n",
    "\n",
    "* Importância: Este resultado pode ser usado para identificar uma pulsação não usual (ou algum distúrbio de saúde).\n",
    "\n",
    "* É usual uma mulher com uma taxa de pulsação de 110 ?\n",
    "\n",
    "  Usando os resultados chega-se que 95% das mulheres devem apresentar pulsação entre a média e dois desvios.\n",
    "    * Pulsação usual mínima = 76 − 2 × 12.5 = 51\n",
    "    * Pulsação usual máxima = 76 + 2 × 12.5 = 101\n",
    "* Conclusão: a pulsação de 110 não é usual e possível problema de saúde deve ser investigado.\n",
    "\n",
    "* Parece ser comum substituir a média e o desvio pelos respectivos média amostral e desvio amostral. E em seguida utilizar a regra (empírica) para as avaliações de valores amostrais médios e com desvio padrão estimados pela amostra.\n",
    "\n",
    "## Exemplo\n",
    "Escores de QI tem uma distribuição na forma de sino com média amostral de x = 100 e desvio padrão amostral igual a s = 15 . Determine a faixa de escores de QI de 95% das pessoas avaliadas.\n",
    "\n",
    "        exercício \n",
    "        \n",
    "# Variações em diferentes populações \n",
    "\n",
    "Definição: O coeficiente de variação (CV) para um conjunto de dados amostrais ou populacionais não-negativo, expresso como um percentual, descreve o desvio padrão relativo à média e é dado por: \n",
    "\n",
    "Podemos calcular o <!--  desvio padrão --> coeficiente de variação de cada amostra por:\n",
    "\\begin{equation}\n",
    "cv=\\dfrac{s}{\\overline{x}}\\times 100\n",
    "\\end{equation}\n",
    "\n",
    "Podemos calcular o  <!--  desvio padrão --> coeficiente de variação de cada população por:\n",
    "\\begin{equation}\n",
    "cv=\\dfrac{\\sigma}{\\overline{x}}\\times 100\n",
    "\\end{equation}\n",
    "\n",
    "Importância: comparar duas ou mais amostras/populações com diferentes escalas de medidas. \n",
    "\n",
    "## Exemplo\n",
    "Considere os dados referentes a alturas e pesos de Homens encontramos as seguintes estatísticas amostrais.\n",
    "\n",
    "* Altura 68.34in e 3.02in (média e desvio de altura)\n",
    "* Peso 172.55lb  e 26.33lb (média e desvio de peso)\n",
    "\n",
    "* Qual das duas amostras possui maior variabilidade ?\n",
    "\n",
    "    * Calcule o coeficiente de variação de cada variação.\n",
    "          \n",
    "            \n",
    "          Altura: CV = 4.42% , Peso: CV = 15,26%\n",
    "\n",
    "# Medidas de posição relativa\n",
    "\n",
    "* Esta medida pode ser usada para comparar valores em diferentes conjuntos de dados. Ou para a comparação de valores dentro do mesmo conjunto de dados.\n",
    "\n",
    "* O conceito utilizado para estabelecer uma medida de posição relativa de algum valor observado é o Escore z que corresponde ao número de desvios padrões que se situa determinada observação x.\n",
    "\n",
    "\n",
    "Definição: O escore z corresponde ao número de desvios padrões que se situa determinada observação x . Encontra-se o escore z (ou escore padronizado), convertendo-se um valor para uma escala padronizada, como se segue:\n",
    "\n",
    "* Amostral: $z=\\dfrac{x-\\overline{x}}{s}$\n",
    "* Populacional: $z=\\dfrac{x-\\mu}{\\sigma}$\n",
    "\n",
    "\n",
    "## Exemplo\n",
    "Considere um corredor e um nadador. Qual deles é o melhor atleta em relação ao respectivo grupo ? \n",
    "* Corredor: $\\overline{x}_{grupo}=16seg/100m$ e $s_{grupo}=3seg/100m$\n",
    "* Nadador: $\\overline{x}_{grupo}=60seg/100m$ e $s_{grupo}=5seg/100m$\n",
    "\n",
    "O corredor faz um tempo de $12seg/100m$ em um corrida, enquanto que o nadador faz um tempo de $60 seg/100m$ em uma prova. Qual deles fez um melhor tempo em relação ao respectivo grupo? \n",
    "\n",
    "O corredor tem score-z $z_1=\\dfrac{12-16}{3}=-\\dfrac{4}{3}=-1.33$ enquanto que o nadador tem score-z $z_2=\\dfrac{50-60}{5}=-\\dfrac{10}{5}=-2.0$\n",
    "\n",
    "\n",
    "## Características do Escore z\n",
    "* Valores comuns: −2 ≤ z ≤ 2 .\n",
    "* Valores não-usuais: z ≤ −2 ou z ≥ 2\n",
    "* Escore positivos ( z > 0 ) indicam valores acima da média.\n",
    "* Escore negativos ( z < 0 ) idicam valores abaixo da média.\n",
    "* O escore z pode ser usado para avaliar um valor específico da variável dentro da amostra (ou da população).\n",
    "\n",
    "## Exercício\n",
    "Com uma altura de 75 in(190,5cm) Lyndon Johnson foi o presidente mais alto dos EUA no ultimo século. Com uma altura de 85 in (215,9cm) Shaquille O’Neal é o jogador mais alto do time de basquete Miami Heat. Quem é relativamente mais alto: Lyndon Johnson entre os presidentes do século passado ou Shaquille O’Neal entre os jogadores do time de basquete Miami Heat? Os presidentes do século passado têm uma altura média de 71,5 in e um desvio padrão de 2,1 in. Os jogadores de basquete do Miami Heat têm uma altura média de 80,0 in e desvio padrão de 3,3 in.\n",
    "\n",
    "# Medidas separatrizes\n",
    "\n",
    "Sabemos que a mediana divide os dados em duas partes iguais: 50% abaixo da mediana e 50% acima da mediana.\n",
    "\n",
    "* Questão: Podemos determinar o valor que separa 10% dos dados ? E 37% dos dados ?\n",
    "\n",
    "Esse valor é o percentil e denotado por $P_k$, em que $k$ representa a quantidade (em %) dos valores desejados. \n",
    "\n",
    "Aqui vamos usar o R para ajudar nos cálculos e focar em outras questões. A função *qnorm* executa os cálculos. Veja os exemplos a seguir:\n",
    "\n",
    "\n",
    "## Exemplo\n",
    "Qual o valor que separa os dados em 25, 50 e  75 por cento dos dados para uma amostra x=[1,2,3,5,10,15,17]. "
   ]
  },
  {
   "cell_type": "code",
   "execution_count": null,
   "metadata": {},
   "outputs": [],
   "source": [
    "#codigo"
   ]
  },
  {
   "cell_type": "markdown",
   "metadata": {},
   "source": [
    "Note que as probabilidades devem ser informadas (valores entre 0 e 1)\n",
    "\n",
    "A função acima é chamada quantil. Quanto os valores são múltiplos de 100, os valores retornados são percentis ($P_i$). Quando os valores são múltiplos de 25, os valores retornados são os quartis ($Q_i$). Finalmente, quando os valores são múltiplos de 10, os valores retornados são os decis ($D_i$). \n",
    "\n",
    "* $P_i$: $i=1,2,\\cdots, 100$\n",
    "* $Q_i$: $i=1,2,3,4$\n",
    "* $D_i$: $i=1,2,\\cdots,9,10$\n",
    "\n",
    "# Intervalos e estatísticas\n",
    "\n",
    "Outras estatísticas que podem ser calculadas com os quartis e percentis são:\n",
    "\n",
    "* Intervalo interquartil (ou IIQ): é a diferença entre o terceiro e o primeiro quartis. \n",
    "\n",
    "$$IIQ = Q_3 − Q_1 =P_{75}-P_{25}$$\n",
    "\n",
    "## Definição (Box-Plot)\n",
    "É uma representação gráfica feita para um conjunto de dados que trás na representação: \n",
    "\n",
    "* os três quartis da amostra ($Q_1$ o quartil 25%, $Q_2$ o quartil 50% (ou mediana) e $Q_3$ o quartil 75%). A representação gráfica destas estatística é feita assim:\n",
    "* uma caixa é delimitada por $Q_1$ e $Q_3$\n",
    "*  As cercas do diagrama\n",
    "    * $CI=Q_1-1.5\\cdot IIQ$\n",
    "    * $CS=Q_3+1.5\\cdot IIQ$ \n",
    "\n",
    "A representação gráfica destas estatística é feita assim:"
   ]
  },
  {
   "cell_type": "code",
   "execution_count": null,
   "metadata": {},
   "outputs": [],
   "source": [
    "#codigo"
   ]
  },
  {
   "cell_type": "markdown",
   "metadata": {},
   "source": [
    "## Relação Box-plot e curva normal\n",
    "\n",
    "\n",
    "![Relação Box-plot e curva normal](https://upload.wikimedia.org/wikipedia/commons/thumb/1/1a/Boxplot_vs_PDF.svg/800px-Boxplot_vs_PDF.svg.png)\n",
    "\n",
    "## Exemplo \n",
    "Com o auxílio do Python, vários box-plots podem ser executados. "
   ]
  },
  {
   "cell_type": "code",
   "execution_count": null,
   "metadata": {},
   "outputs": [],
   "source": [
    "#codigo"
   ]
  },
  {
   "cell_type": "markdown",
   "metadata": {},
   "source": [
    "# Atividades\n",
    "\n",
    "## Exercício\n",
    "Considere os dados de *airquality* e calcule as medidas de tendêncial central, desvio-padrão. \n",
    "\n",
    "### Exercício (Manual e Python)\n",
    "Considere os dados de *mtcars*. Calcule as medidas de tendência central, desvio padrão para as três primeiras colunas. Apresente os resultado sem uma tabela. \n",
    "\n",
    "Nota: Um exemplo de tabela\n",
    "\n",
    "\n",
    "| Tables   |      Are      |  Cool |\n",
    "|----------|:-------------:|------:|\n",
    "| col 1 is |  left-aligned | $1600 |\n",
    "| col 2 is |    centered   |   $12 |\n",
    "| col 3 is | right-aligned |    $1 |\n"
   ]
  },
  {
   "cell_type": "markdown",
   "metadata": {},
   "source": [
    "# Avaliação Geral (Auto-avaliação Parcial)\n",
    "\n",
    "\n",
    "## Exemplo: \n",
    "Suponha que a  a taxa de pulsação de mulheres (batimentos por minuto) tem uma média de  70 batimentos por minuto e um desvio padrão 7.5 batimentos por minuto.\n",
    "\n",
    "* É usual uma mulher com uma taxa de pulsação de 101 ? Use intervalo de 95%\n",
    "* Qual o intervalo de pulsação que engloba 99.8% dos dados ?\n",
    "\n",
    "## Exercício \n",
    "Considere os dados de *mtcars*. Calcule as medidas de tendência central, desvio padrão para as três primeiras colunas. Calcule os coeficientes de variação e os respectivos scores-z para as médias das variáveis.  Apresente os resultado sem uma tabela. \n",
    "  * Qual delas é mais homogenea basedo no coeficiente de variação? \n",
    "  * Qual delas possui a maior média relativa ao respectivo conjunto de dados ?\n",
    "\n",
    "## Exercício\n",
    "Considerando os dados de *airquality*, determine os valores dos quartis e apresente os valores necessários para construir o box-plot. \n",
    "  * Use o Python e construa os respectivos box-plots. \n",
    "  \n",
    "# Referências\n",
    "\n",
    "* Mario Triola, Elementary Statistics: Updates for the latest technology, Pearson-Education, ed.09, 2004.\n",
    "* Notas de aula Prof. Marinho, Curso Estatística Descritiva, Universidade de São Paulo, 2015. \n",
    "\n",
    "* Bussab W.O., Morettin P.A., Estatística Básica, Saraiva, Sao Paulo, 9ed, 2017. "
   ]
  }
 ],
 "metadata": {
  "kernelspec": {
   "display_name": "Python 3",
   "language": "python",
   "name": "python3"
  },
  "language_info": {
   "codemirror_mode": {
    "name": "ipython",
    "version": 3
   },
   "file_extension": ".py",
   "mimetype": "text/x-python",
   "name": "python",
   "nbconvert_exporter": "python",
   "pygments_lexer": "ipython3",
   "version": "3.8.5"
  },
  "nbTranslate": {
   "displayLangs": [
    "*"
   ],
   "hotkey": "alt-t",
   "langInMainMenu": true,
   "sourceLang": "en",
   "targetLang": "fr",
   "useGoogleTranslate": true
  },
  "toc": {
   "base_numbering": 1,
   "nav_menu": {},
   "number_sections": true,
   "sideBar": true,
   "skip_h1_title": false,
   "title_cell": "Table of Contents",
   "title_sidebar": "Contents",
   "toc_cell": false,
   "toc_position": {
    "height": "calc(100% - 180px)",
    "left": "10px",
    "top": "150px",
    "width": "242.367px"
   },
   "toc_section_display": true,
   "toc_window_display": true
  }
 },
 "nbformat": 4,
 "nbformat_minor": 4
}
