{
 "cells": [
  {
   "cell_type": "markdown",
   "metadata": {},
   "source": [
    "# Bibliotecas"
   ]
  },
  {
   "cell_type": "code",
   "execution_count": 1,
   "metadata": {
    "ExecuteTime": {
     "end_time": "2021-02-05T07:55:44.977546Z",
     "start_time": "2021-02-05T07:55:44.238409Z"
    }
   },
   "outputs": [],
   "source": [
    "from sklearn import datasets\n",
    "import numpy as np\n",
    "import pandas as pd"
   ]
  },
  {
   "cell_type": "markdown",
   "metadata": {},
   "source": [
    "# Introdução \n",
    "  - Visão geral da abordagem estatística dos problemas\n",
    "  - O papel da incerteza nos problemas científicos\n",
    "  - A importância da coleta de dados (amostras)\n",
    "  - Tipos de dados\n",
    "  - Uso de softwares ou bibliotecas"
   ]
  },
  {
   "cell_type": "markdown",
   "metadata": {},
   "source": [
    "# Objetivos Estatística\n",
    "\n",
    "- Estatística (Objetivo): O problema sempre envolve pesquisas ou análises cujo o objetivo é aprender (entender, compreender, inferir, etc.) sobre um grande grupo de interesse (população) por meio do exame de um pequeno grupo (amostra). [Baseado em (Triola, 2004, pg. 04)] \n",
    "- Dados: são observações coletadas (por exemplo, medidas, sexo, respostas de um questionário, etc)."
   ]
  },
  {
   "cell_type": "markdown",
   "metadata": {},
   "source": [
    "## Exemplo de dados - conjunto \"iris\"\n",
    "\n",
    "- 150 linhas com 5 colunas: 50 flores de cada espécie foram analisadas e as cinco características foram avaliadas para cada flor. \n",
    "- Medidas (em cm) das variáveis Comprimento e largura de ambas (sépala  e pétala) de três espécies de plantas (setosa, virginica, versicolor)"
   ]
  },
  {
   "cell_type": "code",
   "execution_count": 6,
   "metadata": {
    "ExecuteTime": {
     "end_time": "2021-02-05T10:24:24.649299Z",
     "start_time": "2021-02-05T10:24:24.615704Z"
    }
   },
   "outputs": [
    {
     "data": {
      "text/html": [
       "<div>\n",
       "<style scoped>\n",
       "    .dataframe tbody tr th:only-of-type {\n",
       "        vertical-align: middle;\n",
       "    }\n",
       "\n",
       "    .dataframe tbody tr th {\n",
       "        vertical-align: top;\n",
       "    }\n",
       "\n",
       "    .dataframe thead th {\n",
       "        text-align: right;\n",
       "    }\n",
       "</style>\n",
       "<table border=\"1\" class=\"dataframe\">\n",
       "  <thead>\n",
       "    <tr style=\"text-align: right;\">\n",
       "      <th></th>\n",
       "      <th>sepal length (cm)</th>\n",
       "      <th>sepal width (cm)</th>\n",
       "      <th>petal length (cm)</th>\n",
       "      <th>petal width (cm)</th>\n",
       "      <th>target</th>\n",
       "    </tr>\n",
       "  </thead>\n",
       "  <tbody>\n",
       "    <tr>\n",
       "      <th>0</th>\n",
       "      <td>5.1</td>\n",
       "      <td>3.5</td>\n",
       "      <td>1.4</td>\n",
       "      <td>0.2</td>\n",
       "      <td>0</td>\n",
       "    </tr>\n",
       "    <tr>\n",
       "      <th>1</th>\n",
       "      <td>4.9</td>\n",
       "      <td>3.0</td>\n",
       "      <td>1.4</td>\n",
       "      <td>0.2</td>\n",
       "      <td>0</td>\n",
       "    </tr>\n",
       "    <tr>\n",
       "      <th>2</th>\n",
       "      <td>4.7</td>\n",
       "      <td>3.2</td>\n",
       "      <td>1.3</td>\n",
       "      <td>0.2</td>\n",
       "      <td>0</td>\n",
       "    </tr>\n",
       "    <tr>\n",
       "      <th>3</th>\n",
       "      <td>4.6</td>\n",
       "      <td>3.1</td>\n",
       "      <td>1.5</td>\n",
       "      <td>0.2</td>\n",
       "      <td>0</td>\n",
       "    </tr>\n",
       "    <tr>\n",
       "      <th>4</th>\n",
       "      <td>5.0</td>\n",
       "      <td>3.6</td>\n",
       "      <td>1.4</td>\n",
       "      <td>0.2</td>\n",
       "      <td>0</td>\n",
       "    </tr>\n",
       "    <tr>\n",
       "      <th>...</th>\n",
       "      <td>...</td>\n",
       "      <td>...</td>\n",
       "      <td>...</td>\n",
       "      <td>...</td>\n",
       "      <td>...</td>\n",
       "    </tr>\n",
       "    <tr>\n",
       "      <th>145</th>\n",
       "      <td>6.7</td>\n",
       "      <td>3.0</td>\n",
       "      <td>5.2</td>\n",
       "      <td>2.3</td>\n",
       "      <td>2</td>\n",
       "    </tr>\n",
       "    <tr>\n",
       "      <th>146</th>\n",
       "      <td>6.3</td>\n",
       "      <td>2.5</td>\n",
       "      <td>5.0</td>\n",
       "      <td>1.9</td>\n",
       "      <td>2</td>\n",
       "    </tr>\n",
       "    <tr>\n",
       "      <th>147</th>\n",
       "      <td>6.5</td>\n",
       "      <td>3.0</td>\n",
       "      <td>5.2</td>\n",
       "      <td>2.0</td>\n",
       "      <td>2</td>\n",
       "    </tr>\n",
       "    <tr>\n",
       "      <th>148</th>\n",
       "      <td>6.2</td>\n",
       "      <td>3.4</td>\n",
       "      <td>5.4</td>\n",
       "      <td>2.3</td>\n",
       "      <td>2</td>\n",
       "    </tr>\n",
       "    <tr>\n",
       "      <th>149</th>\n",
       "      <td>5.9</td>\n",
       "      <td>3.0</td>\n",
       "      <td>5.1</td>\n",
       "      <td>1.8</td>\n",
       "      <td>2</td>\n",
       "    </tr>\n",
       "  </tbody>\n",
       "</table>\n",
       "<p>150 rows × 5 columns</p>\n",
       "</div>"
      ],
      "text/plain": [
       "     sepal length (cm)  sepal width (cm)  petal length (cm)  petal width (cm)  \\\n",
       "0                  5.1               3.5                1.4               0.2   \n",
       "1                  4.9               3.0                1.4               0.2   \n",
       "2                  4.7               3.2                1.3               0.2   \n",
       "3                  4.6               3.1                1.5               0.2   \n",
       "4                  5.0               3.6                1.4               0.2   \n",
       "..                 ...               ...                ...               ...   \n",
       "145                6.7               3.0                5.2               2.3   \n",
       "146                6.3               2.5                5.0               1.9   \n",
       "147                6.5               3.0                5.2               2.0   \n",
       "148                6.2               3.4                5.4               2.3   \n",
       "149                5.9               3.0                5.1               1.8   \n",
       "\n",
       "     target  \n",
       "0         0  \n",
       "1         0  \n",
       "2         0  \n",
       "3         0  \n",
       "4         0  \n",
       "..      ...  \n",
       "145       2  \n",
       "146       2  \n",
       "147       2  \n",
       "148       2  \n",
       "149       2  \n",
       "\n",
       "[150 rows x 5 columns]"
      ]
     },
     "execution_count": 6,
     "metadata": {},
     "output_type": "execute_result"
    }
   ],
   "source": [
    "iris = datasets.load_iris()\n",
    "df_iris = pd.DataFrame(data=iris['data'], columns=iris['feature_names'])\n",
    "df_iris['target'] = iris['target']\n",
    "\n",
    "df_iris"
   ]
  },
  {
   "cell_type": "markdown",
   "metadata": {
    "ExecuteTime": {
     "end_time": "2021-02-04T13:30:30.757908Z",
     "start_time": "2021-02-04T13:30:30.748914Z"
    }
   },
   "source": [
    "Para obter mais detalhes do respectivo conjunto de dados utiliza o comando\n",
    "```python\n",
    "print(iris['DESCR'])\n",
    "```"
   ]
  },
  {
   "cell_type": "markdown",
   "metadata": {},
   "source": [
    "# Análise Estatística\n",
    "\n",
    "- Estatística: É um conjunto de métodos para o planejamento de estudos e experimentos:\n",
    " - Obtenção de dados (Coleta deve ser feito por meio de procedimento adequado. É uma  das principais fontes de erro)\n",
    " - Organização dos dados (Facilita a visualização)\n",
    " - Resumo ou redução dos dados (Perde informações individuais. Há tendência em simplificar demais e desconsiderar aspectos relevantes)\n",
    " - Apresentação, análise e interpretação dos dados (Fonte de erros de todas as espécies. Viés do apresentador/pesquisador para justificar os pontos de vista-constrói a pesquisa.)\n",
    " - Elaboração de conclusão baseado nos dados (Fonte de erros-interpretação)\n",
    " - Conclusão: de forma clara, amigável e objetiva (requer conhecimento teórico: pessoas com diferentes conhecimentos do assunto, concluem coisas diferentes)"
   ]
  },
  {
   "cell_type": "markdown",
   "metadata": {},
   "source": [
    "## Exemplo: (Valores não reais) \n",
    "Dados das turmas do ano de 2019 foram coletados para mostrar a superioridade de processo adotado em 2019 em relação ao processo anterior. A média das notas é o aspecto relevante! Suponha que todos os cuidados com as questões de amostragens e procedimentos foram tomados (Ver adiante maiores detalhes).  Tomou-se alunos de 2019 como se fossem população.\n",
    "\n",
    "Resultados\n",
    "\n",
    "- 2018: $\\mu=16.4$, $\\sigma=5.6$\n",
    "- 2019: $\\mu=17.3$, $\\sigma=5.9$\n",
    "    Existe diferença, quanto à média das notas, entre as duas turmas de alunos ?"
   ]
  },
  {
   "cell_type": "markdown",
   "metadata": {},
   "source": [
    "# Software e linguagens de programação\n",
    "\n",
    "  - Facilita os cálculos em problemas trabalhosos ou cujos cálculos requerem um tempo muito longo. \n",
    "  - Há tendência coletiva de acreditar em um ser supremo e mágico que realiza os cálculos sem erros de nenhuma espécie. Até mesmo, em caso de processo de amostragem inadequado, o software parece resolver todas os problemas. \n",
    "  \n",
    "  <!-- mas parece haver uma tendencia (por falta de conhecimento) a acreditar friamente em resultados e belas figuras geradas por softwares. -->\n",
    "  \n",
    "  - R, Python, Stats(from SciPy), Geogebra, Sage,  Libre Office, Matlab, SAS, SPSS, Minitab, Mathematica, Excel. \n",
    "  \n",
    "  <!-- SAS, SPSS, Minitab, Matlab, Mathematica, Excel: softwares proprietários e requerem licença para uso. \n",
    "      - R, Stats(from SciPy), Geogebra, Sage, Libre Office: livre para uso e não requerem licença (Baixar e instalar! Alguns rodam na núvem-instação não é necessária)-->\n",
    "       "
   ]
  },
  {
   "cell_type": "markdown",
   "metadata": {},
   "source": [
    "# Atividade\n",
    "\n",
    "1.  Baixar o ambiente Anaconda, criar projeto e executar os comandos básicos: operações aritméticas básicas ``+,-,/``, variáveis, vetores e operações. \n",
    "  \n",
    "2. Conceitos básicos em Python (Fazer curso online)\n",
    " \n",
    "3. Descrever o que cada um dos comandos abaixo faz. Carregar os dados *Iris* e ler a respectiva descrição dos dados e variáveis.  \n",
    "\n",
    "```python\n",
    "df_iris.head() # O que isso faz?\n",
    "df_iris.tail() # O que isso faz?\n",
    "df_iris.iloc[0:4,2:4] # O que isso faz?\n",
    "```"
   ]
  },
  {
   "cell_type": "markdown",
   "metadata": {
    "ExecuteTime": {
     "end_time": "2021-02-04T11:22:02.932695Z",
     "start_time": "2021-02-04T11:22:02.917844Z"
    }
   },
   "source": [
    "# Conceitos Importantes\n",
    "\n",
    "* Um dos principais objetivos é usar dados amostrais é fazer inferência (ou generalizações) sobre uma população inteira.\n",
    "* Devemos compreender os conceitos de:\n",
    "  * População;\n",
    "  * Amostras representativas de uma população;\n",
    "  * Parâmetro de uma população;\n",
    "  * Estatística ou estimador dos parâmetros da população (uma função da amostra que reduz os dados);\n",
    "  * Inferência estatística.\n",
    "* Tipos de dados:\n",
    "    * Quantitativos;\n",
    "    * Qualitativos.\n",
    "\n",
    "***\n",
    "\n",
    "- População: É a coleção completa de todos os elementos a serem estudados. A coleção é completa no sentido de que inclui todos os sujeitos a serem estudados.\n",
    "\n",
    "  * Exemplos de população:\n",
    "    * Brasileiros entre 16 e 25 anos;\n",
    "    * Crianças com menos de 1 ano no Brasil;\n",
    "    * Peças produzidas em uma linha de produção de uma fábrica;\n",
    "    * Cor de carros;\n",
    "    * Alunos de uma universidade.\n",
    "  \n",
    "  * Qual a característica que mais interessa em uma população?\n",
    "\n",
    "Nota: Definir a população de estudos não é tarefa simplista. Requer definição clara e objetiva do estudo a ser realizado. \n",
    "\n",
    "***\n",
    "\n",
    "- Censo: É um conjunto de dados obtidos de todos os membros da população [Ver (Triola, 2004) para uma explicação de como o procedimento falha. ]\n",
    "- Amostra: É um subconjunto de membros selecionados de uma população\n",
    "\n",
    "![populacao_amostra](https://umolharmatematico.weebly.com/uploads/2/5/7/9/25795733/1224276.png)\n",
    "\n",
    "*Fonte:* https://umolharmatematico.weebly.com/populaccedilatildeoamostra.html\n",
    "\n",
    "\n",
    "\n",
    "**Nota importante: Amostra representativa não captura todos os tipos de elementos (Há uma variabilidade característica)**"
   ]
  },
  {
   "cell_type": "markdown",
   "metadata": {
    "ExecuteTime": {
     "end_time": "2021-02-04T11:22:22.424269Z",
     "start_time": "2021-02-04T11:22:22.322918Z"
    }
   },
   "source": [
    "## Exemplo (Variabilidade da amostra): \n",
    "Escolher 5 notas dentre as possíveis notas em $J=\\{0,1,\\cdots,10\\}$\n",
    "\n",
    "* 5 amostras"
   ]
  },
  {
   "cell_type": "code",
   "execution_count": 2,
   "metadata": {
    "ExecuteTime": {
     "end_time": "2021-02-05T07:52:51.260250Z",
     "start_time": "2021-02-05T07:52:51.250386Z"
    }
   },
   "outputs": [
    {
     "name": "stdout",
     "output_type": "stream",
     "text": [
      "             Amostra  Média:\n",
      "0    [3, 7, 7, 0, 1]     3.6\n",
      "1    [0, 9, 8, 9, 4]     6.0\n",
      "2  [10, 10, 9, 4, 4]     7.4\n",
      "3    [2, 9, 8, 2, 4]     5.0\n",
      "4   [2, 5, 10, 5, 4]     5.2\n",
      "A média das médias é: 5.4399999999999995 \n",
      " A média da população é: 5.0\n"
     ]
    }
   ],
   "source": [
    "np.random.seed(1000)\n",
    "X = []\n",
    "Xmeans = []\n",
    "\n",
    "for i in range(1,6,1):\n",
    "    x = np.random.choice(11,5)\n",
    "    X.append(x)\n",
    "    Xmeans.append(np.mean(x))\n",
    "    \n",
    "d = {'Amostra': X, 'Média:': Xmeans}\n",
    "table = pd.DataFrame(data=d)\n",
    "print(table)\n",
    "print('A média das médias é:', np.mean(Xmeans),'\\n',\n",
    "     'A média da população é:',np.mean(range(0,11,1)))"
   ]
  },
  {
   "cell_type": "markdown",
   "metadata": {},
   "source": [
    "* Com 20 amostras"
   ]
  },
  {
   "cell_type": "code",
   "execution_count": 3,
   "metadata": {
    "ExecuteTime": {
     "end_time": "2021-02-05T07:52:51.272545Z",
     "start_time": "2021-02-05T07:52:51.262268Z"
    }
   },
   "outputs": [
    {
     "name": "stdout",
     "output_type": "stream",
     "text": [
      "                                             Amostra  Média:\n",
      "0  [3, 7, 7, 0, 1, 0, 9, 8, 9, 4, 10, 10, 9, 4, 4...    5.50\n",
      "1  [2, 5, 10, 5, 4, 0, 4, 2, 5, 10, 4, 7, 0, 4, 7...    4.00\n",
      "2  [1, 5, 6, 5, 7, 8, 8, 2, 2, 9, 6, 10, 10, 3, 3...    5.45\n",
      "3  [0, 9, 1, 8, 8, 0, 2, 9, 3, 10, 9, 6, 2, 9, 5,...    5.75\n",
      "4  [7, 6, 3, 4, 8, 1, 3, 7, 2, 0, 4, 4, 1, 6, 5, ...    3.90\n",
      "A média das médias é: 4.92 \n",
      " A média da população é: 5.0\n"
     ]
    }
   ],
   "source": [
    "np.random.seed(1000)\n",
    "X = []\n",
    "Xmeans = []\n",
    "\n",
    "for i in range(1,6,1):\n",
    "    x = np.random.choice(11,20)\n",
    "    X.append(x)\n",
    "    Xmeans.append(np.mean(x))\n",
    "    \n",
    "d = {'Amostra': X, 'Média:': Xmeans}\n",
    "table = pd.DataFrame(data=d)\n",
    "print(table)\n",
    "print('A média das médias é:', np.mean(Xmeans),'\\n',\n",
    "     'A média da população é:',np.mean(range(0,11,1)))"
   ]
  },
  {
   "cell_type": "markdown",
   "metadata": {
    "ExecuteTime": {
     "end_time": "2021-02-04T12:36:52.758248Z",
     "start_time": "2021-02-04T12:36:52.749311Z"
    }
   },
   "source": [
    "## Exemplo (Variabilidade da amostra): \n",
    "Alturas de indivíduos de uma população normal $\\mu=170, \\sigma^2=15$"
   ]
  },
  {
   "cell_type": "code",
   "execution_count": 4,
   "metadata": {
    "ExecuteTime": {
     "end_time": "2021-02-05T07:52:51.291190Z",
     "start_time": "2021-02-05T07:52:51.274487Z"
    }
   },
   "outputs": [
    {
     "name": "stdout",
     "output_type": "stream",
     "text": [
      "                                              Amostra      Média:\n",
      "0   [166.88434638773015, 171.2429625371516, 169.90...  169.767468\n",
      "1   [168.70318786599188, 169.6147090403557, 171.57...  170.470504\n",
      "2   [165.97040449616574, 172.5190713468103, 180.45...  170.246987\n",
      "3   [161.7570312850266, 164.43398305860453, 170.68...  169.662693\n",
      "4   [165.09671191825285, 175.32208175420703, 167.6...  170.954979\n",
      "5   [168.48829965797756, 167.75097275531078, 177.5...  169.147753\n",
      "6   [165.3989179572934, 166.20906771220683, 162.39...  169.610226\n",
      "7   [168.60789783696944, 168.00735691375178, 166.1...  169.313339\n",
      "8   [171.63781964218856, 168.4568030962915, 170.77...  168.304915\n",
      "9   [176.82733610550397, 167.6601448356179, 168.50...  169.866728\n",
      "10  [165.67878382433517, 164.791723500342, 172.917...  168.374642\n",
      "11  [175.52860245338672, 167.36303301899605, 177.6...  170.666609\n",
      "12  [171.0812032027678, 167.89106119746296, 174.05...  169.470855\n",
      "A média das médias é: 169.6813614104903 \n",
      " A média da população é: 170\n"
     ]
    }
   ],
   "source": [
    "np.random.seed(1000)\n",
    "X = []\n",
    "Xmeans = []\n",
    "\n",
    "for i in range(1,14,1):\n",
    "    x = np.random.normal(170,np.sqrt(15),20)\n",
    "    X.append(x)\n",
    "    Xmeans.append(np.mean(x))\n",
    "    \n",
    "d = {'Amostra': X, 'Média:': Xmeans}\n",
    "table = pd.DataFrame(data=d)\n",
    "print(table)\n",
    "print('A média das médias é:', np.mean(Xmeans),'\\n',\n",
    "     'A média da população é: 170')"
   ]
  },
  {
   "cell_type": "markdown",
   "metadata": {
    "ExecuteTime": {
     "end_time": "2021-02-04T12:37:47.523265Z",
     "start_time": "2021-02-04T12:37:47.510955Z"
    }
   },
   "source": [
    "# Atividade \n",
    "\n",
    "*Código dos resultados anteriores*: Descrever cada uma das funções; reproduzir os resultados; retirar o `np.random.seed()` e executar repetidamente; realizar experimentos com: amostras de tamanhos \n",
    "$3,5,7,10$ (com reposição) e número de amostras $10, 20, 50$ e fazer uma tabela de resultados.\n"
   ]
  },
  {
   "cell_type": "markdown",
   "metadata": {
    "ExecuteTime": {
     "end_time": "2021-02-04T12:51:20.268841Z",
     "start_time": "2021-02-04T12:51:20.240680Z"
    }
   },
   "source": [
    "# Atividade \n",
    "\n",
    "*Código dos resultados anteriores*: Descrever cada uma das funções; reproduzir os resultados; retirar o `np.random.seed(1000)` e executar repetidamente; realizar experimentos com: amostras de tamanhos \n",
    "$5,7,10, 50$ e número de amostras $10, 20, 50,100, 500$ e fazer uma tabela de resultados."
   ]
  },
  {
   "cell_type": "markdown",
   "metadata": {
    "ExecuteTime": {
     "end_time": "2021-02-04T12:50:04.340511Z",
     "start_time": "2021-02-04T12:50:04.321807Z"
    }
   },
   "source": [
    "# Embasamento Teórico\n",
    "\n",
    "Fatores influentes para obter $\\mu=\\frac{1}{n}\\sum_{i=1}^{n} Xmeans_i$\n",
    "\n",
    "* Observação $\\frac{1}{n}\\sum_{i=1}^{n} Xmeans_i \\rightarrow \\mu$\n",
    "e convergência  é muito diferente de igualdade.\n",
    "* Tipo de população (distribuição)\n",
    "  * Gaussiana converge mais rápido devido à simetria.\n",
    "  * não gaussianas convergem mais lentamente. Quanto maior assimetria dos dados, mas lento o processo.\n",
    "* Tamanho da população\n",
    "* Tamanho da amostra\n",
    "  * quanto menor tamanho da amostra, mais lento.\n",
    "* Quantidade de amostras\n",
    "  * quanto mais amostras, melhor!\n",
    "* O valor exato não é fácilmente obtido (apesar de ser possível)! Note a escrita!\n",
    "\n",
    "\n",
    "\n",
    "- Existem diferentes formas de se coletar dados,\n",
    "nem todos são adequados para uma análise estatística.\n",
    "- Se as amostras não são coletadas da forma correta, os dados são tão completamente inuteis que nenhum trabalho estatístico (tecnicas sofisticadas, softwares ou qualquer artmanha pirotécnica) pode levar à conclusões eficientes (Triola, 2004, pg. 05).\n",
    "\n",
    "\n",
    "- A coleta apropriada dos dados está relacionada\n",
    "diretamente aos objetivos do experimento e as conclusões que se deseja chegar.\n",
    "  - Cuidado para não confundir com **\"Direcionar a pesquisa para obter os resultados desejados\"**\n",
    "- Existem diferentes técnicas de amostragem para coleta\n",
    "de dados. **A ética é um ponto importante na elaboração\n",
    "da coleta de dados.**\n",
    "\n",
    "\n",
    "***\n",
    "\n",
    "* Parâmetro de uma população: É uma medida numérica que descreve alguma característica de uma população, em geral é desconhecida.\n",
    "\n",
    "* Estatística: É uma medida numérica que descreve alguma característica de uma amostra, é obtida em função de um conjunto de observações (a amostra).\n",
    "\n",
    "- Questão: O que é comum nas notícias: parâmetro ou estatística ?\n",
    "  - parâmetro: populações pequenas, em geral (Avalia todo mundo-> parâmetro)\n",
    "  - estatística: populações grandes, em geral (não avalia todo mundo -> estatística)\n",
    "  \n",
    "- Exemplo 01 (parâmetro): tempo médio corrida dos alunos do 1 ano de 2019: 5min/km.\n",
    "\n",
    "- Exemplo 02 (estatística): tempo médio de corrida dos alunos do 1 ano, baseado no tempo médio dos alunos do 1 ano de 2019."
   ]
  },
  {
   "cell_type": "markdown",
   "metadata": {},
   "source": [
    "## Exemplo \n",
    "(Médias do conjunto de dados): Parâmetro ou estatística ?"
   ]
  },
  {
   "cell_type": "code",
   "execution_count": 5,
   "metadata": {
    "ExecuteTime": {
     "end_time": "2021-02-05T07:52:51.298160Z",
     "start_time": "2021-02-05T07:52:51.292786Z"
    }
   },
   "outputs": [
    {
     "data": {
      "text/plain": [
       "sepal length (cm)    5.843333\n",
       "sepal width (cm)     3.057333\n",
       "petal length (cm)    3.758000\n",
       "petal width (cm)     1.199333\n",
       "dtype: float64"
      ]
     },
     "execution_count": 5,
     "metadata": {},
     "output_type": "execute_result"
    }
   ],
   "source": [
    "np.mean(df_iris.iloc[:,0:4])"
   ]
  },
  {
   "cell_type": "markdown",
   "metadata": {
    "ExecuteTime": {
     "end_time": "2021-02-04T13:04:36.377487Z",
     "start_time": "2021-02-04T13:04:36.364880Z"
    }
   },
   "source": [
    "# Atividade\n",
    "\n",
    "1. Exercício: Calcular as médias (quando possível) para o cunjunto de dados **iris**. \n",
    "\n",
    "2. Assistir o Documentário **Tudo está nos números**\n",
    "\n",
    "3. Selecionar uma amostra aleatória de 10 alunos da sala e pedir as seguintes informações: peso, altura, cor do cabelo, cor dos olhos, num. sapato, km em corrida de 12min., Verificar se é atleta, região de origem (Macro);\n",
    "\n",
    "  * não anotar nomes (sem identificação dos alunos);\n",
    "  * descrever o processo de seleção da amostra;\n",
    "  * montar tabela com os dados (agradeçemos participação de todos) usando planilha eletrônica;\n",
    "  * carregar os dados usando formato *.csv* no Python."
   ]
  },
  {
   "cell_type": "markdown",
   "metadata": {},
   "source": [
    "# Tipos de dados e escalas\n",
    "\n",
    "**Dados quantitativos** \n",
    "\n",
    "Numéricos (Números Naturais ou reais)\n",
    "\n",
    "* Dados discretos: Contagem ou enumerável;\n",
    "* Dados contínuos: Podem assumir qualquer valores real, as vezes em um intervalo da reta, as vezes em toda reta;\n",
    "* Permitido: ordenação e operações matemáticas (soma, diferenças, etc.);\n",
    "* Exemplo: Idade, Peso, Altura, IMC, tempo corrida 400m, etc.\n",
    "\n",
    "**Dados qualitativos**\n",
    "\n",
    "* Dado ordinal: podem ser ordenados mas as diferenças entre eles não tem sifgnificado;\n",
    "  * Conceitos dados por um professor: A,B,C,D;\n",
    "  * Rank dos times de futebol na FIFA;\n",
    "* Dado intervalar: Nível intervalar de medida é como nível ordinal, com a propriedade de que as diferenças entre qualquer dois intervalos é significativa. Estes dados não tem um ponto inicial (zero natural).\n",
    "  * temperatura: $35^oC$, $25^oC$ , a diferença é $10^o$ C. Mas $0^o$ C não significa ausência de calor.\n"
   ]
  },
  {
   "cell_type": "markdown",
   "metadata": {
    "ExecuteTime": {
     "end_time": "2021-02-04T13:19:20.513826Z",
     "start_time": "2021-02-04T13:19:20.501278Z"
    }
   },
   "source": [
    "## Exemplo **iris**"
   ]
  },
  {
   "cell_type": "code",
   "execution_count": 6,
   "metadata": {
    "ExecuteTime": {
     "end_time": "2021-02-05T07:52:51.307989Z",
     "start_time": "2021-02-05T07:52:51.299709Z"
    }
   },
   "outputs": [
    {
     "name": "stdout",
     "output_type": "stream",
     "text": [
      "<class 'pandas.core.frame.DataFrame'>\n",
      "RangeIndex: 150 entries, 0 to 149\n",
      "Data columns (total 5 columns):\n",
      " #   Column             Non-Null Count  Dtype  \n",
      "---  ------             --------------  -----  \n",
      " 0   sepal length (cm)  150 non-null    float64\n",
      " 1   sepal width (cm)   150 non-null    float64\n",
      " 2   petal length (cm)  150 non-null    float64\n",
      " 3   petal width (cm)   150 non-null    float64\n",
      " 4   target             150 non-null    float64\n",
      "dtypes: float64(5)\n",
      "memory usage: 6.0 KB\n"
     ]
    }
   ],
   "source": [
    "df_iris.info()"
   ]
  },
  {
   "cell_type": "markdown",
   "metadata": {
    "ExecuteTime": {
     "end_time": "2021-02-04T13:20:08.809535Z",
     "start_time": "2021-02-04T13:20:08.790582Z"
    }
   },
   "source": [
    "# Atividade\n",
    "Verificar se os tipos de variáveis reportadas pelo pelo comando anterior são exatamente daquele tipo. Exemplo: sepal length (cm) de iris é reportado float e é de fato float pois são valores entre $4.3$ e $7.9$. Portanto, valores reais.\n",
    "\n",
    "* Conhecer os dados é essencial. "
   ]
  },
  {
   "cell_type": "markdown",
   "metadata": {},
   "source": [
    "# Atividade **Boston House Prices**\n",
    "\n",
    "Considere os dados de um conjunto de dados presente na bivlioteca `scikt-learn`, chamada  *Boston House Prices*.\n",
    "\n",
    "Quais as variáveis avaliadas? Qual o tamanho da amostra ? Verificar os tipos de variáveis reportadas pelo Python e a respectiva classificação."
   ]
  },
  {
   "cell_type": "markdown",
   "metadata": {},
   "source": [
    "# Considerações sobre amostra\n",
    "\n",
    "Algumas amostras não são adequadas para se tirar conclusões sobre a população:\n",
    "\n",
    "* Amostra de respostas voluntárias ou auto-selecionada: É aquela em que o os respondentes decidem, eles mesmos, se serão ou não incluídos na amostra. \n",
    "\n",
    "  * Pessoas críticas tendem responder em maior frequência\n",
    "* *(...)despite the fact that the use of a convenience sample does not completely prevents the conduct of a study, it should be in mind that this situation imposes limitations on the interpretation of results, particularly with regard to the generalization of its findings, because it is practically impossible to assess its accuracy* DOI: [http://dx.doi.org/10.7322/jhgd.152198]\n",
    "<!--link do Doi acima: \n",
    "[https://www.google.com/url?sa=t&rct=j&q=&esrc=s&source=web&cd=1&cad=rja&uact=8&ved=2ahUKEwjV2oWrotbmAhX8E7kGHU75CRwQFjAAegQIARAC&url=http%3A%2F%2Fpepsic.bvsalud.org%2Fpdf%2Frbcdh%2Fv28n3%2F17.pdf&usg=AOvVaw2X9cIAX2AbmdCouyT7cW5A]-->"
   ]
  },
  {
   "cell_type": "markdown",
   "metadata": {},
   "source": [
    "# Atividade\n",
    "\n",
    "Quais os problemas que podem ocorrer em uma pesquisa desse tipo? \n",
    "  \n",
    "* Pequenas amostras: Causas de morte em 5 pessoas (3 Infartos, 1 AVC, 1 Cancer)\n",
    "    * Conclusão: 60% das mortes são ocasionadas por infartos.\n",
    "    \n",
    "* Ordem das questões e questões direcionadas: \n",
    "\n",
    "  * Está sendo gasto pouco dinheiro com assistência social: 19% SIM.\n",
    "  * Está sendo gasto pouco dinheiro com assistência aos pobres: 63% SIM.\n",
    "  * O trânsito provoca mais poluição do que a indústria. (45% transito, 27% indústria)\n",
    "  * A indústria provoca mais poluição que o trânsito. (27% transito, 57% indústria)\n",
    "\n",
    "* Parece haver uma tendência  a escolher as ultimas opções da lista.\n",
    "* Dados ausentes, não-resposta, dados dependentes (correlação)\n",
    "* Estudo de interesse próprio: laboratórios farmacêuticos pagam médicos para realizarem experimentos clínicos.\n",
    "* Cenários parciais, distorções deliberadas\n",
    "\n",
    "\n",
    "**Como resolver a questão**\n",
    "\n",
    "* Evitar todos os itens anteriores + ética + estudos + interpretação sem viés + avaliação cautelosa dos resultados (Muito difícil de ser realizado e trabalhoso)\n",
    "* Estudar e ser cauteloso: delinear a pesquisa, definir os tipos de questionários, avaliações que serão executadas, análises, erros envolvidos (Sempre existem!), evitar viés de opinião e influência nas pesquisas\n",
    "* Evitar efetuar a pesquisa de modo a garantir o resultado desejedo (selecionar os grupos por indicação, afinidade, etc.)\n",
    "* Cuidado com a realização do experimento\n",
    "  * Evitar afirmações no sentido Matemático\n",
    "  * Estatística não é Matemática. As afirmações, em geral, possuem relação com a Probabilidade. \n",
    "* Problemas diferentes $\\Rightarrow$ Metodologias de amostragem e realização de experimentos diferentes: necessário dedicação, tempo e recursos financeiros (em geral) para delinear adequadamente experimentos. \n",
    "\n",
    "***\n",
    "\n",
    "* Estudo transversal: Dados coletados em um ponto do tempo.\n",
    "  * Bobak M., Skodova Z. and Marmot M. Beer and obesity: a cross-sectional study. https://www.ncbi.nlm.nih.gov/pubmed/14506485 \n",
    "  * Juliana Zangirolami-Raimundo, Jorge de Oliveira Echeimberg, Claudio Leone, Research methodology topics: Cross-sectional studies, Journal of Human Growth and Development. 2018; 28(3):356-360\n",
    "\n",
    "    * Jane F.Owens, Karen A.Matthews,  Rena R.Wing, Lewis H.Kuller. Physical activity and cardiovascular risk: A cross-sectional study of middle-aged premenopausal women.  Preventive Medicine Volume 19:2, 1990, 147-157. https://doi.org/10.1016/0091-7435(90)90016-D\n",
    "    \n",
    "* Estudo retrospectivo ou controle de caso: Dados são coletados do passado.\n",
    "* Estudo prospectivo, longitudinal ou coorte: Dados são coletados no presente e futuro."
   ]
  },
  {
   "cell_type": "markdown",
   "metadata": {},
   "source": [
    "# Definição\n",
    "\n",
    "**Def:** Confundimento: uma variável extra que você não levou em conta no estudo. Podem arruinar o experimento e tornar o estudo inútil. \n",
    "  * Podem produzir **Falsa Correlação** e Introduzir **Viés**\n",
    "  * Exemplo 01: Estudo para verificar se a falta de exercícios ocasiona ganho de peso. Amostra com 200 voluntários (100 homens e 100 mulheres).\n",
    "  * Exemplo 02: Variável de confundimento\n",
    "![imagem](https://www.students4bestevidence.net/app/uploads/2018/09/Confounding-tutorial-image-2-.jpg)\n",
    "\n",
    "Fonte: https://www.students4bestevidence.net/\n",
    "\n",
    "* Exemplo 3: (Falsa correlação)\n",
    "\n",
    "  * Locais com cegonha possuem alta taxa de natalicade;\n",
    "  * Tomar vitamina E reduz o risco de doenças cardiacas\n",
    "  \n",
    "    https://www.sciencedirect.com/topics/nursing-and-health-professions/confounding-variable\n",
    "  * Exemplo 4: Deixar as luzes acesas aumenta o risco de miopía ? \n",
    "    * doi: 10.4103/0019-5545.33263\n",
    "***\n",
    "\n",
    "Leituras:\n",
    "* Mario F. Triola Elementary Statistics: Updates for the latest technology, 9th Updated Edition 2004.pdf \n",
    "* https://www.statisticshowto.datasciencecentral.com/experimental-design/confounding-variable/"
   ]
  },
  {
   "cell_type": "markdown",
   "metadata": {},
   "source": [
    "# Variavéis de confundimento: \n",
    "Quanto a pessoa come? Existe diferenças entre Sexos? Idade? Nível de atividade Física?  peso inicial?\n",
    "    \n",
    "* **Definição:** Experimento cego (o paciente não sabe que recebe placebo, evita o efeito placebo) \n",
    "* **Definição:**  Experimento duplo-cego (nem pacientes nem médicos sabem quem recebe placebo)\n",
    "***\n",
    "Leitura:\n",
    "* Marcia Meldrum, \"A calculated risk\": the Salk polio vaccine field trials of 1954, BMJ. 1998 Oct 31; 317(7167): 1233–1236. PMCID: PMC1114166\n",
    "*The results, announced in 1955, showed good statistical evidence that Jonas Salk’s killed virus preparation was 80-90% effective in preventing paralytic poliomyelitis."
   ]
  },
  {
   "cell_type": "markdown",
   "metadata": {},
   "source": [
    "# Tipos de amostras (amostragem)\n",
    "\n",
    "* Amostragem aleatória simples: Cada indivíduo tem mesma chance de ser amostrado - Hipótese adotada em (Triola, 2001).\n",
    "* Amostragem sistemática: Cada $k$ indivíduo da população é amostrado.\n",
    "* Amostragem por conveniência: Coleta-se os dados mais fáceis serem amostrado-**não indicado para conclusões gerais sobre a característica de estudo**.\n",
    "* Amostragem por conglomerado: Divide-se a população em blocos e amostra-se os blocos aleatoriamente e todos os indivíduos dentro do bloco são entrevistados.\n",
    "* Amostragem estratificada: Divide-se a população em grupo segundo algum estrato, amostra-se aleatoriamente indivíduos dentro de cada grupo."
   ]
  },
  {
   "cell_type": "markdown",
   "metadata": {},
   "source": [
    "# Atividade\n",
    "\n",
    "Exercícios: Mario F. Triola, Elementary Statistics Technology Update (11th Edition) 11th Edition, Pearson,  2011. "
   ]
  },
  {
   "cell_type": "markdown",
   "metadata": {},
   "source": [
    "# Pontos importantes para entender ao estudar Estatística\n",
    "(Baseado em Joan Garfield, *How Students Learn Statistics*, International Statistical Review (1995), 63,1,25-34. [Tradução livre] )\n",
    "\n",
    "  * Devemos ter ideia de variabilidade dos dados e estatísticas de resumo; \n",
    "  * Distribuições normais são úteis, embora raramente fornecem ajustes perfeitos.\n",
    "  * A utilidade das características da amostra (e inferência feita com essas medidas) depende criticamente sobre como a amostragem é realizada.\n",
    "  * A correlação entre duas variáveis não implica relações de causa e efeito.\n",
    "  * As estatísticas podem ser muito pouco conclusivas, embora possam sugerir coisas e, portanto, conclusões estatísticas não devem ser cegamente aceitas.  "
   ]
  },
  {
   "cell_type": "markdown",
   "metadata": {},
   "source": [
    "# Discussão adicional\n",
    "\n",
    "[Joan Garfield, *How Students Learn Statistics*, International Statistical Review (1995), 63,1,25-34.]\n",
    "\n",
    "In addition to concepts, skills, and types of thinking, most statisticians would probably agree that we also have attitude goals for how we would like student to view statistics as a result of our courses. Such attitude goals include:\n",
    "       \n",
    "1. It is important to learn some fundamentals of statistics in order to better understand and evaluate information in the world.\n",
    "      \n",
    "2. Anyone can learn important ideas of statistics by working hard at it, using good study habits, and working together with others.\n",
    "      \n",
    "3. Learning statistics means learning to communicate using the statistical language, solving statistical problems, drawing conclusions, and supporting conclusions by explaining the reasoning behind them.\n",
    "      \n",
    "4. There are often different ways to solve a statistical problem.\n",
    "      \n",
    "5. People may come to different conclusions based on the same data if they have different assumptions and use different methods of analysis. "
   ]
  },
  {
   "cell_type": "markdown",
   "metadata": {},
   "source": [
    "# Leituras adicionais\n",
    "\n",
    "1. (Cálculo do tamanho da amostra em um estudo específico)\n",
    "- http://dx.doi.org/10.1590/abd1806-4841.20143705\n",
    "      \n",
    "2. (Amostragem em um estudo específico)\n",
    "- http://dx.doi.org/10.1590/abd1806-4841.20165254 \n",
    "\n",
    "3. (Crítica à falta de formalismo no desenvolvimento de pesquisa)\n",
    "- https://psychology.ucdavis.edu/rainbow/html/facts_cameron_survey.html#Error4\n",
    "    \n",
    "4. (Ten common mistakes)   \n",
    "- https://www.ncbi.nlm.nih.gov/pmc/articles/PMC6785265/\n",
    "\n",
    "***\n",
    "\n",
    "As seguintes referências, além daquelas apresentadas no corpo do texto, foram utilizadas para a preparação destas notas. \n",
    "\n",
    "Referências:\n",
    "\n",
    "* Mario Triola, Elementary Statistics: Updates for the latest technology, Pearson-Education, ed.09, 2004.\n",
    "* Notas de aula Prof. Marinho, Curso Estatística Descritiva, Universidade de São Paulo, 2015. \n",
    "* Bussab W.O., Morettin P.A., Estatística Básica, Saraiva, Sao Paulo, 9ed, 2017"
   ]
  }
 ],
 "metadata": {
  "kernelspec": {
   "display_name": "Python 3",
   "language": "python",
   "name": "python3"
  },
  "language_info": {
   "codemirror_mode": {
    "name": "ipython",
    "version": 3
   },
   "file_extension": ".py",
   "mimetype": "text/x-python",
   "name": "python",
   "nbconvert_exporter": "python",
   "pygments_lexer": "ipython3",
   "version": "3.8.5"
  },
  "nbTranslate": {
   "displayLangs": [
    "*"
   ],
   "hotkey": "alt-t",
   "langInMainMenu": true,
   "sourceLang": "en",
   "targetLang": "fr",
   "useGoogleTranslate": true
  },
  "toc": {
   "base_numbering": 1,
   "nav_menu": {},
   "number_sections": true,
   "sideBar": true,
   "skip_h1_title": false,
   "title_cell": "Table of Contents",
   "title_sidebar": "Contents",
   "toc_cell": false,
   "toc_position": {
    "height": "calc(100% - 180px)",
    "left": "10px",
    "top": "150px",
    "width": "264.4px"
   },
   "toc_section_display": true,
   "toc_window_display": true
  }
 },
 "nbformat": 4,
 "nbformat_minor": 4
}
